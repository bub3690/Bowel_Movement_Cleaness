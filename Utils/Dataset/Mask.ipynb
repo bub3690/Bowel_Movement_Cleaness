{
 "cells": [
  {
   "cell_type": "code",
   "execution_count": null,
   "metadata": {},
   "outputs": [],
   "source": [
    "# Seed\n",
    "import cv2\n",
    "import random\n",
    "import numpy as np\n",
    "import matplotlib.pyplot as plt"
   ]
  },
  {
   "cell_type": "code",
   "execution_count": null,
   "metadata": {},
   "outputs": [],
   "source": [
    "VOCROOTDIR = \"../../data/bmc_label_voc_split/\"\n",
    "\n",
    "original_image = cv2.imread(VOCROOTDIR + \"images/train/0001.jpg\")\n",
    "mask_map = cv2.imread(VOCROOTDIR + \"annotations/train/0001.png\")"
   ]
  },
  {
   "cell_type": "code",
   "execution_count": null,
   "metadata": {},
   "outputs": [],
   "source": [
    "mask_map.sum(axis=2)\n",
    "object_mask = mask_map.sum(axis=2) > 0\n",
    "object_mask = np.expand_dims(object_mask,axis=2)"
   ]
  },
  {
   "cell_type": "code",
   "execution_count": null,
   "metadata": {},
   "outputs": [],
   "source": [
    "masked_image = object_mask * original_image"
   ]
  },
  {
   "cell_type": "code",
   "execution_count": null,
   "metadata": {},
   "outputs": [],
   "source": [
    "def show_image(img, title=None):\n",
    "  plt.figure(figsize=(10,5))\n",
    "  plt.imshow(cv2.cvtColor(img, cv2.COLOR_BGR2RGB))\n",
    "\n",
    "  if title:\n",
    "    plt.title(title, fontsize=14)\n",
    "\n",
    "  plt.show()"
   ]
  },
  {
   "cell_type": "code",
   "execution_count": null,
   "metadata": {},
   "outputs": [],
   "source": [
    "show_image(masked_image)"
   ]
  },
  {
   "cell_type": "code",
   "execution_count": 2,
   "metadata": {},
   "outputs": [],
   "source": [
    "from sklearn.model_selection import train_test_split\n",
    "from glob import glob\n",
    "import os\n",
    "import shutil"
   ]
  },
  {
   "cell_type": "code",
   "execution_count": 3,
   "metadata": {},
   "outputs": [],
   "source": [
    "VOCROOTDIR = \"../../data/bmc_label_voc\"\n",
    "bmc_jpg = glob(VOCROOTDIR + \"/JPEGImages/\" + '*.jpg')\n",
    "bmc_segpng = glob(VOCROOTDIR + \"/SegmentationClassPNG/\" + '*.png')"
   ]
  },
  {
   "cell_type": "code",
   "execution_count": 7,
   "metadata": {},
   "outputs": [],
   "source": [
    "data_train, data_val, labels_train, labels_val \\\n",
    "    = train_test_split(bmc_jpg, bmc_segpng, test_size=0.20, random_state=1998)\n"
   ]
  },
  {
   "cell_type": "code",
   "execution_count": 8,
   "metadata": {},
   "outputs": [],
   "source": [
    "SAVEDIR = \"../../data/bmc_label_split_masked\"\n",
    "os.makedirs(SAVEDIR, exist_ok=True)\n",
    "_name = [\"/images\"]\n",
    "for _dir in _name:\n",
    "    os.makedirs(SAVEDIR + _dir, exist_ok=True)\n",
    "    os.makedirs(SAVEDIR + _dir + \"/train\", exist_ok=True)\n",
    "    os.makedirs(SAVEDIR + _dir + \"/val\", exist_ok=True)"
   ]
  },
  {
   "cell_type": "code",
   "execution_count": 9,
   "metadata": {},
   "outputs": [],
   "source": [
    "for idx, _dir in enumerate([\"/train\",\"/val\"]):\n",
    "    if idx == 0: #train\n",
    "        for i,j in zip(data_train,labels_train):\n",
    "            dir = SAVEDIR + _name[0] + \"/train/\"+ i[-8:]\n",
    "\n",
    "            original_image = cv2.imread(i)\n",
    "            mask_map = cv2.imread(j)\n",
    "            mask_map.sum(axis=2)\n",
    "            object_mask = mask_map.sum(axis=2) > 0\n",
    "            object_mask = np.expand_dims(object_mask,axis=2)\n",
    "            masked_image = object_mask * original_image\n",
    "\n",
    "            cv2.imwrite(dir, masked_image)\n",
    "    else: #val\n",
    "        for i,j in zip(data_val,labels_val):\n",
    "            dir = SAVEDIR + _name[0] + \"/val/\"+ i[-8:]\n",
    "            original_image = cv2.imread(i)\n",
    "            mask_map = cv2.imread(j)\n",
    "            mask_map.sum(axis=2)\n",
    "            object_mask = mask_map.sum(axis=2) > 0\n",
    "            object_mask = np.expand_dims(object_mask,axis=2)\n",
    "            masked_image = object_mask * original_image\n",
    "            cv2.imwrite(dir, masked_image)"
   ]
  },
  {
   "cell_type": "code",
   "execution_count": null,
   "metadata": {},
   "outputs": [],
   "source": []
  }
 ],
 "metadata": {
  "kernelspec": {
   "display_name": "Python 3.9.7",
   "language": "python",
   "name": "python3"
  },
  "language_info": {
   "codemirror_mode": {
    "name": "ipython",
    "version": 3
   },
   "file_extension": ".py",
   "mimetype": "text/x-python",
   "name": "python",
   "nbconvert_exporter": "python",
   "pygments_lexer": "ipython3",
   "version": "3.9.7"
  },
  "orig_nbformat": 4,
  "vscode": {
   "interpreter": {
    "hash": "49cb93f377a7abe7414b7b0f21fb3017538004a126cf690fb524202736b7fb92"
   }
  }
 },
 "nbformat": 4,
 "nbformat_minor": 2
}
