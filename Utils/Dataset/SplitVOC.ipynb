{
 "cells": [
  {
   "cell_type": "code",
   "execution_count": 41,
   "metadata": {},
   "outputs": [],
   "source": [
    "from sklearn.model_selection import train_test_split\n",
    "from glob import glob\n",
    "import os\n",
    "import shutil"
   ]
  },
  {
   "cell_type": "code",
   "execution_count": 42,
   "metadata": {},
   "outputs": [],
   "source": [
    "VOCROOTDIR = \"../../data/bmc_label_voc\"\n",
    "bmc_jpg = glob(VOCROOTDIR + \"/JPEGImages/\" + '*.jpg')\n",
    "bmc_segpng = glob(VOCROOTDIR + \"/SegmentationClassPNG/\" + '*.png')"
   ]
  },
  {
   "cell_type": "code",
   "execution_count": 43,
   "metadata": {},
   "outputs": [],
   "source": [
    "random_state = 1013\n",
    "\n",
    "data_train, data_val, labels_train, labels_val \\\n",
    "    = train_test_split(bmc_jpg, bmc_segpng, test_size=0.20, random_state=random_state)\n"
   ]
  },
  {
   "cell_type": "code",
   "execution_count": 44,
   "metadata": {},
   "outputs": [],
   "source": [
    "SAVEDIR = \"../../data/bmc_label_voc_split_\"+str(random_state)\n",
    "os.makedirs(SAVEDIR, exist_ok=True)\n",
    "_name = [\"/images\", \"/annotations\"]\n",
    "for _dir in _name:\n",
    "    os.makedirs(SAVEDIR + _dir, exist_ok=True)\n",
    "    os.makedirs(SAVEDIR + _dir + \"/train\", exist_ok=True)\n",
    "    os.makedirs(SAVEDIR + _dir + \"/val\", exist_ok=True)"
   ]
  },
  {
   "cell_type": "code",
   "execution_count": 45,
   "metadata": {},
   "outputs": [],
   "source": [
    "for idx, _dir in enumerate([\"/train\",\"/val\"]):\n",
    "    if idx == 0: #train\n",
    "        for i in data_train:\n",
    "            shutil.copyfile(i, SAVEDIR + _name[0] + \"/train/\"+ i[-8:])\n",
    "        for i in labels_train:\n",
    "            shutil.copyfile(i, SAVEDIR + _name[1] + \"/train/\"+ i[-8:])\n",
    "    else: #val\n",
    "        for i in data_val:\n",
    "            shutil.copyfile(i, SAVEDIR + _name[0] + \"/val/\"+ i[-8:])\n",
    "        for i in labels_val:\n",
    "            shutil.copyfile(i, SAVEDIR + _name[1] + \"/val/\"+ i[-8:])"
   ]
  },
  {
   "cell_type": "code",
   "execution_count": null,
   "metadata": {},
   "outputs": [],
   "source": []
  }
 ],
 "metadata": {
  "kernelspec": {
   "display_name": "Python 3.9.9 64-bit",
   "language": "python",
   "name": "python3"
  },
  "language_info": {
   "codemirror_mode": {
    "name": "ipython",
    "version": 3
   },
   "file_extension": ".py",
   "mimetype": "text/x-python",
   "name": "python",
   "nbconvert_exporter": "python",
   "pygments_lexer": "ipython3",
   "version": "3.9.9"
  },
  "orig_nbformat": 4,
  "vscode": {
   "interpreter": {
    "hash": "1d5c1156327dacead463cc502c55ebae8ce9c8c01979cf154173ff808e75bf55"
   }
  }
 },
 "nbformat": 4,
 "nbformat_minor": 2
}
