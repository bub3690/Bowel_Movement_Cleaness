{
 "cells": [
  {
   "cell_type": "code",
   "execution_count": 1,
   "metadata": {},
   "outputs": [],
   "source": [
    "from sklearn.model_selection import train_test_split\n",
    "from glob import glob\n",
    "import os\n",
    "import shutil"
   ]
  },
  {
   "cell_type": "code",
   "execution_count": 2,
   "metadata": {},
   "outputs": [],
   "source": [
    "VOCROOTDIR = \"../../data/bmc_label_voc\"\n",
    "bmc_jpg = glob(VOCROOTDIR + \"/JPEGImages/\" + '*.jpg')\n",
    "bmc_segpng = glob(VOCROOTDIR + \"/SegmentationClassPNG/\" + '*.png')"
   ]
  },
  {
   "cell_type": "code",
   "execution_count": 3,
   "metadata": {},
   "outputs": [],
   "source": [
    "data_train, data_val, labels_train, labels_val \\\n",
    "    = train_test_split(bmc_jpg, bmc_segpng, test_size=0.20, random_state=1998)\n"
   ]
  },
  {
   "cell_type": "code",
   "execution_count": 4,
   "metadata": {},
   "outputs": [],
   "source": [
    "SAVEDIR = \"../../data/bmc_label_voc_split\"\n",
    "os.makedirs(SAVEDIR, exist_ok=True)\n",
    "_name = [\"/images\", \"/annotations\"]\n",
    "for _dir in _name:\n",
    "    os.makedirs(SAVEDIR + _dir, exist_ok=True)\n",
    "    os.makedirs(SAVEDIR + _dir + \"/train\", exist_ok=True)\n",
    "    os.makedirs(SAVEDIR + _dir + \"/val\", exist_ok=True)"
   ]
  },
  {
   "cell_type": "code",
   "execution_count": 5,
   "metadata": {},
   "outputs": [],
   "source": [
    "for idx, _dir in enumerate([\"/train\",\"/val\"]):\n",
    "    if idx == 0: #train\n",
    "        for i in data_train:\n",
    "            shutil.copyfile(i, SAVEDIR + _name[0] + \"/train/\"+ i[-8:])\n",
    "        for i in labels_train:\n",
    "            shutil.copyfile(i, SAVEDIR + _name[1] + \"/train/\"+ i[-8:])\n",
    "    else: #val\n",
    "        for i in data_val:\n",
    "            shutil.copyfile(i, SAVEDIR + _name[0] + \"/val/\"+ i[-8:])\n",
    "        for i in labels_val:\n",
    "            shutil.copyfile(i, SAVEDIR + _name[1] + \"/val/\"+ i[-8:])"
   ]
  },
  {
   "cell_type": "code",
   "execution_count": null,
   "metadata": {},
   "outputs": [],
   "source": []
  }
 ],
 "metadata": {
  "kernelspec": {
   "display_name": "Python 3.9.13 ('bmc')",
   "language": "python",
   "name": "python3"
  },
  "language_info": {
   "codemirror_mode": {
    "name": "ipython",
    "version": 3
   },
   "file_extension": ".py",
   "mimetype": "text/x-python",
   "name": "python",
   "nbconvert_exporter": "python",
   "pygments_lexer": "ipython3",
   "version": "3.9.13"
  },
  "orig_nbformat": 4,
  "vscode": {
   "interpreter": {
    "hash": "2e1a742d11fd5a964da76889a77d2ec84a8d00e576721699094d6c66b09849a5"
   }
  }
 },
 "nbformat": 4,
 "nbformat_minor": 2
}
