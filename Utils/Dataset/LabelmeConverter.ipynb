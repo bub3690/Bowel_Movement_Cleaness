{
 "cells": [
  {
   "cell_type": "markdown",
   "metadata": {},
   "source": [
    "### labelme to coco format (for fiftyone)"
   ]
  },
  {
   "cell_type": "code",
   "execution_count": null,
   "metadata": {},
   "outputs": [],
   "source": [
    "# import package\n",
    "import labelme2coco\n",
    "\n",
    "# set directory that contains labelme annotations and image files\n",
    "labelme_folder = \"./data/bmc_label/\"\n",
    "\n",
    "# set export dir\n",
    "export_dir = \"./data/\"\n",
    "\n",
    "# set train split rate\n",
    "train_split_rate = 0.85\n",
    "\n",
    "# convert labelme annotations to coco\n",
    "labelme2coco.convert(labelme_folder, export_dir)#, train_split_rate)"
   ]
  },
  {
   "cell_type": "markdown",
   "metadata": {},
   "source": [
    "### labelme to voc format (for mmsegmentation)"
   ]
  },
  {
   "cell_type": "markdown",
   "metadata": {},
   "source": [
    "\n",
    "~~~\n",
    "cd to BOWEL_MOVEMENT_CLEANESS\\labelme\\examples\\semantic_segmentation\n",
    "~~~\n",
    "\n",
    "edit `label.txt` like below\n",
    "\n",
    "~~~\n",
    "__ignore__\n",
    "_background_\n",
    "0\n",
    "1\n",
    "2\n",
    "~~~\n",
    "\n",
    "excute below"
   ]
  },
  {
   "cell_type": "code",
   "execution_count": null,
   "metadata": {},
   "outputs": [],
   "source": [
    "python ./labelme2voc.py C:\\Users\\mai\\Bowel_Movement_Cleaness\\data\\bmc_label C:\\Users\\mai\\Bowel_Movement_Cleaness\\data\\bmc_label_voc --labels labels.txt"
   ]
  }
 ],
 "metadata": {
  "kernelspec": {
   "display_name": "Python 3.9.12 ('base')",
   "language": "python",
   "name": "python3"
  },
  "language_info": {
   "name": "python",
   "version": "3.9.12"
  },
  "orig_nbformat": 4,
  "vscode": {
   "interpreter": {
    "hash": "f8f95130f7f92af680ca3ed2e4bf8a6c5c05567ef9b08f49d0109dbd1835302c"
   }
  }
 },
 "nbformat": 4,
 "nbformat_minor": 2
}
