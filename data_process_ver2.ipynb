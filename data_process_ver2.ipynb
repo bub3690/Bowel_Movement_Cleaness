{
 "cells": [
  {
   "cell_type": "code",
   "execution_count": 41,
   "id": "1a6eca8f",
   "metadata": {},
   "outputs": [],
   "source": [
    "import pandas as pd\n",
    "import numpy as np\n",
    "from glob import glob\n",
    "import os\n",
    "import shutil\n",
    "from tqdm import tqdm"
   ]
  },
  {
   "cell_type": "markdown",
   "id": "47d6f7a5",
   "metadata": {},
   "source": [
    "### 확장자 처리"
   ]
  },
  {
   "cell_type": "code",
   "execution_count": 42,
   "id": "928b62ca",
   "metadata": {},
   "outputs": [],
   "source": [
    "\n",
    "color_0=glob('./data/2022_05/Color/color_0/*.jpg')\n",
    "color_1=glob('./data/2022_05/Color/color_1/*.jpg')\n",
    "color_2=glob('./data/2022_05/Color/color_2/*.jpg')\n",
    "\n",
    "\n",
    "residue_0=glob('./data/2022_05/Fecal_residue/Residue_0/*.jpg')\n",
    "residue_1=glob('./data/2022_05/Fecal_residue/Residue_1/*.jpg')\n",
    "residue_2=glob('./data/2022_05/Fecal_residue/Residue_2/*.jpg')\n",
    "\n",
    "turbidity_0=glob('./data/2022_05/turbidity/turbidity_0/*.jpg')\n",
    "turbidity_2=glob('./data/2022_05/turbidity/turbidity_2/*.jpg')\n",
    "\n",
    "\n",
    "\n",
    "colors_list = [color_0,color_1,color_2]\n",
    "residue_list = [residue_0,residue_1,residue_2]\n",
    "turbidity_list = [turbidity_0,turbidity_2]\n",
    "\n",
    "\n",
    "for colors in colors_list:\n",
    "    for file in colors:\n",
    "        if file.split('\\\\')[1].split('.')[1] == 'jpg-1':\n",
    "            print(file)\n",
    "            os.rename(file, file.split('.jpg-1')[0]+'.jpg')\n",
    "            os.rename('.'+file.split('.')[1]+'.jpg-1.json' ,file.split('.jpg-1')[0]+'.json') #json 파일 바꾸기\n",
    "            \n",
    "for residues in residue_list:\n",
    "    for file in residues:\n",
    "        if file.split('\\\\')[1].split('.')[1] == 'jpg-1':\n",
    "            print(file)\n",
    "            os.rename(file, file.split('.jpg-1')[0]+'.jpg')\n",
    "            os.rename('.'+file.split('.')[1]+'.jpg-1.json' ,file.split('.jpg-1')[0]+'.json') #json 파일 바꾸기\n",
    "            \n",
    "for turbids in turbidity_list:\n",
    "    for file in turbids:\n",
    "        if file.split('\\\\')[1].split('.')[1] == 'jpg-1':\n",
    "            print(file)\n",
    "            os.rename(file, file.split('.jpg-1')[0]+'.jpg')\n",
    "            os.rename('.'+file.split('.')[1]+'.jpg-1.json' ,file.split('.jpg-1')[0]+'.json') #json 파일 바꾸기\n"
   ]
  },
  {
   "cell_type": "markdown",
   "id": "f3177dbc",
   "metadata": {},
   "source": [
    "# 파일 라벨링 처리"
   ]
  },
  {
   "cell_type": "code",
   "execution_count": 43,
   "id": "365426e1",
   "metadata": {},
   "outputs": [
    {
     "name": "stdout",
     "output_type": "stream",
     "text": [
      "color_0 :  175\n",
      "color_1 :  157\n",
      "color_2 :  752\n",
      "총 샘플 수 : 1084\n"
     ]
    }
   ],
   "source": [
    "color_0=glob('./data/2022_05/Color/color_0/*.jpg')\n",
    "color_1=glob('./data/2022_05/Color/color_1/*.jpg')\n",
    "color_2=glob('./data/2022_05/Color/color_2/*.jpg')\n",
    "\n",
    "print(\"color_0 : \",len(color_0))\n",
    "print(\"color_1 : \",len(color_1))\n",
    "print(\"color_2 : \",len(color_2))\n",
    "print(\"총 샘플 수 :\",len(color_0)+len(color_1)+len(color_2) )"
   ]
  },
  {
   "cell_type": "code",
   "execution_count": 44,
   "id": "4179c1f8",
   "metadata": {},
   "outputs": [
    {
     "name": "stdout",
     "output_type": "stream",
     "text": [
      "residue_0 :  233\n",
      "residue_1 :  320\n",
      "residue_2 :  531\n",
      "총 샘플 수 : 1084\n"
     ]
    }
   ],
   "source": [
    "residue_0=glob('./data/2022_05/Fecal_residue/Residue_0/*.jpg')\n",
    "residue_1=glob('./data/2022_05/Fecal_residue/Residue_1/*.jpg')\n",
    "residue_2=glob('./data/2022_05/Fecal_residue/Residue_2/*.jpg')\n",
    "\n",
    "print(\"residue_0 : \",len(residue_0))\n",
    "print(\"residue_1 : \",len(residue_1))\n",
    "print(\"residue_2 : \",len(residue_2))\n",
    "print(\"총 샘플 수 :\",len(residue_0)+len(residue_1)+len(residue_2) )"
   ]
  },
  {
   "cell_type": "code",
   "execution_count": 45,
   "id": "d30c78d3",
   "metadata": {},
   "outputs": [
    {
     "name": "stdout",
     "output_type": "stream",
     "text": [
      "turbidity_0 :  454\n",
      "turbidity_2 :  632\n",
      "총 샘플 수 : 1086\n"
     ]
    }
   ],
   "source": [
    "turbidity_0=glob('./data/2022_05/turbidity/turbidity_0/*.jpg')\n",
    "turbidity_2=glob('./data/2022_05/turbidity/turbidity_2/*.jpg')\n",
    "\n",
    "print(\"turbidity_0 : \",len(turbidity_0))\n",
    "print(\"turbidity_2 : \",len(turbidity_2))\n",
    "print(\"총 샘플 수 :\",len(turbidity_0)+len(turbidity_2))"
   ]
  },
  {
   "cell_type": "markdown",
   "id": "53435da9",
   "metadata": {},
   "source": [
    "---\n",
    "### 파일 목록 가져오기\n",
    "color 기준"
   ]
  },
  {
   "cell_type": "code",
   "execution_count": 46,
   "id": "e5fe6155",
   "metadata": {},
   "outputs": [],
   "source": [
    "from collections import defaultdict\n",
    "image_list = defaultdict(list) #[color/Fecal_residue/turbidity]"
   ]
  },
  {
   "cell_type": "markdown",
   "id": "ac4b0fc4",
   "metadata": {},
   "source": [
    "### Color"
   ]
  },
  {
   "cell_type": "code",
   "execution_count": 47,
   "id": "c5d4a8b2",
   "metadata": {},
   "outputs": [],
   "source": [
    "colors_list = [color_0,color_1,color_2]\n",
    "\n",
    "for val, colors in enumerate(colors_list):\n",
    "    origin_names = [color.split(\"\\\\\")[1].split('.')[0] for color in colors ]\n",
    "\n",
    "    for name in origin_names:\n",
    "        image_list[name].append(val)"
   ]
  },
  {
   "cell_type": "markdown",
   "id": "63f30afd",
   "metadata": {},
   "source": [
    "### Fecal_residue"
   ]
  },
  {
   "cell_type": "code",
   "execution_count": 48,
   "id": "18d2f4e5",
   "metadata": {},
   "outputs": [],
   "source": [
    "residue_list = [residue_0,residue_1,residue_2]\n",
    "\n",
    "for val, residues in enumerate(residue_list):\n",
    "    origin_names = [residue.split(\"\\\\\")[1].split('.')[0] for residue in residues ]\n",
    "\n",
    "    for name in origin_names:\n",
    "        image_list[name].append(val)"
   ]
  },
  {
   "cell_type": "markdown",
   "id": "7d8e00a7",
   "metadata": {},
   "source": [
    "### turbidity"
   ]
  },
  {
   "cell_type": "code",
   "execution_count": 49,
   "id": "62e14139",
   "metadata": {},
   "outputs": [],
   "source": [
    "turbidity_list = [turbidity_0,turbidity_2]\n",
    "\n",
    "for val, turbiditys in enumerate(turbidity_list):\n",
    "    origin_names = [turbidity.split(\"\\\\\")[1].split('.')[0] for turbidity in turbiditys]\n",
    "\n",
    "    for name in origin_names:\n",
    "        image_list[name].append(val)"
   ]
  },
  {
   "cell_type": "markdown",
   "id": "261ba38f",
   "metadata": {},
   "source": [
    "### pandas"
   ]
  },
  {
   "cell_type": "code",
   "execution_count": 50,
   "id": "b85bac62",
   "metadata": {},
   "outputs": [
    {
     "name": "stdout",
     "output_type": "stream",
     "text": [
      "not enough data :  IMG_20211119_012144_1\n",
      "not enough data :  IMG_20210303_161015_1\n",
      "not enough data :  IMG_20200510_205628\n",
      "not enough data :  IMG_20200510_213649\n"
     ]
    }
   ],
   "source": [
    "df = {\"origin_name\":[], \"color\":[], \"residue\" : [], \"turbidity\":[]}\n",
    "\n",
    "for key, val in image_list.items():\n",
    "    if(len(val) == 3):\n",
    "        df[\"origin_name\"].append(key)\n",
    "        df[\"color\"].append(val[0])\n",
    "        df[\"residue\"].append(val[1])\n",
    "        df[\"turbidity\"].append(val[2])\n",
    "    else:\n",
    "        print(\"not enough data : \", key)\n",
    "df = pd.DataFrame.from_dict(df)"
   ]
  },
  {
   "cell_type": "code",
   "execution_count": 51,
   "id": "cc356537",
   "metadata": {},
   "outputs": [
    {
     "data": {
      "text/html": [
       "<div>\n",
       "<style scoped>\n",
       "    .dataframe tbody tr th:only-of-type {\n",
       "        vertical-align: middle;\n",
       "    }\n",
       "\n",
       "    .dataframe tbody tr th {\n",
       "        vertical-align: top;\n",
       "    }\n",
       "\n",
       "    .dataframe thead th {\n",
       "        text-align: right;\n",
       "    }\n",
       "</style>\n",
       "<table border=\"1\" class=\"dataframe\">\n",
       "  <thead>\n",
       "    <tr style=\"text-align: right;\">\n",
       "      <th></th>\n",
       "      <th>origin_name</th>\n",
       "      <th>color</th>\n",
       "      <th>residue</th>\n",
       "      <th>turbidity</th>\n",
       "    </tr>\n",
       "  </thead>\n",
       "  <tbody>\n",
       "    <tr>\n",
       "      <th>0</th>\n",
       "      <td>1301837407-1</td>\n",
       "      <td>0</td>\n",
       "      <td>0</td>\n",
       "      <td>0</td>\n",
       "    </tr>\n",
       "    <tr>\n",
       "      <th>1</th>\n",
       "      <td>1411450810-1</td>\n",
       "      <td>0</td>\n",
       "      <td>0</td>\n",
       "      <td>0</td>\n",
       "    </tr>\n",
       "    <tr>\n",
       "      <th>2</th>\n",
       "      <td>1651193832-1</td>\n",
       "      <td>0</td>\n",
       "      <td>0</td>\n",
       "      <td>0</td>\n",
       "    </tr>\n",
       "    <tr>\n",
       "      <th>3</th>\n",
       "      <td>2077897036-1</td>\n",
       "      <td>0</td>\n",
       "      <td>0</td>\n",
       "      <td>0</td>\n",
       "    </tr>\n",
       "    <tr>\n",
       "      <th>4</th>\n",
       "      <td>290980310-1</td>\n",
       "      <td>0</td>\n",
       "      <td>1</td>\n",
       "      <td>0</td>\n",
       "    </tr>\n",
       "    <tr>\n",
       "      <th>...</th>\n",
       "      <td>...</td>\n",
       "      <td>...</td>\n",
       "      <td>...</td>\n",
       "      <td>...</td>\n",
       "    </tr>\n",
       "    <tr>\n",
       "      <th>1077</th>\n",
       "      <td>PANO_20200407_221523</td>\n",
       "      <td>2</td>\n",
       "      <td>2</td>\n",
       "      <td>1</td>\n",
       "    </tr>\n",
       "    <tr>\n",
       "      <th>1078</th>\n",
       "      <td>PANO_20200407_221527</td>\n",
       "      <td>2</td>\n",
       "      <td>2</td>\n",
       "      <td>1</td>\n",
       "    </tr>\n",
       "    <tr>\n",
       "      <th>1079</th>\n",
       "      <td>PANO_20200818_174909</td>\n",
       "      <td>2</td>\n",
       "      <td>2</td>\n",
       "      <td>1</td>\n",
       "    </tr>\n",
       "    <tr>\n",
       "      <th>1080</th>\n",
       "      <td>PANO_20210330_062718</td>\n",
       "      <td>2</td>\n",
       "      <td>2</td>\n",
       "      <td>1</td>\n",
       "    </tr>\n",
       "    <tr>\n",
       "      <th>1081</th>\n",
       "      <td>tmp_1610355667809</td>\n",
       "      <td>2</td>\n",
       "      <td>2</td>\n",
       "      <td>1</td>\n",
       "    </tr>\n",
       "  </tbody>\n",
       "</table>\n",
       "<p>1082 rows × 4 columns</p>\n",
       "</div>"
      ],
      "text/plain": [
       "               origin_name  color  residue  turbidity\n",
       "0             1301837407-1      0        0          0\n",
       "1             1411450810-1      0        0          0\n",
       "2             1651193832-1      0        0          0\n",
       "3             2077897036-1      0        0          0\n",
       "4              290980310-1      0        1          0\n",
       "...                    ...    ...      ...        ...\n",
       "1077  PANO_20200407_221523      2        2          1\n",
       "1078  PANO_20200407_221527      2        2          1\n",
       "1079  PANO_20200818_174909      2        2          1\n",
       "1080  PANO_20210330_062718      2        2          1\n",
       "1081     tmp_1610355667809      2        2          1\n",
       "\n",
       "[1082 rows x 4 columns]"
      ]
     },
     "execution_count": 51,
     "metadata": {},
     "output_type": "execute_result"
    }
   ],
   "source": [
    "df.to_csv(\"./bmc.csv\")\n",
    "df"
   ]
  },
  {
   "cell_type": "code",
   "execution_count": 52,
   "id": "c8079909",
   "metadata": {},
   "outputs": [],
   "source": [
    "# color 기준\n",
    "DATASET_PATH = './data/2022_05/Color'\n",
    "NEW_PATH = './data/bmc/'"
   ]
  },
  {
   "cell_type": "code",
   "execution_count": 53,
   "id": "d54d4255",
   "metadata": {},
   "outputs": [],
   "source": [
    "os.makedirs(NEW_PATH, exist_ok=True)"
   ]
  },
  {
   "cell_type": "code",
   "execution_count": 54,
   "id": "1820ba02",
   "metadata": {},
   "outputs": [
    {
     "name": "stderr",
     "output_type": "stream",
     "text": [
      "1082it [00:04, 249.76it/s]\n"
     ]
    }
   ],
   "source": [
    "folders = os.listdir(DATASET_PATH)\n",
    "for idx, val in tqdm(df.iterrows()):\n",
    "    if(val[\"color\"] == 0):\n",
    "        copy_from = os.path.join(DATASET_PATH, folders[0], val['origin_name'])\n",
    "    elif(val[\"color\"] == 1):\n",
    "        copy_from = os.path.join(DATASET_PATH, folders[1], val['origin_name'])\n",
    "    else:\n",
    "        copy_from = os.path.join(DATASET_PATH, folders[2], val['origin_name'])\n",
    "    copy_to = NEW_PATH + f'/{idx:04}.jpg'\n",
    "    shutil.copyfile(copy_from + \".jpg\", copy_to)\n",
    "    copy_to = NEW_PATH + f'/{idx:04}.json'\n",
    "    shutil.copyfile(copy_from + \".json\", copy_to)"
   ]
  },
  {
   "cell_type": "markdown",
   "id": "0a8c0ecf",
   "metadata": {},
   "source": [
    "### json 수정"
   ]
  },
  {
   "cell_type": "code",
   "execution_count": 55,
   "id": "999abb0c",
   "metadata": {},
   "outputs": [],
   "source": [
    "import json"
   ]
  },
  {
   "cell_type": "code",
   "execution_count": 56,
   "id": "918365a6",
   "metadata": {},
   "outputs": [],
   "source": [
    "bmc_json = glob(NEW_PATH + '*.json')"
   ]
  },
  {
   "cell_type": "code",
   "execution_count": 57,
   "id": "2048bc78",
   "metadata": {},
   "outputs": [
    {
     "name": "stdout",
     "output_type": "stream",
     "text": [
      "0000\n",
      "./data/bmc\\0000.json\n"
     ]
    },
    {
     "ename": "TypeError",
     "evalue": "dump() missing 1 required positional argument: 'fp'",
     "output_type": "error",
     "traceback": [
      "\u001b[1;31m---------------------------------------------------------------------------\u001b[0m",
      "\u001b[1;31mTypeError\u001b[0m                                 Traceback (most recent call last)",
      "\u001b[1;32mc:\\Users\\mai\\Bowel_Movement_Cleaness\\data_process_ver2.ipynb 셀 25\u001b[0m in \u001b[0;36m<cell line: 1>\u001b[1;34m()\u001b[0m\n\u001b[0;32m      <a href='vscode-notebook-cell:/c%3A/Users/mai/Bowel_Movement_Cleaness/data_process_ver2.ipynb#X36sZmlsZQ%3D%3D?line=5'>6</a>\u001b[0m json_data[\u001b[39m\"\u001b[39m\u001b[39mimagePath\u001b[39m\u001b[39m\"\u001b[39m] \u001b[39m=\u001b[39m i[\u001b[39m-\u001b[39m\u001b[39m9\u001b[39m:\u001b[39m-\u001b[39m\u001b[39m5\u001b[39m] \u001b[39m+\u001b[39m \u001b[39m'\u001b[39m\u001b[39m.jpg\u001b[39m\u001b[39m'\u001b[39m\n\u001b[0;32m      <a href='vscode-notebook-cell:/c%3A/Users/mai/Bowel_Movement_Cleaness/data_process_ver2.ipynb#X36sZmlsZQ%3D%3D?line=6'>7</a>\u001b[0m \u001b[39mwith\u001b[39;00m \u001b[39mopen\u001b[39m(i, \u001b[39m'\u001b[39m\u001b[39mw\u001b[39m\u001b[39m'\u001b[39m, encoding\u001b[39m=\u001b[39m\u001b[39m'\u001b[39m\u001b[39mutf-8\u001b[39m\u001b[39m'\u001b[39m) \u001b[39mas\u001b[39;00m f:\n\u001b[1;32m----> <a href='vscode-notebook-cell:/c%3A/Users/mai/Bowel_Movement_Cleaness/data_process_ver2.ipynb#X36sZmlsZQ%3D%3D?line=7'>8</a>\u001b[0m     json\u001b[39m.\u001b[39;49mdump(json_data)\n",
      "\u001b[1;31mTypeError\u001b[0m: dump() missing 1 required positional argument: 'fp'"
     ]
    }
   ],
   "source": [
    "for i in bmc_json:\n",
    "    print(i[-9:-5])\n",
    "    print(i)\n",
    "    with open(i, 'r', encoding='utf-8') as f:\n",
    "        json_data = json.load(f)\n",
    "    json_data[\"imagePath\"] = i[-9:-5] + '.jpg'\n",
    "    with open(i, 'w', encoding='utf-8') as f:\n",
    "        json.dump(json_data, f, indent=\"\\t\")\n",
    "\n",
    "        # pass#json.dump(json_data, make_file, indent=\"\\t\")\n",
    "    "
   ]
  },
  {
   "cell_type": "code",
   "execution_count": 36,
   "id": "7d5f8e89",
   "metadata": {},
   "outputs": [
    {
     "data": {
      "text/plain": [
       "'./data/bmc\\\\0001.json'"
      ]
     },
     "execution_count": 36,
     "metadata": {},
     "output_type": "execute_result"
    }
   ],
   "source": [
    "bmc_json[1]"
   ]
  },
  {
   "cell_type": "code",
   "execution_count": 37,
   "id": "52762bc8",
   "metadata": {},
   "outputs": [
    {
     "name": "stdout",
     "output_type": "stream",
     "text": [
      "{'version': '5.0.1', 'flags': {}, 'shapes': [{'label': '1', 'points': [[247.93617021276594, 310.2765957446808], [226.65957446808508, 423.04255319148933], [275.59574468085106, 523.0425531914893], [401.12765957446805, 563.4680851063829], [554.3191489361702, 567.7234042553191], [656.4468085106382, 501.76595744680844], [684.1063829787233, 367.7234042553191], [609.6382978723403, 286.8723404255319], [441.55319148936167, 233.68085106382978], [322.40425531914894, 254.95744680851055]], 'group_id': None, 'shape_type': 'polygon', 'flags': {}}], 'imagePath': '1411450810-1.jpg', 'imageData': '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', 'imageHeight': 780, 'imageWidth': 1040}\n"
     ]
    }
   ],
   "source": [
    "with open(bmc_json[1], 'r', encoding='utf-8') as f:\n",
    "    my_data = json.load(f)\n",
    "    \n",
    "    print(my_data)"
   ]
  },
  {
   "cell_type": "code",
   "execution_count": null,
   "id": "f1060b12",
   "metadata": {},
   "outputs": [],
   "source": []
  }
 ],
 "metadata": {
  "kernelspec": {
   "display_name": "Python 3.9.12 ('base')",
   "language": "python",
   "name": "python3"
  },
  "language_info": {
   "codemirror_mode": {
    "name": "ipython",
    "version": 3
   },
   "file_extension": ".py",
   "mimetype": "text/x-python",
   "name": "python",
   "nbconvert_exporter": "python",
   "pygments_lexer": "ipython3",
   "version": "3.9.12"
  },
  "toc": {
   "base_numbering": 1,
   "nav_menu": {},
   "number_sections": true,
   "sideBar": true,
   "skip_h1_title": false,
   "title_cell": "Table of Contents",
   "title_sidebar": "Contents",
   "toc_cell": false,
   "toc_position": {},
   "toc_section_display": true,
   "toc_window_display": false
  },
  "vscode": {
   "interpreter": {
    "hash": "f8f95130f7f92af680ca3ed2e4bf8a6c5c05567ef9b08f49d0109dbd1835302c"
   }
  }
 },
 "nbformat": 4,
 "nbformat_minor": 5
}
