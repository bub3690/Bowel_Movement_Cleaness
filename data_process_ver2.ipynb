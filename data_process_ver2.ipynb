{
 "cells": [
  {
   "cell_type": "code",
   "execution_count": 86,
   "id": "1a6eca8f",
   "metadata": {},
   "outputs": [],
   "source": [
    "import pandas as pd\n",
    "import numpy as np\n",
    "from glob import glob\n",
    "import os\n",
    "import shutil\n",
    "from tqdm import tqdm"
   ]
  },
  {
   "cell_type": "markdown",
   "id": "47d6f7a5",
   "metadata": {},
   "source": [
    "### 확장자 처리"
   ]
  },
  {
   "cell_type": "code",
   "execution_count": 4,
   "id": "928b62ca",
   "metadata": {},
   "outputs": [],
   "source": [
    "\n",
    "color_0=glob('./data/2022_05/Color/color_0/*.jpg')\n",
    "color_1=glob('./data/2022_05/Color/color_1/*.jpg')\n",
    "color_2=glob('./data/2022_05/Color/color_2/*.jpg')\n",
    "\n",
    "\n",
    "residue_0=glob('./data/2022_05/Fecal_residue/Residue_0/*.jpg')\n",
    "residue_1=glob('./data/2022_05/Fecal_residue/Residue_1/*.jpg')\n",
    "residue_2=glob('./data/2022_05/Fecal_residue/Residue_2/*.jpg')\n",
    "\n",
    "turbidity_0=glob('./data/2022_05/turbidity/turbidity_0/*.jpg')\n",
    "turbidity_2=glob('./data/2022_05/turbidity/turbidity_2/*.jpg')\n",
    "\n",
    "\n",
    "\n",
    "colors_list = [color_0,color_1,color_2]\n",
    "residue_list = [residue_0,residue_1,residue_2]\n",
    "turbidity_list = [turbidity_0,turbidity_2]\n",
    "\n",
    "\n",
    "for colors in colors_list:\n",
    "    for file in colors:\n",
    "        if file.split('\\\\')[1].split('.')[1] == 'jpg-1':\n",
    "            print(file)\n",
    "            os.rename(file, file.split('.jpg-1')[0]+'.jpg')\n",
    "            os.rename('.'+file.split('.')[1]+'.jpg-1.json' ,file.split('.jpg-1')[0]+'.json') #json 파일 바꾸기\n",
    "            \n",
    "for residues in residue_list:\n",
    "    for file in residues:\n",
    "        if file.split('\\\\')[1].split('.')[1] == 'jpg-1':\n",
    "            print(file)\n",
    "            os.rename(file, file.split('.jpg-1')[0]+'.jpg')\n",
    "            os.rename('.'+file.split('.')[1]+'.jpg-1.json' ,file.split('.jpg-1')[0]+'.json') #json 파일 바꾸기\n",
    "            \n",
    "for turbids in turbidity_list:\n",
    "    for file in turbids:\n",
    "        if file.split('\\\\')[1].split('.')[1] == 'jpg-1':\n",
    "            print(file)\n",
    "            os.rename(file, file.split('.jpg-1')[0]+'.jpg')\n",
    "            os.rename('.'+file.split('.')[1]+'.jpg-1.json' ,file.split('.jpg-1')[0]+'.json') #json 파일 바꾸기\n"
   ]
  },
  {
   "cell_type": "markdown",
   "id": "f3177dbc",
   "metadata": {},
   "source": [
    "# 파일 라벨링 처리"
   ]
  },
  {
   "cell_type": "code",
   "execution_count": 18,
   "id": "365426e1",
   "metadata": {},
   "outputs": [
    {
     "name": "stdout",
     "output_type": "stream",
     "text": [
      "color_0 :  175\n",
      "color_1 :  157\n",
      "color_2 :  752\n",
      "총 샘플 수 : 1084\n"
     ]
    }
   ],
   "source": [
    "color_0=glob('./data/2022_05/Color/color_0/*.jpg')\n",
    "color_1=glob('./data/2022_05/Color/color_1/*.jpg')\n",
    "color_2=glob('./data/2022_05/Color/color_2/*.jpg')\n",
    "\n",
    "print(\"color_0 : \",len(color_0))\n",
    "print(\"color_1 : \",len(color_1))\n",
    "print(\"color_2 : \",len(color_2))\n",
    "print(\"총 샘플 수 :\",len(color_0)+len(color_1)+len(color_2) )"
   ]
  },
  {
   "cell_type": "code",
   "execution_count": 19,
   "id": "4179c1f8",
   "metadata": {},
   "outputs": [
    {
     "name": "stdout",
     "output_type": "stream",
     "text": [
      "residue_0 :  233\n",
      "residue_1 :  320\n",
      "residue_2 :  531\n",
      "총 샘플 수 : 1084\n"
     ]
    }
   ],
   "source": [
    "residue_0=glob('./data/2022_05/Fecal_residue/Residue_0/*.jpg')\n",
    "residue_1=glob('./data/2022_05/Fecal_residue/Residue_1/*.jpg')\n",
    "residue_2=glob('./data/2022_05/Fecal_residue/Residue_2/*.jpg')\n",
    "\n",
    "print(\"residue_0 : \",len(residue_0))\n",
    "print(\"residue_1 : \",len(residue_1))\n",
    "print(\"residue_2 : \",len(residue_2))\n",
    "print(\"총 샘플 수 :\",len(residue_0)+len(residue_1)+len(residue_2) )"
   ]
  },
  {
   "cell_type": "code",
   "execution_count": 27,
   "id": "d30c78d3",
   "metadata": {},
   "outputs": [
    {
     "name": "stdout",
     "output_type": "stream",
     "text": [
      "turbidity_0 :  454\n",
      "turbidity_2 :  632\n",
      "총 샘플 수 : 1086\n"
     ]
    }
   ],
   "source": [
    "turbidity_0=glob('./data/2022_05/turbidity/turbidity_0/*.jpg')\n",
    "turbidity_2=glob('./data/2022_05/turbidity/turbidity_2/*.jpg')\n",
    "\n",
    "print(\"turbidity_0 : \",len(turbidity_0))\n",
    "print(\"turbidity_2 : \",len(turbidity_2))\n",
    "print(\"총 샘플 수 :\",len(turbidity_0)+len(turbidity_2))"
   ]
  },
  {
   "cell_type": "markdown",
   "id": "53435da9",
   "metadata": {},
   "source": [
    "---\n",
    "### 파일 목록 가져오기\n",
    "color 기준"
   ]
  },
  {
   "cell_type": "code",
   "execution_count": 28,
   "id": "e5fe6155",
   "metadata": {},
   "outputs": [],
   "source": [
    "from collections import defaultdict\n",
    "image_list = defaultdict(list) #[color/Fecal_residue/turbidity]"
   ]
  },
  {
   "cell_type": "markdown",
   "id": "ac4b0fc4",
   "metadata": {},
   "source": [
    "### Color"
   ]
  },
  {
   "cell_type": "code",
   "execution_count": 29,
   "id": "c5d4a8b2",
   "metadata": {},
   "outputs": [],
   "source": [
    "colors_list = [color_0,color_1,color_2]\n",
    "\n",
    "for val, colors in enumerate(colors_list):\n",
    "    origin_names = [color.split(\"\\\\\")[1].split('.')[0] for color in colors ]\n",
    "\n",
    "    for name in origin_names:\n",
    "        image_list[name].append(val)"
   ]
  },
  {
   "cell_type": "markdown",
   "id": "63f30afd",
   "metadata": {},
   "source": [
    "### Fecal_residue"
   ]
  },
  {
   "cell_type": "code",
   "execution_count": 30,
   "id": "18d2f4e5",
   "metadata": {},
   "outputs": [],
   "source": [
    "residue_list = [residue_0,residue_1,residue_2]\n",
    "\n",
    "for val, residues in enumerate(residue_list):\n",
    "    origin_names = [residue.split(\"\\\\\")[1].split('.')[0] for residue in residues ]\n",
    "\n",
    "    for name in origin_names:\n",
    "        image_list[name].append(val)"
   ]
  },
  {
   "cell_type": "markdown",
   "id": "7d8e00a7",
   "metadata": {},
   "source": [
    "### turbidity"
   ]
  },
  {
   "cell_type": "code",
   "execution_count": 31,
   "id": "62e14139",
   "metadata": {},
   "outputs": [],
   "source": [
    "turbidity_list = [turbidity_0,turbidity_2]\n",
    "\n",
    "for val, turbiditys in enumerate(turbidity_list):\n",
    "    origin_names = [turbidity.split(\"\\\\\")[1].split('.')[0] for turbidity in turbiditys]\n",
    "\n",
    "    for name in origin_names:\n",
    "        image_list[name].append(val)"
   ]
  },
  {
   "cell_type": "markdown",
   "id": "261ba38f",
   "metadata": {},
   "source": [
    "### pandas"
   ]
  },
  {
   "cell_type": "code",
   "execution_count": 98,
   "id": "b85bac62",
   "metadata": {},
   "outputs": [
    {
     "name": "stdout",
     "output_type": "stream",
     "text": [
      "not enough data :  IMG_20211119_012144_1\n",
      "not enough data :  IMG_20210303_161015_1\n",
      "not enough data :  IMG_20200510_205628\n",
      "not enough data :  IMG_20200510_213649\n"
     ]
    }
   ],
   "source": [
    "df = {\"origin_name\":[], \"color\":[], \"residue\" : [], \"turbidity\":[]}\n",
    "\n",
    "for key, val in image_list.items():\n",
    "    if(len(val) == 3):\n",
    "        df[\"origin_name\"].append(key)\n",
    "        df[\"color\"].append(val[0])\n",
    "        df[\"residue\"].append(val[1])\n",
    "        df[\"turbidity\"].append(val[2])\n",
    "    else:\n",
    "        print(\"not enough data : \", key)\n",
    "df = pd.DataFrame.from_dict(df)"
   ]
  },
  {
   "cell_type": "code",
   "execution_count": 56,
   "id": "cc356537",
   "metadata": {},
   "outputs": [
    {
     "data": {
      "text/html": [
       "<div>\n",
       "<style scoped>\n",
       "    .dataframe tbody tr th:only-of-type {\n",
       "        vertical-align: middle;\n",
       "    }\n",
       "\n",
       "    .dataframe tbody tr th {\n",
       "        vertical-align: top;\n",
       "    }\n",
       "\n",
       "    .dataframe thead th {\n",
       "        text-align: right;\n",
       "    }\n",
       "</style>\n",
       "<table border=\"1\" class=\"dataframe\">\n",
       "  <thead>\n",
       "    <tr style=\"text-align: right;\">\n",
       "      <th></th>\n",
       "      <th>origin_name</th>\n",
       "      <th>color</th>\n",
       "      <th>residue</th>\n",
       "      <th>turbidity</th>\n",
       "    </tr>\n",
       "  </thead>\n",
       "  <tbody>\n",
       "    <tr>\n",
       "      <th>0</th>\n",
       "      <td>1301837407-1</td>\n",
       "      <td>0</td>\n",
       "      <td>0</td>\n",
       "      <td>0</td>\n",
       "    </tr>\n",
       "    <tr>\n",
       "      <th>1</th>\n",
       "      <td>1411450810-1</td>\n",
       "      <td>0</td>\n",
       "      <td>0</td>\n",
       "      <td>0</td>\n",
       "    </tr>\n",
       "    <tr>\n",
       "      <th>2</th>\n",
       "      <td>1651193832-1</td>\n",
       "      <td>0</td>\n",
       "      <td>0</td>\n",
       "      <td>0</td>\n",
       "    </tr>\n",
       "    <tr>\n",
       "      <th>3</th>\n",
       "      <td>2077897036-1</td>\n",
       "      <td>0</td>\n",
       "      <td>0</td>\n",
       "      <td>0</td>\n",
       "    </tr>\n",
       "    <tr>\n",
       "      <th>4</th>\n",
       "      <td>290980310-1</td>\n",
       "      <td>0</td>\n",
       "      <td>1</td>\n",
       "      <td>0</td>\n",
       "    </tr>\n",
       "    <tr>\n",
       "      <th>...</th>\n",
       "      <td>...</td>\n",
       "      <td>...</td>\n",
       "      <td>...</td>\n",
       "      <td>...</td>\n",
       "    </tr>\n",
       "    <tr>\n",
       "      <th>1077</th>\n",
       "      <td>PANO_20200407_221523</td>\n",
       "      <td>2</td>\n",
       "      <td>2</td>\n",
       "      <td>1</td>\n",
       "    </tr>\n",
       "    <tr>\n",
       "      <th>1078</th>\n",
       "      <td>PANO_20200407_221527</td>\n",
       "      <td>2</td>\n",
       "      <td>2</td>\n",
       "      <td>1</td>\n",
       "    </tr>\n",
       "    <tr>\n",
       "      <th>1079</th>\n",
       "      <td>PANO_20200818_174909</td>\n",
       "      <td>2</td>\n",
       "      <td>2</td>\n",
       "      <td>1</td>\n",
       "    </tr>\n",
       "    <tr>\n",
       "      <th>1080</th>\n",
       "      <td>PANO_20210330_062718</td>\n",
       "      <td>2</td>\n",
       "      <td>2</td>\n",
       "      <td>1</td>\n",
       "    </tr>\n",
       "    <tr>\n",
       "      <th>1081</th>\n",
       "      <td>tmp_1610355667809</td>\n",
       "      <td>2</td>\n",
       "      <td>2</td>\n",
       "      <td>1</td>\n",
       "    </tr>\n",
       "  </tbody>\n",
       "</table>\n",
       "<p>1082 rows × 4 columns</p>\n",
       "</div>"
      ],
      "text/plain": [
       "               origin_name  color  residue  turbidity\n",
       "0             1301837407-1      0        0          0\n",
       "1             1411450810-1      0        0          0\n",
       "2             1651193832-1      0        0          0\n",
       "3             2077897036-1      0        0          0\n",
       "4              290980310-1      0        1          0\n",
       "...                    ...    ...      ...        ...\n",
       "1077  PANO_20200407_221523      2        2          1\n",
       "1078  PANO_20200407_221527      2        2          1\n",
       "1079  PANO_20200818_174909      2        2          1\n",
       "1080  PANO_20210330_062718      2        2          1\n",
       "1081     tmp_1610355667809      2        2          1\n",
       "\n",
       "[1082 rows x 4 columns]"
      ]
     },
     "execution_count": 56,
     "metadata": {},
     "output_type": "execute_result"
    }
   ],
   "source": [
    "df.to_csv(\"./bmc.csv\")\n",
    "df"
   ]
  },
  {
   "cell_type": "code",
   "execution_count": 95,
   "id": "c8079909",
   "metadata": {},
   "outputs": [],
   "source": [
    "# color 기준\n",
    "DATASET_PATH = './data/2022_05/Color'\n",
    "NEW_PATH = './data/bmc/'"
   ]
  },
  {
   "cell_type": "code",
   "execution_count": 96,
   "id": "d54d4255",
   "metadata": {},
   "outputs": [],
   "source": [
    "os.makedirs(NEW_PATH, exist_ok=True)"
   ]
  },
  {
   "cell_type": "code",
   "execution_count": 97,
   "id": "1820ba02",
   "metadata": {},
   "outputs": [
    {
     "name": "stderr",
     "output_type": "stream",
     "text": [
      "1082it [00:03, 284.40it/s]\n"
     ]
    }
   ],
   "source": [
    "folders = os.listdir(DATASET_PATH)\n",
    "for idx, val in tqdm(df.iterrows()):\n",
    "    if(val[\"color\"] == 0):\n",
    "        copy_from = os.path.join(DATASET_PATH, folders[0], val['origin_name'])\n",
    "    elif(val[\"color\"] == 1):\n",
    "        copy_from = os.path.join(DATASET_PATH, folders[1], val['origin_name'])\n",
    "    else:\n",
    "        copy_from = os.path.join(DATASET_PATH, folders[2], val['origin_name'])\n",
    "    copy_to = NEW_PATH + f'/{idx:04}.jpg'\n",
    "    shutil.copyfile(copy_from + \".jpg\", copy_to)\n",
    "    copy_to = NEW_PATH + f'/{idx:04}.json'\n",
    "    shutil.copyfile(copy_from + \".json\", copy_to)"
   ]
  }
 ],
 "metadata": {
  "kernelspec": {
   "display_name": "Python 3.9.12 ('base')",
   "language": "python",
   "name": "python3"
  },
  "language_info": {
   "codemirror_mode": {
    "name": "ipython",
    "version": 3
   },
   "file_extension": ".py",
   "mimetype": "text/x-python",
   "name": "python",
   "nbconvert_exporter": "python",
   "pygments_lexer": "ipython3",
   "version": "3.9.12"
  },
  "toc": {
   "base_numbering": 1,
   "nav_menu": {},
   "number_sections": true,
   "sideBar": true,
   "skip_h1_title": false,
   "title_cell": "Table of Contents",
   "title_sidebar": "Contents",
   "toc_cell": false,
   "toc_position": {},
   "toc_section_display": true,
   "toc_window_display": false
  },
  "vscode": {
   "interpreter": {
    "hash": "f8f95130f7f92af680ca3ed2e4bf8a6c5c05567ef9b08f49d0109dbd1835302c"
   }
  }
 },
 "nbformat": 4,
 "nbformat_minor": 5
}
