{
 "cells": [
  {
   "cell_type": "code",
   "execution_count": 75,
   "id": "1a6eca8f",
   "metadata": {},
   "outputs": [],
   "source": [
    "import pandas as pd\n",
    "import numpy as np\n",
    "from glob import glob\n",
    "import os\n",
    "import shutil\n",
    "from tqdm import tqdm\n",
    "import json"
   ]
  },
  {
   "cell_type": "markdown",
   "id": "47d6f7a5",
   "metadata": {},
   "source": [
    "### 확장자 중복 처리"
   ]
  },
  {
   "cell_type": "code",
   "execution_count": 76,
   "id": "928b62ca",
   "metadata": {},
   "outputs": [],
   "source": [
    "\n",
    "color_0=glob('./data/2022_05/Color/color_0/*.jpg')\n",
    "color_1=glob('./data/2022_05/Color/color_1/*.jpg')\n",
    "color_2=glob('./data/2022_05/Color/color_2/*.jpg')\n",
    "\n",
    "\n",
    "residue_0=glob('./data/2022_05/Fecal_residue/Residue_0/*.jpg')\n",
    "residue_1=glob('./data/2022_05/Fecal_residue/Residue_1/*.jpg')\n",
    "residue_2=glob('./data/2022_05/Fecal_residue/Residue_2/*.jpg')\n",
    "\n",
    "turbidity_0=glob('./data/2022_05/turbidity/turbidity_0/*.jpg')\n",
    "turbidity_2=glob('./data/2022_05/turbidity/turbidity_2/*.jpg')\n",
    "\n",
    "label_0=glob('./data/2022_04/0/*.jpg')\n",
    "label_1=glob('./data/2022_04/1/*.jpg')\n",
    "label_2=glob('./data/2022_04/2/*.jpg')\n",
    "\n",
    "colors_list = [color_0,color_1,color_2]\n",
    "residue_list = [residue_0,residue_1,residue_2]\n",
    "turbidity_list = [turbidity_0,turbidity_2]\n",
    "label_list = [label_0,label_1,label_2]\n",
    "\n",
    "for colors in colors_list:\n",
    "    for file in colors:\n",
    "        if file.split('\\\\')[1].split('.')[1] == 'jpg-1':\n",
    "            print(file)\n",
    "            os.rename(file, file.split('.jpg-1')[0]+'.jpg')\n",
    "            os.rename('.'+file.split('.')[1]+'.jpg-1.json' ,file.split('.jpg-1')[0]+'.json') #json 파일 바꾸기\n",
    "            \n",
    "for residues in residue_list:\n",
    "    for file in residues:\n",
    "        if file.split('\\\\')[1].split('.')[1] == 'jpg-1':\n",
    "            print(file)\n",
    "            os.rename(file, file.split('.jpg-1')[0]+'.jpg')\n",
    "            os.rename('.'+file.split('.')[1]+'.jpg-1.json' ,file.split('.jpg-1')[0]+'.json') #json 파일 바꾸기\n",
    "            \n",
    "for turbids in turbidity_list:\n",
    "    for file in turbids:\n",
    "        if file.split('\\\\')[1].split('.')[1] == 'jpg-1':\n",
    "            print(file)\n",
    "            os.rename(file, file.split('.jpg-1')[0]+'.jpg')\n",
    "            os.rename('.'+file.split('.')[1]+'.jpg-1.json' ,file.split('.jpg-1')[0]+'.json') #json 파일 바꾸기\n",
    "\n",
    "for labels in label_list:\n",
    "    for file in labels:\n",
    "        if file.split('\\\\')[1].split('.')[1] == 'jpg-1':\n",
    "            print(file)\n",
    "            os.rename(file, file.split('.jpg-1')[0]+'.jpg')\n",
    "            os.rename('.'+file.split('.')[1]+'.jpg-1.json' ,file.split('.jpg-1')[0]+'.json') #json 파일 바꾸기\n",
    "\n"
   ]
  },
  {
   "cell_type": "markdown",
   "id": "f3177dbc",
   "metadata": {},
   "source": [
    "# 파일 라벨링 처리"
   ]
  },
  {
   "cell_type": "code",
   "execution_count": 77,
   "id": "365426e1",
   "metadata": {},
   "outputs": [
    {
     "name": "stdout",
     "output_type": "stream",
     "text": [
      "color_0 :  175\n",
      "color_1 :  157\n",
      "color_2 :  752\n",
      "총 샘플 수 : 1084\n"
     ]
    }
   ],
   "source": [
    "print(\"color_0 : \",len(color_0))\n",
    "print(\"color_1 : \",len(color_1))\n",
    "print(\"color_2 : \",len(color_2))\n",
    "print(\"총 샘플 수 :\",len(color_0)+len(color_1)+len(color_2) )"
   ]
  },
  {
   "cell_type": "code",
   "execution_count": 78,
   "id": "4179c1f8",
   "metadata": {},
   "outputs": [
    {
     "name": "stdout",
     "output_type": "stream",
     "text": [
      "residue_0 :  233\n",
      "residue_1 :  320\n",
      "residue_2 :  531\n",
      "총 샘플 수 : 1084\n"
     ]
    }
   ],
   "source": [
    "print(\"residue_0 : \",len(residue_0))\n",
    "print(\"residue_1 : \",len(residue_1))\n",
    "print(\"residue_2 : \",len(residue_2))\n",
    "print(\"총 샘플 수 :\",len(residue_0)+len(residue_1)+len(residue_2) )"
   ]
  },
  {
   "cell_type": "code",
   "execution_count": 79,
   "id": "d30c78d3",
   "metadata": {},
   "outputs": [
    {
     "name": "stdout",
     "output_type": "stream",
     "text": [
      "turbidity_0 :  454\n",
      "turbidity_2 :  632\n",
      "총 샘플 수 : 1086\n"
     ]
    }
   ],
   "source": [
    "print(\"turbidity_0 : \",len(turbidity_0))\n",
    "print(\"turbidity_2 : \",len(turbidity_2))\n",
    "print(\"총 샘플 수 :\",len(turbidity_0)+len(turbidity_2))"
   ]
  },
  {
   "cell_type": "markdown",
   "id": "53435da9",
   "metadata": {},
   "source": [
    "---\n",
    "### 파일 목록 가져오기\n",
    "color 기준"
   ]
  },
  {
   "cell_type": "code",
   "execution_count": 80,
   "id": "e5fe6155",
   "metadata": {},
   "outputs": [],
   "source": [
    "from collections import defaultdict\n",
    "image_list = defaultdict(lambda: [-1,-1,-1,-1]) #[color/Fecal_residue/turbidity/label]"
   ]
  },
  {
   "cell_type": "markdown",
   "id": "ac4b0fc4",
   "metadata": {},
   "source": [
    "### Color"
   ]
  },
  {
   "cell_type": "code",
   "execution_count": 81,
   "id": "c5d4a8b2",
   "metadata": {},
   "outputs": [],
   "source": [
    "for val, colors in enumerate(colors_list):\n",
    "    origin_names = [color.split(\"\\\\\")[1].split('.')[0] for color in colors ]\n",
    "\n",
    "    for name in origin_names:\n",
    "        if(image_list[name][0] == -1):\n",
    "            image_list[name][0] = val\n",
    "        else:\n",
    "            print(\"duplicated Color data!! : \", name, val)\n",
    "            print(\"already value is : \", image_list[name][0])"
   ]
  },
  {
   "cell_type": "markdown",
   "id": "63f30afd",
   "metadata": {},
   "source": [
    "### Fecal_residue"
   ]
  },
  {
   "cell_type": "code",
   "execution_count": 82,
   "id": "18d2f4e5",
   "metadata": {},
   "outputs": [
    {
     "name": "stdout",
     "output_type": "stream",
     "text": [
      "duplicated Fecal_residue data!! :  IMG_20211119_012144_1 2\n",
      "already value is :  1\n"
     ]
    }
   ],
   "source": [
    "for val, residues in enumerate(residue_list):\n",
    "    origin_names = [residue.split(\"\\\\\")[1].split('.')[0] for residue in residues ]\n",
    "\n",
    "    for name in origin_names:\n",
    "        if(image_list[name][1] == -1):\n",
    "            image_list[name][1] = val\n",
    "        else:\n",
    "            print(\"duplicated Fecal_residue data!! : \", name, val)\n",
    "            print(\"already value is : \", image_list[name][1])"
   ]
  },
  {
   "cell_type": "markdown",
   "id": "7d8e00a7",
   "metadata": {},
   "source": [
    "### turbidity"
   ]
  },
  {
   "cell_type": "code",
   "execution_count": 83,
   "id": "62e14139",
   "metadata": {},
   "outputs": [],
   "source": [
    "for val, turbiditys in enumerate(turbidity_list):\n",
    "    origin_names = [turbidity.split(\"\\\\\")[1].split('.')[0] for turbidity in turbiditys]\n",
    "\n",
    "    for name in origin_names:\n",
    "        if(image_list[name][2] == -1):\n",
    "            image_list[name][2] = val\n",
    "        else:\n",
    "            print(\"duplicated Turbidity data!! : \", name, val)\n",
    "            print(\"already value is : \", image_list[name][0])"
   ]
  },
  {
   "cell_type": "markdown",
   "id": "d4c8d0fd",
   "metadata": {},
   "source": [
    "### label"
   ]
  },
  {
   "cell_type": "code",
   "execution_count": 84,
   "id": "26defb23",
   "metadata": {},
   "outputs": [
    {
     "name": "stdout",
     "output_type": "stream",
     "text": [
      "duplicated Label data!! :  IMG_20211119_012144_1 1\n",
      "already value is :  0\n",
      "duplicated Label data!! :  IMG_20210222_205946 2\n",
      "already value is :  1\n"
     ]
    }
   ],
   "source": [
    "for val, labels in enumerate(label_list):\n",
    "    origin_names = [label.split(\"\\\\\")[1].split('.')[0] for label in labels]\n",
    "\n",
    "    for name in origin_names:\n",
    "        if(image_list[name][3] == -1):\n",
    "            image_list[name][3] = val\n",
    "        else:\n",
    "            print(\"duplicated Label data!! : \", name, val)\n",
    "            print(\"already value is : \", image_list[name][3])"
   ]
  },
  {
   "cell_type": "markdown",
   "id": "261ba38f",
   "metadata": {},
   "source": [
    "### pandas"
   ]
  },
  {
   "cell_type": "code",
   "execution_count": 89,
   "id": "b85bac62",
   "metadata": {},
   "outputs": [
    {
     "name": "stdout",
     "output_type": "stream",
     "text": [
      "not enough data :  IMG_20210303_161015_1\n",
      "[2, -1, 1, 2]\n",
      "not enough data :  IMG_20200510_205628\n",
      "[-1, -1, 0, 0]\n",
      "not enough data :  IMG_20200510_213649\n",
      "[-1, -1, 1, 0]\n"
     ]
    }
   ],
   "source": [
    "df = {\"origin_name\":[], \"color\":[], \"residue\" : [], \"turbidity\":[], \"label\":[]}\n",
    "not_enough_data = []\n",
    "for key, val in image_list.items():\n",
    "    if(-1 not in val):\n",
    "        df[\"origin_name\"].append(key)\n",
    "        df[\"color\"].append(val[0])\n",
    "        df[\"residue\"].append(val[1])\n",
    "        df[\"turbidity\"].append(val[2])\n",
    "        df[\"label\"].append(val[3])\n",
    "    else:\n",
    "        print(\"not enough data : \", key)\n",
    "        print(val)\n",
    "        not_enough_data.append(key)\n",
    "df = pd.DataFrame.from_dict(df)"
   ]
  },
  {
   "cell_type": "code",
   "execution_count": 90,
   "id": "cc356537",
   "metadata": {},
   "outputs": [
    {
     "data": {
      "text/html": [
       "<div>\n",
       "<style scoped>\n",
       "    .dataframe tbody tr th:only-of-type {\n",
       "        vertical-align: middle;\n",
       "    }\n",
       "\n",
       "    .dataframe tbody tr th {\n",
       "        vertical-align: top;\n",
       "    }\n",
       "\n",
       "    .dataframe thead th {\n",
       "        text-align: right;\n",
       "    }\n",
       "</style>\n",
       "<table border=\"1\" class=\"dataframe\">\n",
       "  <thead>\n",
       "    <tr style=\"text-align: right;\">\n",
       "      <th></th>\n",
       "      <th>origin_name</th>\n",
       "      <th>color</th>\n",
       "      <th>residue</th>\n",
       "      <th>turbidity</th>\n",
       "      <th>label</th>\n",
       "    </tr>\n",
       "  </thead>\n",
       "  <tbody>\n",
       "    <tr>\n",
       "      <th>0</th>\n",
       "      <td>1301837407-1</td>\n",
       "      <td>0</td>\n",
       "      <td>0</td>\n",
       "      <td>0</td>\n",
       "      <td>0</td>\n",
       "    </tr>\n",
       "    <tr>\n",
       "      <th>1</th>\n",
       "      <td>1411450810-1</td>\n",
       "      <td>0</td>\n",
       "      <td>0</td>\n",
       "      <td>0</td>\n",
       "      <td>0</td>\n",
       "    </tr>\n",
       "    <tr>\n",
       "      <th>2</th>\n",
       "      <td>1651193832-1</td>\n",
       "      <td>0</td>\n",
       "      <td>0</td>\n",
       "      <td>0</td>\n",
       "      <td>0</td>\n",
       "    </tr>\n",
       "    <tr>\n",
       "      <th>3</th>\n",
       "      <td>2077897036-1</td>\n",
       "      <td>0</td>\n",
       "      <td>0</td>\n",
       "      <td>0</td>\n",
       "      <td>0</td>\n",
       "    </tr>\n",
       "    <tr>\n",
       "      <th>4</th>\n",
       "      <td>290980310-1</td>\n",
       "      <td>0</td>\n",
       "      <td>1</td>\n",
       "      <td>0</td>\n",
       "      <td>0</td>\n",
       "    </tr>\n",
       "    <tr>\n",
       "      <th>...</th>\n",
       "      <td>...</td>\n",
       "      <td>...</td>\n",
       "      <td>...</td>\n",
       "      <td>...</td>\n",
       "      <td>...</td>\n",
       "    </tr>\n",
       "    <tr>\n",
       "      <th>1078</th>\n",
       "      <td>PANO_20200407_221523</td>\n",
       "      <td>2</td>\n",
       "      <td>2</td>\n",
       "      <td>1</td>\n",
       "      <td>2</td>\n",
       "    </tr>\n",
       "    <tr>\n",
       "      <th>1079</th>\n",
       "      <td>PANO_20200407_221527</td>\n",
       "      <td>2</td>\n",
       "      <td>2</td>\n",
       "      <td>1</td>\n",
       "      <td>2</td>\n",
       "    </tr>\n",
       "    <tr>\n",
       "      <th>1080</th>\n",
       "      <td>PANO_20200818_174909</td>\n",
       "      <td>2</td>\n",
       "      <td>2</td>\n",
       "      <td>1</td>\n",
       "      <td>2</td>\n",
       "    </tr>\n",
       "    <tr>\n",
       "      <th>1081</th>\n",
       "      <td>PANO_20210330_062718</td>\n",
       "      <td>2</td>\n",
       "      <td>2</td>\n",
       "      <td>1</td>\n",
       "      <td>2</td>\n",
       "    </tr>\n",
       "    <tr>\n",
       "      <th>1082</th>\n",
       "      <td>tmp_1610355667809</td>\n",
       "      <td>2</td>\n",
       "      <td>2</td>\n",
       "      <td>1</td>\n",
       "      <td>2</td>\n",
       "    </tr>\n",
       "  </tbody>\n",
       "</table>\n",
       "<p>1083 rows × 5 columns</p>\n",
       "</div>"
      ],
      "text/plain": [
       "               origin_name  color  residue  turbidity  label\n",
       "0             1301837407-1      0        0          0      0\n",
       "1             1411450810-1      0        0          0      0\n",
       "2             1651193832-1      0        0          0      0\n",
       "3             2077897036-1      0        0          0      0\n",
       "4              290980310-1      0        1          0      0\n",
       "...                    ...    ...      ...        ...    ...\n",
       "1078  PANO_20200407_221523      2        2          1      2\n",
       "1079  PANO_20200407_221527      2        2          1      2\n",
       "1080  PANO_20200818_174909      2        2          1      2\n",
       "1081  PANO_20210330_062718      2        2          1      2\n",
       "1082     tmp_1610355667809      2        2          1      2\n",
       "\n",
       "[1083 rows x 5 columns]"
      ]
     },
     "execution_count": 90,
     "metadata": {},
     "output_type": "execute_result"
    }
   ],
   "source": [
    "df.to_csv(\"./bmc.csv\")\n",
    "df"
   ]
  },
  {
   "cell_type": "markdown",
   "id": "faf08476",
   "metadata": {},
   "source": [
    "### 파일명 변경"
   ]
  },
  {
   "cell_type": "code",
   "execution_count": 72,
   "id": "c8079909",
   "metadata": {},
   "outputs": [],
   "source": [
    "# color 기준\n",
    "DATASET_PATH = './data/2022_05/Color'\n",
    "NEW_PATH = './data/bmc/'"
   ]
  },
  {
   "cell_type": "code",
   "execution_count": 73,
   "id": "d54d4255",
   "metadata": {},
   "outputs": [],
   "source": [
    "os.makedirs(NEW_PATH, exist_ok=True)"
   ]
  },
  {
   "cell_type": "code",
   "execution_count": 74,
   "id": "1820ba02",
   "metadata": {},
   "outputs": [
    {
     "name": "stderr",
     "output_type": "stream",
     "text": [
      "1082it [00:04, 255.72it/s]\n"
     ]
    }
   ],
   "source": [
    "folders = os.listdir(DATASET_PATH)\n",
    "for idx, val in tqdm(df.iterrows()):\n",
    "    if(val[\"color\"] == 0):\n",
    "        copy_from = os.path.join(DATASET_PATH, folders[0], val['origin_name'])\n",
    "    elif(val[\"color\"] == 1):\n",
    "        copy_from = os.path.join(DATASET_PATH, folders[1], val['origin_name'])\n",
    "    else:\n",
    "        copy_from = os.path.join(DATASET_PATH, folders[2], val['origin_name'])\n",
    "    copy_to = NEW_PATH + f'/{idx:04}.jpg'\n",
    "    shutil.copyfile(copy_from + \".jpg\", copy_to)\n",
    "    copy_to = NEW_PATH + f'/{idx:04}.json'\n",
    "    shutil.copyfile(copy_from + \".json\", copy_to)"
   ]
  },
  {
   "cell_type": "markdown",
   "id": "0a8c0ecf",
   "metadata": {},
   "source": [
    "### json 수정"
   ]
  },
  {
   "cell_type": "code",
   "execution_count": 75,
   "id": "2048bc78",
   "metadata": {},
   "outputs": [
    {
     "name": "stderr",
     "output_type": "stream",
     "text": [
      "100%|██████████| 1082/1082 [00:09<00:00, 108.83it/s]\n"
     ]
    }
   ],
   "source": [
    "bmc_json = glob(NEW_PATH + '*.json')\n",
    "\n",
    "for i in tqdm(bmc_json):\n",
    "    with open(i, 'r', encoding='utf-8') as f:\n",
    "        json_data = json.load(f)\n",
    "    json_data[\"imagePath\"] = i[-9:-5] + '.jpg'\n",
    "    with open(i, 'w', encoding='utf-8') as f:\n",
    "        json.dump(json_data, f, indent=\"\\t\")\n",
    "    "
   ]
  },
  {
   "cell_type": "markdown",
   "id": "aa77aaf4",
   "metadata": {},
   "source": [
    "### labelme to coco format (for fiftyone)"
   ]
  },
  {
   "cell_type": "code",
   "execution_count": 1,
   "id": "21f77c60",
   "metadata": {},
   "outputs": [
    {
     "name": "stdout",
     "output_type": "stream",
     "text": [
      "There are 1082 listed files in folder ./data/bmc/.\n"
     ]
    },
    {
     "name": "stderr",
     "output_type": "stream",
     "text": [
      "Converting labelme annotations to COCO format: 100%|██████████| 1082/1082 [00:08<00:00, 134.35it/s]\n",
      "09/20/2022 20:30:52 - INFO - labelme2coco -   Training split in COCO format is exported to data\\train.json\n",
      "09/20/2022 20:30:52 - INFO - labelme2coco -   Validation split in COCO format is exported to data\\val.json\n"
     ]
    }
   ],
   "source": [
    "# import package\n",
    "import labelme2coco\n",
    "\n",
    "# set directory that contains labelme annotations and image files\n",
    "labelme_folder = \"./data/bmc/\"\n",
    "\n",
    "# set export dir\n",
    "export_dir = \"./data/\"\n",
    "\n",
    "# set train split rate\n",
    "train_split_rate = 0.85\n",
    "\n",
    "# convert labelme annotations to coco\n",
    "labelme2coco.convert(labelme_folder, export_dir, train_split_rate)"
   ]
  }
 ],
 "metadata": {
  "kernelspec": {
   "display_name": "Python 3.9.13 ('bmc')",
   "language": "python",
   "name": "python3"
  },
  "language_info": {
   "codemirror_mode": {
    "name": "ipython",
    "version": 3
   },
   "file_extension": ".py",
   "mimetype": "text/x-python",
   "name": "python",
   "nbconvert_exporter": "python",
   "pygments_lexer": "ipython3",
   "version": "3.9.13"
  },
  "toc": {
   "base_numbering": 1,
   "nav_menu": {},
   "number_sections": true,
   "sideBar": true,
   "skip_h1_title": false,
   "title_cell": "Table of Contents",
   "title_sidebar": "Contents",
   "toc_cell": false,
   "toc_position": {},
   "toc_section_display": true,
   "toc_window_display": false
  },
  "vscode": {
   "interpreter": {
    "hash": "f61ad4722c2a8c82edf5a6e472f62a3dc3ef4a65ca69f027a39c1c64bc3f4c70"
   }
  }
 },
 "nbformat": 4,
 "nbformat_minor": 5
}
