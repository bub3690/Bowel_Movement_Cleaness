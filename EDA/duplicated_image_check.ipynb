{
 "cells": [
  {
   "cell_type": "markdown",
   "metadata": {},
   "source": [
    "### Load Images by ver4"
   ]
  },
  {
   "cell_type": "code",
   "execution_count": 1,
   "metadata": {},
   "outputs": [],
   "source": [
    "from sklearn.model_selection import train_test_split\n",
    "from glob import glob\n",
    "import os\n",
    "import shutil\n",
    "from collections import defaultdict\n",
    "from datetime import datetime"
   ]
  },
  {
   "cell_type": "code",
   "execution_count": 2,
   "metadata": {},
   "outputs": [],
   "source": [
    "VOCROOTDIR = \"../data/2022_04\"\n",
    "img_list = []\n",
    "for i in range(3):\n",
    "    files = os.listdir(VOCROOTDIR + \"/\" + str(i) + \"/\" )\n",
    "    img_files = list(filter(lambda x: '.jpg' in x, files))\n",
    "    img_list += img_files"
   ]
  },
  {
   "cell_type": "code",
   "execution_count": 3,
   "metadata": {},
   "outputs": [],
   "source": [
    "image_types = {\"IMG\":defaultdict(list), \"PANO\":defaultdict(list), \"ETC\":[]}"
   ]
  },
  {
   "cell_type": "code",
   "execution_count": 4,
   "metadata": {},
   "outputs": [],
   "source": [
    "for file_name in img_list:\n",
    "    _split = file_name.split(\"_\")\n",
    "    if 2 < len(_split):\n",
    "        image_types[_split[0]][_split[1]].append(file_name)\n",
    "    else:\n",
    "        image_types[\"ETC\"].append(file_name)"
   ]
  },
  {
   "cell_type": "markdown",
   "metadata": {},
   "source": [
    "---\n",
    "### Imgae Compare"
   ]
  },
  {
   "cell_type": "code",
   "execution_count": 5,
   "metadata": {},
   "outputs": [
    {
     "name": "stderr",
     "output_type": "stream",
     "text": [
      "c:\\Users\\mai\\anaconda3\\envs\\bmc\\lib\\site-packages\\tqdm\\auto.py:22: TqdmWarning: IProgress not found. Please update jupyter and ipywidgets. See https://ipywidgets.readthedocs.io/en/stable/user_install.html\n",
      "  from .autonotebook import tqdm as notebook_tqdm\n"
     ]
    }
   ],
   "source": [
    "from skimage.metrics import structural_similarity as ssim \n",
    "import argparse\n",
    "import cv2\n",
    "from skimage import io\n",
    "from itertools import combinations\n",
    "import matplotlib.pyplot as plt\n",
    "\n",
    "from PIL import Image, ImageFont, ImageDraw\n",
    "\n",
    "from torchvision.transforms.functional import to_pil_image\n",
    "from tqdm import tqdm"
   ]
  },
  {
   "cell_type": "code",
   "execution_count": 58,
   "metadata": {},
   "outputs": [],
   "source": [
    "def get_concat_h(im1, im2,score):\n",
    "    dst = Image.new('RGB', (im1.width + im2.width, im1.height))\n",
    "    dst.paste(im1, (0, 0))\n",
    "    dst.paste(im2, (im1.width, 0))\n",
    "    font = ImageFont.truetype(\"arial\", 400)\n",
    "    draw = ImageDraw.Draw(dst)\n",
    "    # .text(\n",
    "    #     (0, 0),  # Coordinates\n",
    "    #     'Hello world!',  # Text\n",
    "    #     (0, 0, 0)  # Color\n",
    "    # )\n",
    "    draw.text((10, 10),str(score),(0,0,255),font=font)\n",
    "\n",
    "    return dst"
   ]
  },
  {
   "cell_type": "code",
   "execution_count": null,
   "metadata": {},
   "outputs": [],
   "source": [
    "os.makedirs(\"./duplicated\")"
   ]
  },
  {
   "cell_type": "code",
   "execution_count": null,
   "metadata": {},
   "outputs": [],
   "source": [
    "count = 0\n",
    "score_list = []\n",
    "types = [\"IMG\",\"PANO\"]\n",
    "for idx in types:\n",
    "    for k,v in tqdm(image_types[idx].items()):\n",
    "        if(len(v) == 1):\n",
    "            continue\n",
    "        else:\n",
    "            _check = list(combinations(v,2))\n",
    "            for _img in _check:\n",
    "                for i in range(3):\n",
    "                    file = VOCROOTDIR + \"/\" + str(i) + \"/\" + _img[0]\n",
    "                    if os.path.isfile(file):\n",
    "                        imageA = cv2.imread(file)\n",
    "                        break\n",
    "                    else:\n",
    "                        continue\n",
    "                for i in range(3):\n",
    "                    file = VOCROOTDIR + \"/\" + str(i) + \"/\" + _img[1]\n",
    "                    if os.path.isfile(file):\n",
    "                        imageB = cv2.imread(file)\n",
    "                        break\n",
    "                    else:\n",
    "                        continue\n",
    "                del file\n",
    "                # print(_img)\n",
    "                # print(imageA.shape, imageB.shape)\n",
    "                if imageA.shape == imageB.shape:\n",
    "                    grayA = cv2.cvtColor(imageA, cv2.COLOR_BGR2GRAY)\n",
    "                    grayB = cv2.cvtColor(imageB, cv2.COLOR_BGR2GRAY)\n",
    "                    (score, diff) = ssim(grayA, grayB, full=True)\n",
    "                elif imageA.shape == (imageB.shape[1],imageB.shape[0]):\n",
    "                    grayB = cv2.cvtColor(imageB, cv2.COLOR_BGR2GRAY)\n",
    "\n",
    "                    imageCCW = cv2.rotate(imageA, cv2.ROTATE_90_COUNTERCLOCKWISE)\n",
    "                    grayCCW = cv2.cvtColor(imageCCW, cv2.COLOR_BGR2GRAY)\n",
    "                    (scoreCCW, diffCCW) = ssim(grayCCW, grayB, full=True)\n",
    "\n",
    "                    imageCW = cv2.rotate(imageA, cv2.ROTATE_90_CLOCKWISE)\n",
    "                    grayCW = cv2.cvtColor(grayCW, cv2.COLOR_BGR2GRAY)\n",
    "                    (scoreCW, diffCW) = ssim(grayCW, grayB, full=True)\n",
    "\n",
    "                    if scoreCCW < scoreCW:\n",
    "                        score = scoreCW\n",
    "                        grayA = grayCW\n",
    "                    else:\n",
    "                        score = scoreCCW\n",
    "                        grayA = grayCCW\n",
    "                else:\n",
    "                    continue\n",
    "                score_list.append([_img, score])\n",
    "                tmp = get_concat_h(to_pil_image(grayA),to_pil_image(grayB),score)\n",
    "                # plt.imshow(tmp)\n",
    "                # plt.show()\n",
    "                plt.imshow(tmp); plt.axis('off'); plt.tight_layout(); #plt.show()\n",
    "                plt.savefig('./duplicated/%s.png'%(str(int(score*1000))+ \"_\" + _img[0][:-4] + \"_\" + _img[1][:-4]))\n",
    "                plt.close('all')\n",
    "                plt.clf()\n",
    "                del tmp\n",
    "            del _check\n"
   ]
  },
  {
   "cell_type": "code",
   "execution_count": 52,
   "metadata": {},
   "outputs": [],
   "source": [
    "for _img in _check:\n",
    "    for i in range(3):\n",
    "        file = VOCROOTDIR + \"/\" + str(i) + \"/\" + _img[0]\n",
    "        if os.path.isfile(file):\n",
    "            imageA = cv2.imread(file)\n",
    "            break\n",
    "        else:\n",
    "            continue\n",
    "    for i in range(3):\n",
    "        file = VOCROOTDIR + \"/\" + str(i) + \"/\" + _img[1]\n",
    "        if os.path.isfile(file):\n",
    "            imageB = cv2.imread(file)\n",
    "            break\n",
    "        else:\n",
    "            continue"
   ]
  },
  {
   "cell_type": "code",
   "execution_count": 59,
   "metadata": {},
   "outputs": [
    {
     "name": "stderr",
     "output_type": "stream",
     "text": [
      "100%|██████████| 496/496 [01:01<00:00,  8.02it/s]\n"
     ]
    },
    {
     "data": {
      "text/plain": [
       "<Figure size 640x480 with 0 Axes>"
      ]
     },
     "metadata": {},
     "output_type": "display_data"
    }
   ],
   "source": [
    "count = 0\n",
    "score_list = []\n",
    "types = [\"ETC\"]\n",
    "for idx in types:\n",
    "    _check = list(combinations(image_types[idx],2))\n",
    "    for _img in tqdm(_check):\n",
    "        for i in range(3):\n",
    "            file = VOCROOTDIR + \"/\" + str(i) + \"/\" + _img[0]\n",
    "            if os.path.isfile(file):\n",
    "                imageA = cv2.imread(file)\n",
    "                break\n",
    "            else:\n",
    "                continue\n",
    "        for i in range(3):\n",
    "            file = VOCROOTDIR + \"/\" + str(i) + \"/\" + _img[1]\n",
    "            if os.path.isfile(file):\n",
    "                imageB = cv2.imread(file)\n",
    "                break\n",
    "            else:\n",
    "                if i == 2:\n",
    "                    print(file)\n",
    "                continue\n",
    "        del file\n",
    "        # print(_img)\n",
    "        # print(imageA.shape, imageB.shape)\n",
    "        if imageA.shape == imageB.shape:\n",
    "            grayA = cv2.cvtColor(imageA, cv2.COLOR_BGR2GRAY)\n",
    "            grayB = cv2.cvtColor(imageB, cv2.COLOR_BGR2GRAY)\n",
    "            (score, diff) = ssim(grayA, grayB, full=True)\n",
    "        elif imageA.shape == (imageB.shape[1],imageB.shape[0]):\n",
    "            grayB = cv2.cvtColor(imageB, cv2.COLOR_BGR2GRAY)\n",
    "\n",
    "            imageCCW = cv2.rotate(imageA, cv2.ROTATE_90_COUNTERCLOCKWISE)\n",
    "            grayCCW = cv2.cvtColor(imageCCW, cv2.COLOR_BGR2GRAY)\n",
    "            (scoreCCW, diffCCW) = ssim(grayCCW, grayB, full=True)\n",
    "\n",
    "            imageCW = cv2.rotate(imageA, cv2.ROTATE_90_CLOCKWISE)\n",
    "            grayCW = cv2.cvtColor(grayCW, cv2.COLOR_BGR2GRAY)\n",
    "            (scoreCW, diffCW) = ssim(grayCW, grayB, full=True)\n",
    "\n",
    "            if scoreCCW < scoreCW:\n",
    "                score = scoreCW\n",
    "                grayA = grayCW\n",
    "            else:\n",
    "                score = scoreCCW\n",
    "                grayA = grayCCW\n",
    "        else:\n",
    "            continue\n",
    "        score_list.append([_img, score])\n",
    "        tmp = get_concat_h(to_pil_image(grayA),to_pil_image(grayB),score)\n",
    "        # plt.imshow(tmp)\n",
    "        # plt.show()\n",
    "        plt.imshow(tmp); plt.axis('off'); plt.tight_layout(); #plt.show()\n",
    "        plt.savefig('./duplicated/%s.png'%(str(int(score*1000))+ \"_\" + _img[0][:-4] + \"_\" + _img[1][:-4]))\n",
    "        plt.close('all')\n",
    "        plt.clf()\n",
    "        del tmp\n",
    "    del _check\n"
   ]
  },
  {
   "cell_type": "code",
   "execution_count": 60,
   "metadata": {},
   "outputs": [
    {
     "data": {
      "text/plain": [
       "32"
      ]
     },
     "execution_count": 60,
     "metadata": {},
     "output_type": "execute_result"
    }
   ],
   "source": [
    "len(image_types[idx])"
   ]
  },
  {
   "cell_type": "code",
   "execution_count": null,
   "metadata": {},
   "outputs": [],
   "source": [
    "score_list.sort(key=lambda x: x[1])\n",
    "score_list"
   ]
  },
  {
   "cell_type": "markdown",
   "metadata": {},
   "source": [
    "---\n",
    "test"
   ]
  },
  {
   "cell_type": "code",
   "execution_count": null,
   "metadata": {},
   "outputs": [],
   "source": [
    "v = list(image_types[\"IMG\"].items())[75][1]"
   ]
  },
  {
   "cell_type": "code",
   "execution_count": 33,
   "metadata": {},
   "outputs": [],
   "source": [
    "_check = list(combinations(v,2))"
   ]
  },
  {
   "cell_type": "code",
   "execution_count": null,
   "metadata": {},
   "outputs": [],
   "source": [
    "score_list = []\n",
    "for _img in _check:\n",
    "    for i in range(3):\n",
    "        _t = cv2.imread(VOCROOTDIR + \"/\" + str(i) + \"/\" + _img[0])\n",
    "        if _t is not None:\n",
    "            imageA = _t\n",
    "            break\n",
    "    for i in range(3):\n",
    "        _t = cv2.imread(VOCROOTDIR + \"/\" + str(i) + \"/\" + _img[1])\n",
    "        if _t is not None:\n",
    "            imageB = _t\n",
    "            break\n",
    "    print(_img)\n",
    "    print(imageA.shape, imageB.shape)\n",
    "    # 4. Convert the images to grayscale\n",
    "    if imageA.shape == imageB.shape:\n",
    "        grayA = cv2.cvtColor(imageA, cv2.COLOR_BGR2GRAY)\n",
    "        grayB = cv2.cvtColor(imageB, cv2.COLOR_BGR2GRAY)\n",
    "        (score, diff) = ssim(grayA, grayB, full=True)\n",
    "    elif imageA.shape == (imageB.shape[1],imageB.shape[0]):\n",
    "        imageA = cv2.rotate(imageA, cv2.ROTATE_90_COUNTERCLOCKWISE)\n",
    "        grayA = cv2.cvtColor(imageA, cv2.COLOR_BGR2GRAY)\n",
    "        grayB = cv2.cvtColor(imageB, cv2.COLOR_BGR2GRAY)\n",
    "        (score, diff) = ssim(grayA, grayB, full=True)\n",
    "    else:\n",
    "        continue\n",
    "    score_list.append([_img, score])\n",
    "    tmp = get_concat_h(to_pil_image(grayA),to_pil_image(grayB))\n",
    "    plt.imshow(tmp)\n",
    "    plt.show()"
   ]
  }
 ],
 "metadata": {
  "kernelspec": {
   "display_name": "Python 3.9.13 ('bmc')",
   "language": "python",
   "name": "python3"
  },
  "language_info": {
   "codemirror_mode": {
    "name": "ipython",
    "version": 3
   },
   "file_extension": ".py",
   "mimetype": "text/x-python",
   "name": "python",
   "nbconvert_exporter": "python",
   "pygments_lexer": "ipython3",
   "version": "3.9.13"
  },
  "orig_nbformat": 4,
  "vscode": {
   "interpreter": {
    "hash": "f61ad4722c2a8c82edf5a6e472f62a3dc3ef4a65ca69f027a39c1c64bc3f4c70"
   }
  }
 },
 "nbformat": 4,
 "nbformat_minor": 2
}
