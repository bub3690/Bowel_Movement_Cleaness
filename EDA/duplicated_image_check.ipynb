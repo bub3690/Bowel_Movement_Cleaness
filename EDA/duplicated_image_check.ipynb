{
 "cells": [
  {
   "cell_type": "markdown",
   "metadata": {},
   "source": [
    "### Load Images by ver4"
   ]
  },
  {
   "cell_type": "code",
   "execution_count": 2,
   "metadata": {},
   "outputs": [],
   "source": [
    "from sklearn.model_selection import train_test_split\n",
    "from glob import glob\n",
    "import os\n",
    "import shutil\n",
    "from collections import defaultdict\n",
    "from datetime import datetime"
   ]
  },
  {
   "cell_type": "code",
   "execution_count": 3,
   "metadata": {},
   "outputs": [],
   "source": [
    "VOCROOTDIR = \"../data/2022_10\"\n",
    "img_list = []\n",
    "files = os.listdir(VOCROOTDIR + \"/\" + str(0) + \"/\" )\n",
    "img_files = list(filter(lambda x: '.jpg' in x, files))\n",
    "img_list += img_files"
   ]
  },
  {
   "cell_type": "code",
   "execution_count": 4,
   "metadata": {},
   "outputs": [],
   "source": [
    "image_types = {\"IMG\":defaultdict(list), \"PANO\":defaultdict(list), \"ETC\":[]}"
   ]
  },
  {
   "cell_type": "code",
   "execution_count": 5,
   "metadata": {},
   "outputs": [],
   "source": [
    "for file_name in img_list:\n",
    "    _split = file_name.split(\"_\")\n",
    "    if 2 < len(_split):\n",
    "        image_types[_split[0]][_split[1]].append(file_name)\n",
    "    else:\n",
    "        image_types[\"ETC\"].append(file_name)"
   ]
  },
  {
   "cell_type": "markdown",
   "metadata": {},
   "source": [
    "---\n",
    "### Imgae Compare"
   ]
  },
  {
   "cell_type": "code",
   "execution_count": 13,
   "metadata": {},
   "outputs": [],
   "source": [
    "from skimage.metrics import structural_similarity as ssim \n",
    "import argparse\n",
    "import cv2\n",
    "from skimage import io\n",
    "from itertools import combinations\n",
    "import matplotlib.pyplot as plt\n",
    "\n",
    "from PIL import Image, ImageFont, ImageDraw\n",
    "\n",
    "from torchvision.transforms.functional import to_pil_image\n",
    "from tqdm import tqdm"
   ]
  },
  {
   "cell_type": "code",
   "execution_count": 14,
   "metadata": {},
   "outputs": [],
   "source": [
    "def get_concat_h(im1, im2,score):\n",
    "    dst = Image.new('RGB', (im1.width + im2.width, im1.height))\n",
    "    dst.paste(im1, (0, 0))\n",
    "    dst.paste(im2, (im1.width, 0))\n",
    "    font = ImageFont.truetype(\"arial\", 400)\n",
    "    draw = ImageDraw.Draw(dst)\n",
    "    # .text(\n",
    "    #     (0, 0),  # Coordinates\n",
    "    #     'Hello world!',  # Text\n",
    "    #     (0, 0, 0)  # Color\n",
    "    # )\n",
    "    draw.text((10, 10),str(score),(0,0,255),font=font)\n",
    "\n",
    "    return dst"
   ]
  },
  {
   "cell_type": "code",
   "execution_count": 15,
   "metadata": {},
   "outputs": [],
   "source": [
    "os.makedirs(\"./duplicated0\")"
   ]
  },
  {
   "cell_type": "code",
   "execution_count": 16,
   "metadata": {},
   "outputs": [
    {
     "name": "stderr",
     "output_type": "stream",
     "text": [
      "100%|██████████| 155/155 [42:52<00:00, 16.60s/it] \n",
      "100%|██████████| 1/1 [00:00<?, ?it/s]\n"
     ]
    },
    {
     "data": {
      "text/plain": [
       "<Figure size 640x480 with 0 Axes>"
      ]
     },
     "metadata": {},
     "output_type": "display_data"
    }
   ],
   "source": [
    "count = 0\n",
    "score_list = []\n",
    "types = [\"IMG\",\"PANO\"]\n",
    "for idx in types:\n",
    "    for k,v in tqdm(image_types[idx].items()):\n",
    "        if(len(v) == 1):\n",
    "            continue\n",
    "        else:\n",
    "            _check = list(combinations(v,2))\n",
    "            for _img in _check:\n",
    "                for i in range(3):\n",
    "                    file = VOCROOTDIR + \"/\" + str(i) + \"/\" + _img[0]\n",
    "                    if os.path.isfile(file):\n",
    "                        imageA = cv2.imread(file)\n",
    "                        break\n",
    "                    else:\n",
    "                        continue\n",
    "                for i in range(3):\n",
    "                    file = VOCROOTDIR + \"/\" + str(i) + \"/\" + _img[1]\n",
    "                    if os.path.isfile(file):\n",
    "                        imageB = cv2.imread(file)\n",
    "                        break\n",
    "                    else:\n",
    "                        continue\n",
    "                del file\n",
    "                # print(_img)\n",
    "                # print(imageA.shape, imageB.shape)\n",
    "                if imageA.shape == imageB.shape:\n",
    "                    grayA = cv2.cvtColor(imageA, cv2.COLOR_BGR2GRAY)\n",
    "                    grayB = cv2.cvtColor(imageB, cv2.COLOR_BGR2GRAY)\n",
    "                    (score, diff) = ssim(grayA, grayB, full=True)\n",
    "                elif imageA.shape == (imageB.shape[1],imageB.shape[0]):\n",
    "                    grayB = cv2.cvtColor(imageB, cv2.COLOR_BGR2GRAY)\n",
    "\n",
    "                    imageCCW = cv2.rotate(imageA, cv2.ROTATE_90_COUNTERCLOCKWISE)\n",
    "                    grayCCW = cv2.cvtColor(imageCCW, cv2.COLOR_BGR2GRAY)\n",
    "                    (scoreCCW, diffCCW) = ssim(grayCCW, grayB, full=True)\n",
    "\n",
    "                    imageCW = cv2.rotate(imageA, cv2.ROTATE_90_CLOCKWISE)\n",
    "                    grayCW = cv2.cvtColor(grayCW, cv2.COLOR_BGR2GRAY)\n",
    "                    (scoreCW, diffCW) = ssim(grayCW, grayB, full=True)\n",
    "\n",
    "                    if scoreCCW < scoreCW:\n",
    "                        score = scoreCW\n",
    "                        grayA = grayCW\n",
    "                    else:\n",
    "                        score = scoreCCW\n",
    "                        grayA = grayCCW\n",
    "                else:\n",
    "                    continue\n",
    "                score_list.append([_img, score])\n",
    "                tmp = get_concat_h(to_pil_image(grayA),to_pil_image(grayB),score)\n",
    "                # plt.imshow(tmp)\n",
    "                # plt.show()\n",
    "                plt.imshow(tmp); plt.axis('off'); plt.tight_layout(); #plt.show()\n",
    "                plt.savefig('./duplicated0/%s.png'%(str(int(score*1000))+ \"_\" + _img[0][:-4] + \"_\" + _img[1][:-4]))\n",
    "                plt.close('all')\n",
    "                plt.clf()\n",
    "                del tmp\n",
    "            del _check\n"
   ]
  },
  {
   "cell_type": "code",
   "execution_count": 27,
   "metadata": {},
   "outputs": [
    {
     "data": {
      "text/plain": [
       "482"
      ]
     },
     "execution_count": 27,
     "metadata": {},
     "output_type": "execute_result"
    }
   ],
   "source": [
    "len(sum(list(image_types['IMG'].values()),[]))\n",
    "#label0 총 482쌍"
   ]
  },
  {
   "cell_type": "code",
   "execution_count": 17,
   "metadata": {},
   "outputs": [
    {
     "ename": "NameError",
     "evalue": "name '_check' is not defined",
     "output_type": "error",
     "traceback": [
      "\u001b[1;31m---------------------------------------------------------------------------\u001b[0m",
      "\u001b[1;31mNameError\u001b[0m                                 Traceback (most recent call last)",
      "\u001b[1;32md:\\project\\Bowel_Movement_Cleaness\\EDA\\duplicated_image_check.ipynb 셀 11\u001b[0m in \u001b[0;36m<cell line: 1>\u001b[1;34m()\u001b[0m\n\u001b[1;32m----> <a href='vscode-notebook-cell:/d%3A/project/Bowel_Movement_Cleaness/EDA/duplicated_image_check.ipynb#X13sZmlsZQ%3D%3D?line=0'>1</a>\u001b[0m \u001b[39mfor\u001b[39;00m _img \u001b[39min\u001b[39;00m _check:\n\u001b[0;32m      <a href='vscode-notebook-cell:/d%3A/project/Bowel_Movement_Cleaness/EDA/duplicated_image_check.ipynb#X13sZmlsZQ%3D%3D?line=1'>2</a>\u001b[0m     \u001b[39mfor\u001b[39;00m i \u001b[39min\u001b[39;00m \u001b[39mrange\u001b[39m(\u001b[39m3\u001b[39m):\n\u001b[0;32m      <a href='vscode-notebook-cell:/d%3A/project/Bowel_Movement_Cleaness/EDA/duplicated_image_check.ipynb#X13sZmlsZQ%3D%3D?line=2'>3</a>\u001b[0m         file \u001b[39m=\u001b[39m VOCROOTDIR \u001b[39m+\u001b[39m \u001b[39m\"\u001b[39m\u001b[39m/\u001b[39m\u001b[39m\"\u001b[39m \u001b[39m+\u001b[39m \u001b[39mstr\u001b[39m(i) \u001b[39m+\u001b[39m \u001b[39m\"\u001b[39m\u001b[39m/\u001b[39m\u001b[39m\"\u001b[39m \u001b[39m+\u001b[39m _img[\u001b[39m0\u001b[39m]\n",
      "\u001b[1;31mNameError\u001b[0m: name '_check' is not defined"
     ]
    }
   ],
   "source": [
    "for _img in _check:\n",
    "    for i in range(3):\n",
    "        file = VOCROOTDIR + \"/\" + str(i) + \"/\" + _img[0]\n",
    "        if os.path.isfile(file):\n",
    "            imageA = cv2.imread(file)\n",
    "            break\n",
    "        else:\n",
    "            continue\n",
    "    for i in range(3):\n",
    "        file = VOCROOTDIR + \"/\" + str(i) + \"/\" + _img[1]\n",
    "        if os.path.isfile(file):\n",
    "            imageB = cv2.imread(file)\n",
    "            break\n",
    "        else:\n",
    "            continue"
   ]
  },
  {
   "cell_type": "code",
   "execution_count": 28,
   "metadata": {},
   "outputs": [
    {
     "name": "stderr",
     "output_type": "stream",
     "text": [
      "100%|██████████| 91/91 [00:19<00:00,  4.72it/s]\n"
     ]
    },
    {
     "data": {
      "text/plain": [
       "<Figure size 640x480 with 0 Axes>"
      ]
     },
     "metadata": {},
     "output_type": "display_data"
    }
   ],
   "source": [
    "count = 0\n",
    "score_list = []\n",
    "types = [\"ETC\"]\n",
    "for idx in types:\n",
    "    _check = list(combinations(image_types[idx],2))\n",
    "    for _img in tqdm(_check):\n",
    "        for i in range(3):\n",
    "            file = VOCROOTDIR + \"/\" + str(i) + \"/\" + _img[0]\n",
    "            if os.path.isfile(file):\n",
    "                imageA = cv2.imread(file)\n",
    "                break\n",
    "            else:\n",
    "                continue\n",
    "        for i in range(3):\n",
    "            file = VOCROOTDIR + \"/\" + str(i) + \"/\" + _img[1]\n",
    "            if os.path.isfile(file):\n",
    "                imageB = cv2.imread(file)\n",
    "                break\n",
    "            else:\n",
    "                if i == 2:\n",
    "                    print(file)\n",
    "                continue\n",
    "        del file\n",
    "        # print(_img)\n",
    "        # print(imageA.shape, imageB.shape)\n",
    "        if imageA.shape == imageB.shape:\n",
    "            grayA = cv2.cvtColor(imageA, cv2.COLOR_BGR2GRAY)\n",
    "            grayB = cv2.cvtColor(imageB, cv2.COLOR_BGR2GRAY)\n",
    "            (score, diff) = ssim(grayA, grayB, full=True)\n",
    "        elif imageA.shape == (imageB.shape[1],imageB.shape[0]):\n",
    "            grayB = cv2.cvtColor(imageB, cv2.COLOR_BGR2GRAY)\n",
    "\n",
    "            imageCCW = cv2.rotate(imageA, cv2.ROTATE_90_COUNTERCLOCKWISE)\n",
    "            grayCCW = cv2.cvtColor(imageCCW, cv2.COLOR_BGR2GRAY)\n",
    "            (scoreCCW, diffCCW) = ssim(grayCCW, grayB, full=True)\n",
    "\n",
    "            imageCW = cv2.rotate(imageA, cv2.ROTATE_90_CLOCKWISE)\n",
    "            grayCW = cv2.cvtColor(grayCW, cv2.COLOR_BGR2GRAY)\n",
    "            (scoreCW, diffCW) = ssim(grayCW, grayB, full=True)\n",
    "\n",
    "            if scoreCCW < scoreCW:\n",
    "                score = scoreCW\n",
    "                grayA = grayCW\n",
    "            else:\n",
    "                score = scoreCCW\n",
    "                grayA = grayCCW\n",
    "        else:\n",
    "            continue\n",
    "        score_list.append([_img, score])\n",
    "        tmp = get_concat_h(to_pil_image(grayA),to_pil_image(grayB),score)\n",
    "        # plt.imshow(tmp)\n",
    "        # plt.show()\n",
    "        plt.imshow(tmp); plt.axis('off'); plt.tight_layout(); #plt.show()\n",
    "        plt.savefig('./duplicated0/%s.png'%(str(int(score*1000))+ \"_\" + _img[0][:-4] + \"_\" + _img[1][:-4]))\n",
    "        plt.close('all')\n",
    "        plt.clf()\n",
    "        del tmp\n",
    "    del _check\n"
   ]
  },
  {
   "cell_type": "code",
   "execution_count": 29,
   "metadata": {},
   "outputs": [
    {
     "data": {
      "text/plain": [
       "14"
      ]
     },
     "execution_count": 29,
     "metadata": {},
     "output_type": "execute_result"
    }
   ],
   "source": [
    "len(image_types[idx])"
   ]
  },
  {
   "cell_type": "code",
   "execution_count": 30,
   "metadata": {},
   "outputs": [
    {
     "data": {
      "text/plain": [
       "[[('tmp_1571142043756.jpg', 'tmp_1575900337088.jpg'), 0.42531773372376086],\n",
       " [('1651193832-1.jpg', 'tmp_1635657899720.jpg'), 0.5239926264528089],\n",
       " [('1411450810-1.jpg', '1651193832-1.jpg'), 0.5440520161427577],\n",
       " [('1651193832-1.jpg', '290980310-1.jpg'), 0.565182741261053],\n",
       " [('1651193832-1.jpg', '2046329140-1.jpg'), 0.5851120132373681],\n",
       " [('1651193832-1.jpg', 'tmp_1621276119837.jpg'), 0.6008983506506894],\n",
       " [('1078694876-1.jpg', '1301837407-1.jpg'), 0.634205283730797],\n",
       " [('tmp_1621276119837.jpg', 'tmp_1635657899720.jpg'), 0.6572885549007222],\n",
       " [('290980310-1.jpg', 'tmp_1635657899720.jpg'), 0.6625858228907024],\n",
       " [('2046329140-1.jpg', 'tmp_1635657899720.jpg'), 0.6645271120419945],\n",
       " [('1078694876-1.jpg', '492669076-1.jpg'), 0.6757482842671656],\n",
       " [('1301837407-1.jpg', '492669076-1.jpg'), 0.6781640354037156],\n",
       " [('1078694876-1.jpg', '2077897036-1.jpg'), 0.6814405332802553],\n",
       " [('1078694876-1.jpg', '626443490-1.jpg'), 0.6871381516861607],\n",
       " [('1301837407-1.jpg', '2077897036-1.jpg'), 0.7043465474767564],\n",
       " [('1411450810-1.jpg', 'tmp_1621276119837.jpg'), 0.7055150990195435],\n",
       " [('1411450810-1.jpg', '2046329140-1.jpg'), 0.7103286938778488],\n",
       " [('290980310-1.jpg', 'tmp_1621276119837.jpg'), 0.7118929796954938],\n",
       " [('492669076-1.jpg', '626443490-1.jpg'), 0.7120779799158853],\n",
       " [('1411450810-1.jpg', 'tmp_1635657899720.jpg'), 0.7140724599002636],\n",
       " [('2046329140-1.jpg', '290980310-1.jpg'), 0.7158404960802874],\n",
       " [('2077897036-1.jpg', '626443490-1.jpg'), 0.7316262142365082],\n",
       " [('2077897036-1.jpg', '492669076-1.jpg'), 0.7628731529480792],\n",
       " [('2046329140-1.jpg', 'tmp_1621276119837.jpg'), 0.7713582594112982],\n",
       " [('1411450810-1.jpg', '290980310-1.jpg'), 0.793618087967545],\n",
       " [('1301837407-1.jpg', '626443490-1.jpg'), 0.8244794741308176]]"
      ]
     },
     "execution_count": 30,
     "metadata": {},
     "output_type": "execute_result"
    }
   ],
   "source": [
    "score_list.sort(key=lambda x: x[1])\n",
    "score_list"
   ]
  },
  {
   "attachments": {},
   "cell_type": "markdown",
   "metadata": {},
   "source": [
    "---\n",
    "\n",
    "## label 1"
   ]
  },
  {
   "cell_type": "code",
   "execution_count": 31,
   "metadata": {},
   "outputs": [],
   "source": [
    "VOCROOTDIR = \"../data/2022_10\"\n",
    "img_list = []\n",
    "files = os.listdir(VOCROOTDIR + \"/\" + str(1) + \"/\" )\n",
    "img_files = list(filter(lambda x: '.jpg' in x, files))\n",
    "img_list += img_files"
   ]
  },
  {
   "cell_type": "code",
   "execution_count": 32,
   "metadata": {},
   "outputs": [],
   "source": [
    "image_types = {\"IMG\":defaultdict(list), \"PANO\":defaultdict(list), \"ETC\":[]}"
   ]
  },
  {
   "cell_type": "code",
   "execution_count": 33,
   "metadata": {},
   "outputs": [],
   "source": [
    "for file_name in img_list:\n",
    "    _split = file_name.split(\"_\")\n",
    "    if 2 < len(_split):\n",
    "        image_types[_split[0]][_split[1]].append(file_name)\n",
    "    else:\n",
    "        image_types[\"ETC\"].append(file_name)"
   ]
  },
  {
   "cell_type": "code",
   "execution_count": 34,
   "metadata": {},
   "outputs": [],
   "source": [
    "def get_concat_h(im1, im2,score):\n",
    "    dst = Image.new('RGB', (im1.width + im2.width, im1.height))\n",
    "    dst.paste(im1, (0, 0))\n",
    "    dst.paste(im2, (im1.width, 0))\n",
    "    font = ImageFont.truetype(\"arial\", 400)\n",
    "    draw = ImageDraw.Draw(dst)\n",
    "    # .text(\n",
    "    #     (0, 0),  # Coordinates\n",
    "    #     'Hello world!',  # Text\n",
    "    #     (0, 0, 0)  # Color\n",
    "    # )\n",
    "    draw.text((10, 10),str(score),(0,0,255),font=font)\n",
    "\n",
    "    return dst"
   ]
  },
  {
   "cell_type": "code",
   "execution_count": 35,
   "metadata": {},
   "outputs": [],
   "source": [
    "from skimage.metrics import structural_similarity as ssim \n",
    "import argparse\n",
    "import cv2\n",
    "from skimage import io\n",
    "from itertools import combinations\n",
    "import matplotlib.pyplot as plt\n",
    "\n",
    "from PIL import Image, ImageFont, ImageDraw\n",
    "\n",
    "from torchvision.transforms.functional import to_pil_image\n",
    "from tqdm import tqdm"
   ]
  },
  {
   "cell_type": "code",
   "execution_count": 36,
   "metadata": {},
   "outputs": [],
   "source": [
    "os.makedirs(\"./duplicated1\")"
   ]
  },
  {
   "cell_type": "code",
   "execution_count": 37,
   "metadata": {},
   "outputs": [
    {
     "name": "stderr",
     "output_type": "stream",
     "text": [
      "100%|██████████| 152/152 [23:11<00:00,  9.16s/it]\n",
      "0it [00:00, ?it/s]\n"
     ]
    },
    {
     "data": {
      "text/plain": [
       "<Figure size 640x480 with 0 Axes>"
      ]
     },
     "metadata": {},
     "output_type": "display_data"
    }
   ],
   "source": [
    "count = 0\n",
    "score_list = []\n",
    "types = [\"IMG\",\"PANO\"]\n",
    "for idx in types:\n",
    "    for k,v in tqdm(image_types[idx].items()):\n",
    "        if(len(v) == 1):\n",
    "            continue\n",
    "        else:\n",
    "            _check = list(combinations(v,2))\n",
    "            for _img in _check:\n",
    "                for i in range(3):\n",
    "                    file = VOCROOTDIR + \"/\" + str(i) + \"/\" + _img[0]\n",
    "                    if os.path.isfile(file):\n",
    "                        imageA = cv2.imread(file)\n",
    "                        break\n",
    "                    else:\n",
    "                        continue\n",
    "                for i in range(3):\n",
    "                    file = VOCROOTDIR + \"/\" + str(i) + \"/\" + _img[1]\n",
    "                    if os.path.isfile(file):\n",
    "                        imageB = cv2.imread(file)\n",
    "                        break\n",
    "                    else:\n",
    "                        continue\n",
    "                del file\n",
    "                # print(_img)\n",
    "                # print(imageA.shape, imageB.shape)\n",
    "                if imageA.shape == imageB.shape:\n",
    "                    grayA = cv2.cvtColor(imageA, cv2.COLOR_BGR2GRAY)\n",
    "                    grayB = cv2.cvtColor(imageB, cv2.COLOR_BGR2GRAY)\n",
    "                    (score, diff) = ssim(grayA, grayB, full=True)\n",
    "                elif imageA.shape == (imageB.shape[1],imageB.shape[0]):\n",
    "                    grayB = cv2.cvtColor(imageB, cv2.COLOR_BGR2GRAY)\n",
    "\n",
    "                    imageCCW = cv2.rotate(imageA, cv2.ROTATE_90_COUNTERCLOCKWISE)\n",
    "                    grayCCW = cv2.cvtColor(imageCCW, cv2.COLOR_BGR2GRAY)\n",
    "                    (scoreCCW, diffCCW) = ssim(grayCCW, grayB, full=True)\n",
    "\n",
    "                    imageCW = cv2.rotate(imageA, cv2.ROTATE_90_CLOCKWISE)\n",
    "                    grayCW = cv2.cvtColor(grayCW, cv2.COLOR_BGR2GRAY)\n",
    "                    (scoreCW, diffCW) = ssim(grayCW, grayB, full=True)\n",
    "\n",
    "                    if scoreCCW < scoreCW:\n",
    "                        score = scoreCW\n",
    "                        grayA = grayCW\n",
    "                    else:\n",
    "                        score = scoreCCW\n",
    "                        grayA = grayCCW\n",
    "                else:\n",
    "                    continue\n",
    "                score_list.append([_img, score])\n",
    "                tmp = get_concat_h(to_pil_image(grayA),to_pil_image(grayB),score)\n",
    "                # plt.imshow(tmp)\n",
    "                # plt.show()\n",
    "                plt.imshow(tmp); plt.axis('off'); plt.tight_layout(); #plt.show()\n",
    "                plt.savefig('./duplicated1/%s.png'%(str(int(score*1000))+ \"_\" + _img[0][:-4] + \"_x_\" + _img[1][:-4]))\n",
    "                plt.close('all')\n",
    "                plt.clf()\n",
    "                del tmp\n",
    "            del _check\n"
   ]
  },
  {
   "cell_type": "code",
   "execution_count": null,
   "metadata": {},
   "outputs": [],
   "source": [
    "for _img in _check:\n",
    "    for i in range(3):\n",
    "        file = VOCROOTDIR + \"/\" + str(i) + \"/\" + _img[0]\n",
    "        if os.path.isfile(file):\n",
    "            imageA = cv2.imread(file)\n",
    "            break\n",
    "        else:\n",
    "            continue\n",
    "    for i in range(3):\n",
    "        file = VOCROOTDIR + \"/\" + str(i) + \"/\" + _img[1]\n",
    "        if os.path.isfile(file):\n",
    "            imageB = cv2.imread(file)\n",
    "            break\n",
    "        else:\n",
    "            continue"
   ]
  },
  {
   "cell_type": "code",
   "execution_count": 40,
   "metadata": {},
   "outputs": [
    {
     "name": "stderr",
     "output_type": "stream",
     "text": [
      "100%|██████████| 3/3 [00:00<00:00, 12.10it/s]\n"
     ]
    },
    {
     "data": {
      "text/plain": [
       "<Figure size 640x480 with 0 Axes>"
      ]
     },
     "metadata": {},
     "output_type": "display_data"
    }
   ],
   "source": [
    "count = 0\n",
    "score_list = []\n",
    "types = [\"ETC\"]\n",
    "for idx in types:\n",
    "    _check = list(combinations(image_types[idx],2))\n",
    "    for _img in tqdm(_check):\n",
    "        for i in range(3):\n",
    "            file = VOCROOTDIR + \"/\" + str(i) + \"/\" + _img[0]\n",
    "            if os.path.isfile(file):\n",
    "                imageA = cv2.imread(file)\n",
    "                break\n",
    "            else:\n",
    "                continue\n",
    "        for i in range(3):\n",
    "            file = VOCROOTDIR + \"/\" + str(i) + \"/\" + _img[1]\n",
    "            if os.path.isfile(file):\n",
    "                imageB = cv2.imread(file)\n",
    "                break\n",
    "            else:\n",
    "                if i == 2:\n",
    "                    print(file)\n",
    "                continue\n",
    "        del file\n",
    "        # print(_img)\n",
    "        # print(imageA.shape, imageB.shape)\n",
    "        if imageA.shape == imageB.shape:\n",
    "            grayA = cv2.cvtColor(imageA, cv2.COLOR_BGR2GRAY)\n",
    "            grayB = cv2.cvtColor(imageB, cv2.COLOR_BGR2GRAY)\n",
    "            (score, diff) = ssim(grayA, grayB, full=True)\n",
    "        elif imageA.shape == (imageB.shape[1],imageB.shape[0]):\n",
    "            grayB = cv2.cvtColor(imageB, cv2.COLOR_BGR2GRAY)\n",
    "\n",
    "            imageCCW = cv2.rotate(imageA, cv2.ROTATE_90_COUNTERCLOCKWISE)\n",
    "            grayCCW = cv2.cvtColor(imageCCW, cv2.COLOR_BGR2GRAY)\n",
    "            (scoreCCW, diffCCW) = ssim(grayCCW, grayB, full=True)\n",
    "\n",
    "            imageCW = cv2.rotate(imageA, cv2.ROTATE_90_CLOCKWISE)\n",
    "            grayCW = cv2.cvtColor(grayCW, cv2.COLOR_BGR2GRAY)\n",
    "            (scoreCW, diffCW) = ssim(grayCW, grayB, full=True)\n",
    "\n",
    "            if scoreCCW < scoreCW:\n",
    "                score = scoreCW\n",
    "                grayA = grayCW\n",
    "            else:\n",
    "                score = scoreCCW\n",
    "                grayA = grayCCW\n",
    "        else:\n",
    "            continue\n",
    "        score_list.append([_img, score])\n",
    "        tmp = get_concat_h(to_pil_image(grayA),to_pil_image(grayB),score)\n",
    "        # plt.imshow(tmp)\n",
    "        # plt.show()\n",
    "        plt.imshow(tmp); plt.axis('off'); plt.tight_layout(); #plt.show()\n",
    "        plt.savefig('./duplicated1/%s.png'%(str(int(score*1000))+ \"_\" + _img[0][:-4] + \"_x_\" + _img[1][:-4]))\n",
    "        plt.close('all')\n",
    "        plt.clf()\n",
    "        del tmp\n",
    "    del _check\n"
   ]
  },
  {
   "attachments": {},
   "cell_type": "markdown",
   "metadata": {},
   "source": [
    "---\n",
    "# label 2"
   ]
  },
  {
   "cell_type": "code",
   "execution_count": 41,
   "metadata": {},
   "outputs": [],
   "source": [
    "VOCROOTDIR = \"../data/2022_10\"\n",
    "img_list = []\n",
    "files = os.listdir(VOCROOTDIR + \"/\" + str(2) + \"/\" )\n",
    "img_files = list(filter(lambda x: '.jpg' in x, files))\n",
    "img_list += img_files"
   ]
  },
  {
   "cell_type": "code",
   "execution_count": 42,
   "metadata": {},
   "outputs": [],
   "source": [
    "image_types = {\"IMG\":defaultdict(list), \"PANO\":defaultdict(list), \"ETC\":[]}"
   ]
  },
  {
   "cell_type": "code",
   "execution_count": 43,
   "metadata": {},
   "outputs": [],
   "source": [
    "for file_name in img_list:\n",
    "    _split = file_name.split(\"_\")\n",
    "    if 2 < len(_split):\n",
    "        image_types[_split[0]][_split[1]].append(file_name)\n",
    "    else:\n",
    "        image_types[\"ETC\"].append(file_name)"
   ]
  },
  {
   "cell_type": "code",
   "execution_count": 44,
   "metadata": {},
   "outputs": [],
   "source": [
    "def get_concat_h(im1, im2,score):\n",
    "    dst = Image.new('RGB', (im1.width + im2.width, im1.height))\n",
    "    dst.paste(im1, (0, 0))\n",
    "    dst.paste(im2, (im1.width, 0))\n",
    "    font = ImageFont.truetype(\"arial\", 400)\n",
    "    draw = ImageDraw.Draw(dst)\n",
    "    # .text(\n",
    "    #     (0, 0),  # Coordinates\n",
    "    #     'Hello world!',  # Text\n",
    "    #     (0, 0, 0)  # Color\n",
    "    # )\n",
    "    draw.text((10, 10),str(score),(0,0,255),font=font)\n",
    "\n",
    "    return dst"
   ]
  },
  {
   "cell_type": "code",
   "execution_count": 45,
   "metadata": {},
   "outputs": [],
   "source": [
    "from skimage.metrics import structural_similarity as ssim \n",
    "import argparse\n",
    "import cv2\n",
    "from skimage import io\n",
    "from itertools import combinations\n",
    "import matplotlib.pyplot as plt\n",
    "\n",
    "from PIL import Image, ImageFont, ImageDraw\n",
    "\n",
    "from torchvision.transforms.functional import to_pil_image\n",
    "from tqdm import tqdm"
   ]
  },
  {
   "cell_type": "code",
   "execution_count": 46,
   "metadata": {},
   "outputs": [],
   "source": [
    "os.makedirs(\"./duplicated2\")"
   ]
  },
  {
   "cell_type": "code",
   "execution_count": 47,
   "metadata": {},
   "outputs": [
    {
     "name": "stderr",
     "output_type": "stream",
     "text": [
      " 82%|████████▏ | 142/174 [52:14<11:46, 22.08s/it]   \n"
     ]
    },
    {
     "ename": "MemoryError",
     "evalue": "Unable to allocate 99.0 MiB for an array with shape (4160, 3120) and data type float64",
     "output_type": "error",
     "traceback": [
      "\u001b[1;31m---------------------------------------------------------------------------\u001b[0m",
      "\u001b[1;31mMemoryError\u001b[0m                               Traceback (most recent call last)",
      "\u001b[1;32md:\\project\\Bowel_Movement_Cleaness\\EDA\\duplicated_image_check.ipynb 셀 33\u001b[0m in \u001b[0;36m<cell line: 4>\u001b[1;34m()\u001b[0m\n\u001b[0;32m     <a href='vscode-notebook-cell:/d%3A/project/Bowel_Movement_Cleaness/EDA/duplicated_image_check.ipynb#X56sZmlsZQ%3D%3D?line=28'>29</a>\u001b[0m     grayA \u001b[39m=\u001b[39m cv2\u001b[39m.\u001b[39mcvtColor(imageA, cv2\u001b[39m.\u001b[39mCOLOR_BGR2GRAY)\n\u001b[0;32m     <a href='vscode-notebook-cell:/d%3A/project/Bowel_Movement_Cleaness/EDA/duplicated_image_check.ipynb#X56sZmlsZQ%3D%3D?line=29'>30</a>\u001b[0m     grayB \u001b[39m=\u001b[39m cv2\u001b[39m.\u001b[39mcvtColor(imageB, cv2\u001b[39m.\u001b[39mCOLOR_BGR2GRAY)\n\u001b[1;32m---> <a href='vscode-notebook-cell:/d%3A/project/Bowel_Movement_Cleaness/EDA/duplicated_image_check.ipynb#X56sZmlsZQ%3D%3D?line=30'>31</a>\u001b[0m     (score, diff) \u001b[39m=\u001b[39m ssim(grayA, grayB, full\u001b[39m=\u001b[39;49m\u001b[39mTrue\u001b[39;49;00m)\n\u001b[0;32m     <a href='vscode-notebook-cell:/d%3A/project/Bowel_Movement_Cleaness/EDA/duplicated_image_check.ipynb#X56sZmlsZQ%3D%3D?line=31'>32</a>\u001b[0m \u001b[39melif\u001b[39;00m imageA\u001b[39m.\u001b[39mshape \u001b[39m==\u001b[39m (imageB\u001b[39m.\u001b[39mshape[\u001b[39m1\u001b[39m],imageB\u001b[39m.\u001b[39mshape[\u001b[39m0\u001b[39m]):\n\u001b[0;32m     <a href='vscode-notebook-cell:/d%3A/project/Bowel_Movement_Cleaness/EDA/duplicated_image_check.ipynb#X56sZmlsZQ%3D%3D?line=32'>33</a>\u001b[0m     grayB \u001b[39m=\u001b[39m cv2\u001b[39m.\u001b[39mcvtColor(imageB, cv2\u001b[39m.\u001b[39mCOLOR_BGR2GRAY)\n",
      "File \u001b[1;32mc:\\Users\\USER\\anaconda4\\envs\\bmc\\lib\\site-packages\\skimage\\_shared\\utils.py:348\u001b[0m, in \u001b[0;36mdeprecate_multichannel_kwarg.__call__.<locals>.fixed_func\u001b[1;34m(*args, **kwargs)\u001b[0m\n\u001b[0;32m    345\u001b[0m     kwargs[\u001b[39m'\u001b[39m\u001b[39mchannel_axis\u001b[39m\u001b[39m'\u001b[39m] \u001b[39m=\u001b[39m convert[kwargs\u001b[39m.\u001b[39mpop(\u001b[39m'\u001b[39m\u001b[39mmultichannel\u001b[39m\u001b[39m'\u001b[39m)]\n\u001b[0;32m    347\u001b[0m \u001b[39m# Call the function with the fixed arguments\u001b[39;00m\n\u001b[1;32m--> 348\u001b[0m \u001b[39mreturn\u001b[39;00m func(\u001b[39m*\u001b[39margs, \u001b[39m*\u001b[39m\u001b[39m*\u001b[39mkwargs)\n",
      "File \u001b[1;32mc:\\Users\\USER\\anaconda4\\envs\\bmc\\lib\\site-packages\\skimage\\metrics\\_structural_similarity.py:230\u001b[0m, in \u001b[0;36mstructural_similarity\u001b[1;34m(im1, im2, win_size, gradient, data_range, channel_axis, multichannel, gaussian_weights, full, **kwargs)\u001b[0m\n\u001b[0;32m    225\u001b[0m A1, A2, B1, B2 \u001b[39m=\u001b[39m ((\u001b[39m2\u001b[39m \u001b[39m*\u001b[39m ux \u001b[39m*\u001b[39m uy \u001b[39m+\u001b[39m C1,\n\u001b[0;32m    226\u001b[0m                    \u001b[39m2\u001b[39m \u001b[39m*\u001b[39m vxy \u001b[39m+\u001b[39m C2,\n\u001b[0;32m    227\u001b[0m                    ux \u001b[39m*\u001b[39m\u001b[39m*\u001b[39m \u001b[39m2\u001b[39m \u001b[39m+\u001b[39m uy \u001b[39m*\u001b[39m\u001b[39m*\u001b[39m \u001b[39m2\u001b[39m \u001b[39m+\u001b[39m C1,\n\u001b[0;32m    228\u001b[0m                    vx \u001b[39m+\u001b[39m vy \u001b[39m+\u001b[39m C2))\n\u001b[0;32m    229\u001b[0m D \u001b[39m=\u001b[39m B1 \u001b[39m*\u001b[39m B2\n\u001b[1;32m--> 230\u001b[0m S \u001b[39m=\u001b[39m (A1 \u001b[39m*\u001b[39;49m A2) \u001b[39m/\u001b[39;49m D\n\u001b[0;32m    232\u001b[0m \u001b[39m# to avoid edge effects will ignore filter radius strip around edges\u001b[39;00m\n\u001b[0;32m    233\u001b[0m pad \u001b[39m=\u001b[39m (win_size \u001b[39m-\u001b[39m \u001b[39m1\u001b[39m) \u001b[39m/\u001b[39m\u001b[39m/\u001b[39m \u001b[39m2\u001b[39m\n",
      "\u001b[1;31mMemoryError\u001b[0m: Unable to allocate 99.0 MiB for an array with shape (4160, 3120) and data type float64"
     ]
    },
    {
     "data": {
      "text/plain": [
       "<Figure size 640x480 with 0 Axes>"
      ]
     },
     "metadata": {},
     "output_type": "display_data"
    }
   ],
   "source": [
    "count = 0\n",
    "score_list = []\n",
    "types = [\"IMG\",\"PANO\"]\n",
    "for idx in types:\n",
    "    for k,v in tqdm(image_types[idx].items()):\n",
    "        if(len(v) == 1):\n",
    "            continue\n",
    "        else:\n",
    "            _check = list(combinations(v,2))\n",
    "            for _img in _check:\n",
    "                for i in range(3):\n",
    "                    file = VOCROOTDIR + \"/\" + str(i) + \"/\" + _img[0]\n",
    "                    if os.path.isfile(file):\n",
    "                        imageA = cv2.imread(file)\n",
    "                        break\n",
    "                    else:\n",
    "                        continue\n",
    "                for i in range(3):\n",
    "                    file = VOCROOTDIR + \"/\" + str(i) + \"/\" + _img[1]\n",
    "                    if os.path.isfile(file):\n",
    "                        imageB = cv2.imread(file)\n",
    "                        break\n",
    "                    else:\n",
    "                        continue\n",
    "                del file\n",
    "                # print(_img)\n",
    "                # print(imageA.shape, imageB.shape)\n",
    "                if imageA.shape == imageB.shape:\n",
    "                    grayA = cv2.cvtColor(imageA, cv2.COLOR_BGR2GRAY)\n",
    "                    grayB = cv2.cvtColor(imageB, cv2.COLOR_BGR2GRAY)\n",
    "                    (score, diff) = ssim(grayA, grayB, full=True)\n",
    "                elif imageA.shape == (imageB.shape[1],imageB.shape[0]):\n",
    "                    grayB = cv2.cvtColor(imageB, cv2.COLOR_BGR2GRAY)\n",
    "\n",
    "                    imageCCW = cv2.rotate(imageA, cv2.ROTATE_90_COUNTERCLOCKWISE)\n",
    "                    grayCCW = cv2.cvtColor(imageCCW, cv2.COLOR_BGR2GRAY)\n",
    "                    (scoreCCW, diffCCW) = ssim(grayCCW, grayB, full=True)\n",
    "\n",
    "                    imageCW = cv2.rotate(imageA, cv2.ROTATE_90_CLOCKWISE)\n",
    "                    grayCW = cv2.cvtColor(grayCW, cv2.COLOR_BGR2GRAY)\n",
    "                    (scoreCW, diffCW) = ssim(grayCW, grayB, full=True)\n",
    "\n",
    "                    if scoreCCW < scoreCW:\n",
    "                        score = scoreCW\n",
    "                        grayA = grayCW\n",
    "                    else:\n",
    "                        score = scoreCCW\n",
    "                        grayA = grayCCW\n",
    "                else:\n",
    "                    continue\n",
    "                score_list.append([_img, score])\n",
    "                tmp = get_concat_h(to_pil_image(grayA),to_pil_image(grayB),score)\n",
    "                # plt.imshow(tmp)\n",
    "                # plt.show()\n",
    "                plt.imshow(tmp); plt.axis('off'); plt.tight_layout(); #plt.show()\n",
    "                plt.savefig('./duplicated2/%s.png'%(str(int(score*1000))+ \"_\" + _img[0][:-4] + \"_x_\" + _img[1][:-4]))\n",
    "                plt.close('all')\n",
    "                plt.clf()\n",
    "                del tmp\n",
    "            del _check\n"
   ]
  },
  {
   "cell_type": "code",
   "execution_count": null,
   "metadata": {},
   "outputs": [],
   "source": [
    "for _img in _check:\n",
    "    for i in range(3):\n",
    "        file = VOCROOTDIR + \"/\" + str(i) + \"/\" + _img[0]\n",
    "        if os.path.isfile(file):\n",
    "            imageA = cv2.imread(file)\n",
    "            break\n",
    "        else:\n",
    "            continue\n",
    "    for i in range(3):\n",
    "        file = VOCROOTDIR + \"/\" + str(i) + \"/\" + _img[1]\n",
    "        if os.path.isfile(file):\n",
    "            imageB = cv2.imread(file)\n",
    "            break\n",
    "        else:\n",
    "            continue"
   ]
  },
  {
   "cell_type": "code",
   "execution_count": null,
   "metadata": {},
   "outputs": [],
   "source": [
    "count = 0\n",
    "score_list = []\n",
    "types = [\"ETC\"]\n",
    "for idx in types:\n",
    "    _check = list(combinations(image_types[idx],2))\n",
    "    for _img in tqdm(_check):\n",
    "        for i in range(3):\n",
    "            file = VOCROOTDIR + \"/\" + str(i) + \"/\" + _img[0]\n",
    "            if os.path.isfile(file):\n",
    "                imageA = cv2.imread(file)\n",
    "                break\n",
    "            else:\n",
    "                continue\n",
    "        for i in range(3):\n",
    "            file = VOCROOTDIR + \"/\" + str(i) + \"/\" + _img[1]\n",
    "            if os.path.isfile(file):\n",
    "                imageB = cv2.imread(file)\n",
    "                break\n",
    "            else:\n",
    "                if i == 2:\n",
    "                    print(file)\n",
    "                continue\n",
    "        del file\n",
    "        # print(_img)\n",
    "        # print(imageA.shape, imageB.shape)\n",
    "        if imageA.shape == imageB.shape:\n",
    "            grayA = cv2.cvtColor(imageA, cv2.COLOR_BGR2GRAY)\n",
    "            grayB = cv2.cvtColor(imageB, cv2.COLOR_BGR2GRAY)\n",
    "            (score, diff) = ssim(grayA, grayB, full=True)\n",
    "        elif imageA.shape == (imageB.shape[1],imageB.shape[0]):\n",
    "            grayB = cv2.cvtColor(imageB, cv2.COLOR_BGR2GRAY)\n",
    "\n",
    "            imageCCW = cv2.rotate(imageA, cv2.ROTATE_90_COUNTERCLOCKWISE)\n",
    "            grayCCW = cv2.cvtColor(imageCCW, cv2.COLOR_BGR2GRAY)\n",
    "            (scoreCCW, diffCCW) = ssim(grayCCW, grayB, full=True)\n",
    "\n",
    "            imageCW = cv2.rotate(imageA, cv2.ROTATE_90_CLOCKWISE)\n",
    "            grayCW = cv2.cvtColor(grayCW, cv2.COLOR_BGR2GRAY)\n",
    "            (scoreCW, diffCW) = ssim(grayCW, grayB, full=True)\n",
    "\n",
    "            if scoreCCW < scoreCW:\n",
    "                score = scoreCW\n",
    "                grayA = grayCW\n",
    "            else:\n",
    "                score = scoreCCW\n",
    "                grayA = grayCCW\n",
    "        else:\n",
    "            continue\n",
    "        score_list.append([_img, score])\n",
    "        tmp = get_concat_h(to_pil_image(grayA),to_pil_image(grayB),score)\n",
    "        # plt.imshow(tmp)\n",
    "        # plt.show()\n",
    "        plt.imshow(tmp); plt.axis('off'); plt.tight_layout(); #plt.show()\n",
    "        plt.savefig('./duplicated2/%s.png'%(str(int(score*1000))+ \"_\" + _img[0][:-4] + \"_x_\" + _img[1][:-4]))\n",
    "        plt.close('all')\n",
    "        plt.clf()\n",
    "        del tmp\n",
    "    del _check\n"
   ]
  },
  {
   "cell_type": "code",
   "execution_count": null,
   "metadata": {},
   "outputs": [],
   "source": []
  },
  {
   "attachments": {},
   "cell_type": "markdown",
   "metadata": {},
   "source": [
    "---\n",
    "\n",
    "# 서브라벨 반영"
   ]
  },
  {
   "cell_type": "code",
   "execution_count": 39,
   "metadata": {},
   "outputs": [],
   "source": [
    "import pandas as pd\n",
    "import os"
   ]
  },
  {
   "cell_type": "code",
   "execution_count": null,
   "metadata": {},
   "outputs": [],
   "source": [
    "label0_dups = glob(\"./duplicated0\")\n",
    "label1_dups = glob(\"./duplicated1\")\n",
    "label2_dups = glob(\"./duplicated2\")"
   ]
  },
  {
   "cell_type": "code",
   "execution_count": null,
   "metadata": {},
   "outputs": [],
   "source": [
    "for file_couples in label0_dups:\n",
    "    first_file=file_couples.split(\"_x_\")[0]\n",
    "    second_file=file_couples.split(\"_x_\")[1]\n",
    "    first_file[]\n",
    "    bmc_df.iloc[idx][['color','residue','turbidity']]"
   ]
  }
 ],
 "metadata": {
  "kernelspec": {
   "display_name": "Python 3.9.13 ('bmc')",
   "language": "python",
   "name": "python3"
  },
  "language_info": {
   "codemirror_mode": {
    "name": "ipython",
    "version": 3
   },
   "file_extension": ".py",
   "mimetype": "text/x-python",
   "name": "python",
   "nbconvert_exporter": "python",
   "pygments_lexer": "ipython3",
   "version": "3.9.13"
  },
  "orig_nbformat": 4,
  "vscode": {
   "interpreter": {
    "hash": "091e73c5e15df28bd73063e1905a4bad764ae5a5009f711fc664069592307726"
   }
  }
 },
 "nbformat": 4,
 "nbformat_minor": 2
}
