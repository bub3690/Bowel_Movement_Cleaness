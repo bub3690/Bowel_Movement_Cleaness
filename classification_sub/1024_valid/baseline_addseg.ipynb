{
 "cells": [
  {
   "cell_type": "markdown",
   "id": "b6e16b6a",
   "metadata": {},
   "source": [
    "# baseline\n",
    "\n",
    "- classification baseline code\n",
    "- Resnet을 이용해, label(0,1,2) 분류\n",
    "- settings\n",
    "\n",
    "```\n",
    "1. random oversampling\n",
    "2. early stopping\n",
    "3. kfold (미정)\n",
    "```\n"
   ]
  },
  {
   "cell_type": "code",
   "execution_count": 1,
   "id": "e78e0ab3",
   "metadata": {},
   "outputs": [],
   "source": [
    "import torch\n",
    "import torch.nn as nn # 인공 신경망 모델들 모아놓은 모듈\n",
    "import torch.nn.functional as F #그중 자주 쓰이는것들을 F로\n",
    "from torchvision import transforms, datasets\n",
    "import torchvision.models as models\n",
    "import cv2\n",
    "\n",
    "\n",
    "import matplotlib.pyplot as plt\n",
    "import numpy as np\n",
    "import pandas as pd\n",
    "import os\n",
    "from glob import glob\n",
    "import sys\n",
    "from tqdm import tqdm\n",
    "\n",
    "import wandb\n"
   ]
  },
  {
   "cell_type": "code",
   "execution_count": 2,
   "id": "a3471c8d",
   "metadata": {},
   "outputs": [],
   "source": [
    "# import early stop\n",
    "\n",
    "p = os.path.abspath('../../utils') # 상위 폴더를 사용하기 위해서.\n",
    "sys.path.insert(1, p)\n",
    "from pytorchtools.pytorchtools import EarlyStopping # 상위 폴더에 추가된 모듈."
   ]
  },
  {
   "cell_type": "code",
   "execution_count": 3,
   "id": "ac838df6",
   "metadata": {},
   "outputs": [
    {
     "name": "stdout",
     "output_type": "stream",
     "text": [
      "Using Pytorch version :  1.12.1  Device :  cuda\n"
     ]
    }
   ],
   "source": [
    "if torch.cuda.is_available():\n",
    "    DEVICE = torch.device('cuda')\n",
    "else:\n",
    "    DEVICE = torch.device('cpu')\n",
    "#DEVICE = torch.device('cpu')\n",
    "print('Using Pytorch version : ',torch.__version__,' Device : ',DEVICE)"
   ]
  },
  {
   "cell_type": "markdown",
   "id": "ddf3d88a",
   "metadata": {},
   "source": [
    "# 데이터 분류"
   ]
  },
  {
   "cell_type": "markdown",
   "id": "44be9f7e",
   "metadata": {},
   "source": [
    "## train / valid / test"
   ]
  },
  {
   "cell_type": "code",
   "execution_count": 4,
   "id": "de34d32a",
   "metadata": {},
   "outputs": [
    {
     "name": "stdout",
     "output_type": "stream",
     "text": [
      "---\n",
      "훈련 셋 :  866 Counter({2: 331, 0: 322, 1: 213})\n",
      "검증 셋 :  217 Counter({2: 85, 0: 74, 1: 58})\n",
      "---\n"
     ]
    }
   ],
   "source": [
    "#1. train, test 나누기\n",
    "\n",
    "from imblearn.over_sampling import RandomOverSampler\n",
    "from collections import Counter\n",
    "from sklearn.model_selection import train_test_split # train , test 분리에 사용.\n",
    "\n",
    "def get_num(file_str):\n",
    "    return int(file_str.split(\"\\\\\")[-1].split(\".\")[0])\n",
    "\n",
    "X_train = glob('../../data/bmc_label_voc_split/images/train/*.jpg')\n",
    "X_valid = glob('../../data/bmc_label_voc_split/images/val/*.jpg')\n",
    "\n",
    "X_train_mask = glob('../../data/bmc_label_voc_split/annotations/train/*.png')\n",
    "X_valid_mask = glob('../../data/bmc_label_voc_split/annotations/val/*.png')\n",
    "\n",
    "\n",
    "X_train_name=list(map(get_num,X_train))\n",
    "X_valid_name=list(map(get_num,X_valid))\n",
    "\n",
    "#첫번째 열 이름 바꿔주기\n",
    "label_df = pd.read_csv('../../bmc.csv')\n",
    "column_names = list(label_df.columns)\n",
    "column_names[0]='file_name'\n",
    "label_df.columns = column_names\n",
    "\n",
    "# Y값 찾아오기\n",
    "Y_train_df=pd.merge(pd.DataFrame(X_train_name,columns=['file_name']),label_df,left_on='file_name',right_on='file_name',how='inner')\n",
    "Y_valid_df=pd.merge(pd.DataFrame(X_valid_name,columns=['file_name']),label_df,left_on='file_name',right_on='file_name',how='inner')\n",
    "\n",
    "\n",
    "\n",
    "print(\"---\")\n",
    "print(\"훈련 셋 : \",len(Y_train_df),Counter(Y_train_df['label']))\n",
    "print(\"검증 셋 : \",len(Y_valid_df),Counter(Y_valid_df['label']))\n",
    "print(\"---\")\n"
   ]
  },
  {
   "cell_type": "code",
   "execution_count": 5,
   "id": "a4088040",
   "metadata": {},
   "outputs": [
    {
     "data": {
      "text/html": [
       "<div>\n",
       "<style scoped>\n",
       "    .dataframe tbody tr th:only-of-type {\n",
       "        vertical-align: middle;\n",
       "    }\n",
       "\n",
       "    .dataframe tbody tr th {\n",
       "        vertical-align: top;\n",
       "    }\n",
       "\n",
       "    .dataframe thead th {\n",
       "        text-align: right;\n",
       "    }\n",
       "</style>\n",
       "<table border=\"1\" class=\"dataframe\">\n",
       "  <thead>\n",
       "    <tr style=\"text-align: right;\">\n",
       "      <th></th>\n",
       "      <th>file_name</th>\n",
       "      <th>origin_name</th>\n",
       "      <th>color</th>\n",
       "      <th>residue</th>\n",
       "      <th>turbidity</th>\n",
       "      <th>label</th>\n",
       "    </tr>\n",
       "  </thead>\n",
       "  <tbody>\n",
       "    <tr>\n",
       "      <th>0</th>\n",
       "      <td>0</td>\n",
       "      <td>1301837407-1</td>\n",
       "      <td>0</td>\n",
       "      <td>0</td>\n",
       "      <td>0</td>\n",
       "      <td>0</td>\n",
       "    </tr>\n",
       "    <tr>\n",
       "      <th>1</th>\n",
       "      <td>1</td>\n",
       "      <td>1411450810-1</td>\n",
       "      <td>0</td>\n",
       "      <td>0</td>\n",
       "      <td>0</td>\n",
       "      <td>0</td>\n",
       "    </tr>\n",
       "    <tr>\n",
       "      <th>2</th>\n",
       "      <td>2</td>\n",
       "      <td>1651193832-1</td>\n",
       "      <td>0</td>\n",
       "      <td>0</td>\n",
       "      <td>0</td>\n",
       "      <td>0</td>\n",
       "    </tr>\n",
       "    <tr>\n",
       "      <th>3</th>\n",
       "      <td>3</td>\n",
       "      <td>2077897036-1</td>\n",
       "      <td>0</td>\n",
       "      <td>0</td>\n",
       "      <td>0</td>\n",
       "      <td>0</td>\n",
       "    </tr>\n",
       "    <tr>\n",
       "      <th>4</th>\n",
       "      <td>4</td>\n",
       "      <td>290980310-1</td>\n",
       "      <td>0</td>\n",
       "      <td>1</td>\n",
       "      <td>0</td>\n",
       "      <td>0</td>\n",
       "    </tr>\n",
       "    <tr>\n",
       "      <th>...</th>\n",
       "      <td>...</td>\n",
       "      <td>...</td>\n",
       "      <td>...</td>\n",
       "      <td>...</td>\n",
       "      <td>...</td>\n",
       "      <td>...</td>\n",
       "    </tr>\n",
       "    <tr>\n",
       "      <th>1078</th>\n",
       "      <td>1078</td>\n",
       "      <td>PANO_20200407_221523</td>\n",
       "      <td>2</td>\n",
       "      <td>2</td>\n",
       "      <td>1</td>\n",
       "      <td>2</td>\n",
       "    </tr>\n",
       "    <tr>\n",
       "      <th>1079</th>\n",
       "      <td>1079</td>\n",
       "      <td>PANO_20200407_221527</td>\n",
       "      <td>2</td>\n",
       "      <td>2</td>\n",
       "      <td>1</td>\n",
       "      <td>2</td>\n",
       "    </tr>\n",
       "    <tr>\n",
       "      <th>1080</th>\n",
       "      <td>1080</td>\n",
       "      <td>PANO_20200818_174909</td>\n",
       "      <td>2</td>\n",
       "      <td>2</td>\n",
       "      <td>1</td>\n",
       "      <td>2</td>\n",
       "    </tr>\n",
       "    <tr>\n",
       "      <th>1081</th>\n",
       "      <td>1081</td>\n",
       "      <td>PANO_20210330_062718</td>\n",
       "      <td>2</td>\n",
       "      <td>2</td>\n",
       "      <td>1</td>\n",
       "      <td>2</td>\n",
       "    </tr>\n",
       "    <tr>\n",
       "      <th>1082</th>\n",
       "      <td>1082</td>\n",
       "      <td>tmp_1610355667809</td>\n",
       "      <td>2</td>\n",
       "      <td>2</td>\n",
       "      <td>1</td>\n",
       "      <td>2</td>\n",
       "    </tr>\n",
       "  </tbody>\n",
       "</table>\n",
       "<p>1083 rows × 6 columns</p>\n",
       "</div>"
      ],
      "text/plain": [
       "      file_name           origin_name  color  residue  turbidity  label\n",
       "0             0          1301837407-1      0        0          0      0\n",
       "1             1          1411450810-1      0        0          0      0\n",
       "2             2          1651193832-1      0        0          0      0\n",
       "3             3          2077897036-1      0        0          0      0\n",
       "4             4           290980310-1      0        1          0      0\n",
       "...         ...                   ...    ...      ...        ...    ...\n",
       "1078       1078  PANO_20200407_221523      2        2          1      2\n",
       "1079       1079  PANO_20200407_221527      2        2          1      2\n",
       "1080       1080  PANO_20200818_174909      2        2          1      2\n",
       "1081       1081  PANO_20210330_062718      2        2          1      2\n",
       "1082       1082     tmp_1610355667809      2        2          1      2\n",
       "\n",
       "[1083 rows x 6 columns]"
      ]
     },
     "execution_count": 5,
     "metadata": {},
     "output_type": "execute_result"
    }
   ],
   "source": [
    "label_df"
   ]
  },
  {
   "cell_type": "code",
   "execution_count": 6,
   "id": "5aaaa14c",
   "metadata": {},
   "outputs": [
    {
     "data": {
      "text/plain": [
       "3"
      ]
     },
     "execution_count": 6,
     "metadata": {},
     "output_type": "execute_result"
    }
   ],
   "source": [
    "len(set(label_df['color']))"
   ]
  },
  {
   "cell_type": "markdown",
   "id": "4ac7eaf6",
   "metadata": {},
   "source": [
    "## random over sampling"
   ]
  },
  {
   "cell_type": "code",
   "execution_count": 101,
   "id": "ecd9c0aa",
   "metadata": {},
   "outputs": [
    {
     "name": "stdout",
     "output_type": "stream",
     "text": [
      "89.67538499999999\n"
     ]
    }
   ],
   "source": [
    "a1=0.3917\n",
    "a2=0.3410\n",
    "a3=0.2672\n",
    "\n",
    "x1=93.55\n",
    "x2=82.45\n",
    "x3=93.25\n",
    "\n",
    "print(a1*x1+a2*x2+a3*x3)"
   ]
  },
  {
   "cell_type": "markdown",
   "id": "43550650",
   "metadata": {},
   "source": [
    "# 데이터 정의"
   ]
  },
  {
   "cell_type": "code",
   "execution_count": 121,
   "id": "6b09f4be",
   "metadata": {},
   "outputs": [],
   "source": [
    "import torch\n",
    "from torch.utils.data import Dataset, DataLoader\n",
    "from torchvision.ops import masks_to_boxes\n",
    "\n",
    "class BowelDataset(Dataset):\n",
    "    def __init__(self, data_path_list,mask_path_list,label_df,to_tensor,transform):\n",
    "        self.data_path_list = data_path_list\n",
    "        self.mask_path_list = mask_path_list\n",
    "        self.label_df = label_df\n",
    "        self.to_tensor = to_tensor\n",
    "        self.transform = transform\n",
    "\n",
    "    def __len__(self):\n",
    "        return len(self.data_path_list)\n",
    "\n",
    "    def __getitem__(self, idx):\n",
    "        file_path = self.data_path_list[idx]\n",
    "        image = cv2.imread(file_path)\n",
    "        image = cv2.cvtColor(image, cv2.COLOR_BGR2RGB)\n",
    "\n",
    "        image=self.to_tensor(image)\n",
    "\n",
    "        mask_path = self.mask_path_list[idx]\n",
    "        mask = cv2.imread(mask_path)\n",
    "        mask.sum(axis=2)\n",
    "        mask = mask.sum(axis=2) > 0\n",
    "\n",
    "        mask=self.to_tensor(mask)\n",
    "\n",
    "        box = masks_to_boxes(mask)[0] # (xmin, ymin, xmax, ymax) \n",
    "        box= box.to(torch.int32)\n",
    "        print(\"box\",box)\n",
    "        print(mask.size())\n",
    "        print(image.size())\n",
    "        mask=mask[0,box[1]:box[3],box[0]:box[2]]\n",
    "        image=image[:,box[1]:box[3],box[0]:box[2]]\n",
    "\n",
    "        #여기서 MASK 확장\n",
    "        mask = mask.expand(3,-1,-1)\n",
    "        image = mask * image\n",
    "\n",
    "        \n",
    "        \n",
    "        if self.transform:\n",
    "            #1. 이미지 사이즈 변환\n",
    "            image=self.transform(image).type(torch.float32)# 이미지 0~1 정규화\n",
    "        return image, torch.tensor(self.label_df.iloc[idx]['label'])\n",
    "        \n",
    "        "
   ]
  },
  {
   "cell_type": "code",
   "execution_count": 122,
   "id": "1a16e5b4",
   "metadata": {},
   "outputs": [],
   "source": [
    "\n",
    "#3. 하이퍼 파라미터\n",
    "BATCH_SIZE =  32 #한 배치당 16개 이미지\n",
    "EPOCHS = 50 # 전체 데이터 셋을 50번 반복\n",
    "lr=1e-4"
   ]
  },
  {
   "cell_type": "code",
   "execution_count": 90,
   "id": "b8489cc8",
   "metadata": {},
   "outputs": [
    {
     "data": {
      "text/plain": [
       "torch.Size([3, 2, 3])"
      ]
     },
     "execution_count": 90,
     "metadata": {},
     "output_type": "execute_result"
    }
   ],
   "source": [
    "x = torch.tensor([[[1,2,3],[1,2,3]]])\n",
    "x.size()\n",
    "x.expand(3,2,3).size()"
   ]
  },
  {
   "cell_type": "code",
   "execution_count": 123,
   "id": "9b6e0de3",
   "metadata": {},
   "outputs": [],
   "source": [
    "#DATA LOADER 함수가 BATCH_size 단위로 분리해 지정.\n",
    "train_loader = torch.utils.data.DataLoader(dataset = \n",
    "                                           BowelDataset(X_train,\n",
    "                                                       X_train_mask,\n",
    "                                                       Y_train_df,\n",
    "                                                       to_tensor = transforms.ToTensor(),\n",
    "                                                       transform = torch.nn.Sequential(\n",
    "                                                            transforms.Resize([512,512]),\n",
    "                                                            transforms.Normalize((0.485, 0.456, 0.406), (0.229, 0.224, 0.225)),\n",
    "                                                        )\n",
    "                                                      ),\n",
    "                                           batch_size = BATCH_SIZE,\n",
    "                                           shuffle = True,\n",
    "                                           num_workers=0\n",
    "                                           ) # 순서가 암기되는것을 막기위해.\n",
    "                                           \n",
    "valid_loader = torch.utils.data.DataLoader(dataset = \n",
    "                                           BowelDataset(X_valid,\n",
    "                                                       X_valid_mask,\n",
    "                                                       Y_valid_df,\n",
    "                                                       to_tensor = transforms.ToTensor(),\n",
    "                                                       transform = torch.nn.Sequential(\n",
    "                                                            transforms.Resize([512,512]),\n",
    "                                                            transforms.Normalize((0.485, 0.456, 0.406), (0.229, 0.224, 0.225)),\n",
    "                                                        )\n",
    "                                                      ),\n",
    "                                           batch_size = BATCH_SIZE,\n",
    "                                           shuffle = False,) # 순서가 암기되는것을 막기위해.\n",
    "\n",
    "\n",
    "test_loader = torch.utils.data.DataLoader(dataset = \n",
    "                                           BowelDataset(X_valid,\n",
    "                                                       X_valid_mask,\n",
    "                                                       Y_valid_df,\n",
    "                                                       to_tensor = transforms.ToTensor(),\n",
    "                                                       transform = torch.nn.Sequential(\n",
    "                                                            transforms.Resize([512,512]),\n",
    "                                                            transforms.Normalize((0.485, 0.456, 0.406), (0.229, 0.224, 0.225)),\n",
    "                                                        )\n",
    "                                                      ),\n",
    "                                           batch_size = BATCH_SIZE,\n",
    "                                           shuffle = False,) # 순서가 암기되는것을 막기위해.\n"
   ]
  },
  {
   "cell_type": "code",
   "execution_count": 124,
   "id": "ec87b288",
   "metadata": {},
   "outputs": [
    {
     "name": "stdout",
     "output_type": "stream",
     "text": [
      "box tensor([ 890,  913, 2790, 2313], dtype=torch.int32)\n",
      "torch.Size([1, 3120, 4160])\n",
      "torch.Size([3, 3120, 4160])\n",
      "box tensor([ 797, 1424, 2163, 3135], dtype=torch.int32)\n",
      "torch.Size([1, 4160, 3120])\n",
      "torch.Size([3, 4160, 3120])\n",
      "box tensor([ 696,  453, 3196, 2473], dtype=torch.int32)\n",
      "torch.Size([1, 3120, 4160])\n",
      "torch.Size([3, 3120, 4160])\n",
      "box tensor([1070,  813, 3016, 2313], dtype=torch.int32)\n",
      "torch.Size([1, 3120, 4160])\n",
      "torch.Size([3, 3120, 4160])\n",
      "box tensor([ 419,  947, 2763, 4035], dtype=torch.int32)\n",
      "torch.Size([1, 4160, 3120])\n",
      "torch.Size([3, 4160, 3120])\n",
      "box tensor([1222, 1037, 2522, 2060], dtype=torch.int32)\n",
      "torch.Size([1, 3120, 4160])\n",
      "torch.Size([3, 3120, 4160])\n",
      "box tensor([ 174,  430, 2686, 3802], dtype=torch.int32)\n",
      "torch.Size([1, 4160, 3120])\n",
      "torch.Size([3, 4160, 3120])\n",
      "box tensor([ 630,  680, 2586, 3185], dtype=torch.int32)\n",
      "torch.Size([1, 4160, 3120])\n",
      "torch.Size([3, 4160, 3120])\n",
      "box tensor([1096, 1421, 2229, 2866], dtype=torch.int32)\n",
      "torch.Size([1, 4160, 3120])\n",
      "torch.Size([3, 4160, 3120])\n",
      "box tensor([1490, 1187, 2803, 2160], dtype=torch.int32)\n",
      "torch.Size([1, 3120, 4160])\n",
      "torch.Size([3, 3120, 4160])\n",
      "box tensor([ 580,  574, 2152, 2580], dtype=torch.int32)\n",
      "torch.Size([1, 4160, 3120])\n",
      "torch.Size([3, 4160, 3120])\n",
      "box tensor([1214, 1052, 2384, 1990], dtype=torch.int32)\n",
      "torch.Size([1, 3120, 4160])\n",
      "torch.Size([3, 3120, 4160])\n",
      "box tensor([ 510,  387, 2996, 2520], dtype=torch.int32)\n",
      "torch.Size([1, 3120, 4160])\n",
      "torch.Size([3, 3120, 4160])\n",
      "box tensor([ 419,  908, 2685, 3669], dtype=torch.int32)\n",
      "torch.Size([1, 4160, 3120])\n",
      "torch.Size([3, 4160, 3120])\n",
      "box tensor([ 874,  985, 2458, 3163], dtype=torch.int32)\n",
      "torch.Size([1, 4160, 3120])\n",
      "torch.Size([3, 4160, 3120])\n",
      "box tensor([1736, 1186, 3230, 2220], dtype=torch.int32)\n",
      "torch.Size([1, 3120, 4160])\n",
      "torch.Size([3, 3120, 4160])\n",
      "box tensor([1350,  940, 3110, 2140], dtype=torch.int32)\n",
      "torch.Size([1, 3120, 4160])\n",
      "torch.Size([3, 3120, 4160])\n",
      "box tensor([ 490,  293, 3376, 2533], dtype=torch.int32)\n",
      "torch.Size([1, 3120, 4160])\n",
      "torch.Size([3, 3120, 4160])\n",
      "box tensor([1563, 1087, 3003, 2260], dtype=torch.int32)\n",
      "torch.Size([1, 3120, 4160])\n",
      "torch.Size([3, 3120, 4160])\n",
      "box tensor([1123,  813, 3010, 2366], dtype=torch.int32)\n",
      "torch.Size([1, 3120, 4160])\n",
      "torch.Size([3, 3120, 4160])\n",
      "box tensor([ 170,  300, 3676, 2740], dtype=torch.int32)\n",
      "torch.Size([1, 3120, 4160])\n",
      "torch.Size([3, 3120, 4160])\n",
      "box tensor([1043,  486, 3130, 2206], dtype=torch.int32)\n",
      "torch.Size([1, 3120, 4160])\n",
      "torch.Size([3, 3120, 4160])\n",
      "box tensor([ 491,  635, 2674, 3608], dtype=torch.int32)\n",
      "torch.Size([1, 4160, 3120])\n",
      "torch.Size([3, 4160, 3120])\n",
      "box tensor([ 993,  910, 3084, 2428], dtype=torch.int32)\n",
      "torch.Size([1, 3120, 4160])\n",
      "torch.Size([3, 3120, 4160])\n",
      "box tensor([1121,  928, 2766, 2246], dtype=torch.int32)\n",
      "torch.Size([1, 3120, 4160])\n",
      "torch.Size([3, 3120, 4160])\n",
      "box tensor([ 697, 1703, 2150, 2916], dtype=torch.int32)\n",
      "torch.Size([1, 4160, 3120])\n",
      "torch.Size([3, 4160, 3120])\n",
      "box tensor([ 947, 1085, 2341, 2941], dtype=torch.int32)\n",
      "torch.Size([1, 4160, 3120])\n",
      "torch.Size([3, 4160, 3120])\n",
      "box tensor([ 413,  819, 2591, 3619], dtype=torch.int32)\n",
      "torch.Size([1, 4160, 3120])\n",
      "torch.Size([3, 4160, 3120])\n",
      "box tensor([ 809, 1170, 2352, 2270], dtype=torch.int32)\n",
      "torch.Size([1, 3120, 4160])\n",
      "torch.Size([3, 3120, 4160])\n",
      "box tensor([1141,  941, 2174, 2330], dtype=torch.int32)\n",
      "torch.Size([1, 4160, 3120])\n",
      "torch.Size([3, 4160, 3120])\n",
      "box tensor([1643, 1193, 2636, 1973], dtype=torch.int32)\n",
      "torch.Size([1, 3120, 4160])\n",
      "torch.Size([3, 3120, 4160])\n"
     ]
    },
    {
     "name": "stderr",
     "output_type": "stream",
     "text": [
      "Clipping input data to the valid range for imshow with RGB data ([0..1] for floats or [0..255] for integers).\n",
      "Clipping input data to the valid range for imshow with RGB data ([0..1] for floats or [0..255] for integers).\n",
      "Clipping input data to the valid range for imshow with RGB data ([0..1] for floats or [0..255] for integers).\n",
      "Clipping input data to the valid range for imshow with RGB data ([0..1] for floats or [0..255] for integers).\n",
      "Clipping input data to the valid range for imshow with RGB data ([0..1] for floats or [0..255] for integers).\n"
     ]
    },
    {
     "name": "stdout",
     "output_type": "stream",
     "text": [
      "box tensor([1290,  866, 3203, 2313], dtype=torch.int32)\n",
      "torch.Size([1, 3120, 4160])\n",
      "torch.Size([3, 3120, 4160])\n",
      "X_train :  torch.Size([32, 3, 512, 512]) type: torch.FloatTensor\n",
      "Y_train :  torch.Size([32]) type: torch.LongTensor\n"
     ]
    },
    {
     "name": "stderr",
     "output_type": "stream",
     "text": [
      "Clipping input data to the valid range for imshow with RGB data ([0..1] for floats or [0..255] for integers).\n",
      "Clipping input data to the valid range for imshow with RGB data ([0..1] for floats or [0..255] for integers).\n",
      "Clipping input data to the valid range for imshow with RGB data ([0..1] for floats or [0..255] for integers).\n",
      "Clipping input data to the valid range for imshow with RGB data ([0..1] for floats or [0..255] for integers).\n",
      "Clipping input data to the valid range for imshow with RGB data ([0..1] for floats or [0..255] for integers).\n"
     ]
    },
    {
     "data": {
      "image/png": "[encoded data removed]",
      "text/plain": [
       "<Figure size 1000x100 with 10 Axes>"
      ]
     },
     "metadata": {},
     "output_type": "display_data"
    }
   ],
   "source": [
    "\n",
    "# 4. 데이터 확인하기\n",
    "for (X_train_sample,Y_train_sample) in train_loader:\n",
    "    print(\"X_train : \",X_train_sample.size(),'type:',X_train_sample.type())\n",
    "    print(\"Y_train : \",Y_train_sample.size(),'type:',Y_train_sample.type())\n",
    "    break\n",
    "\n",
    "pltsize = 1\n",
    "plt.figure(figsize=(10*pltsize,pltsize))#하나당 10,1\n",
    "\n",
    "for i in range(10):\n",
    "    plt.subplot(1,10,i+1)\n",
    "    transposed_img = np.transpose(X_train_sample[i].detach().numpy(),(1,2,0))\n",
    "    plt.imshow(transposed_img )# 배치에서 10개만 추출\n",
    "    plt.title('Class : '+str(Y_train_sample[i].item()))"
   ]
  },
  {
   "cell_type": "code",
   "execution_count": 83,
   "id": "ad7ffabe",
   "metadata": {},
   "outputs": [
    {
     "data": {
      "text/plain": [
       "torch.Size([1100, 1511])"
      ]
     },
     "execution_count": 83,
     "metadata": {},
     "output_type": "execute_result"
    }
   ],
   "source": [
    "test22=torch.randn((1,4160,3120))\n",
    "test22[0,1074:2174,1405:2916].shape"
   ]
  },
  {
   "cell_type": "markdown",
   "id": "f523bae2",
   "metadata": {},
   "source": [
    "# 모델 설계\n",
    "\n",
    "- 기본 resnet18"
   ]
  },
  {
   "cell_type": "code",
   "execution_count": null,
   "id": "4aa61411",
   "metadata": {},
   "outputs": [],
   "source": [
    "# pretrained\n",
    "\n",
    "class ResLayer(nn.Module):\n",
    "    def __init__(self,):\n",
    "        super(ResLayer, self).__init__()\n",
    "        self.model = models.resnet18(weights='IMAGENET1K_V1').cuda() \n",
    "        self.num_ftrs = self.model.fc.out_features\n",
    "        \n",
    "        \n",
    "        \n",
    "        self.fc = nn.Sequential(\n",
    "            #nn.BatchNorm1d(self.num_ftrs+self.n_mfcc),                \n",
    "            nn.Linear(self.num_ftrs, 64),\n",
    "                             nn.BatchNorm1d(64),\n",
    "                             nn.ReLU(),\n",
    "                             nn.Dropout(p=0.5),\n",
    "                             nn.Linear(64,50),\n",
    "                             nn.BatchNorm1d(50),\n",
    "                             nn.ReLU(),\n",
    "                             nn.Dropout(p=0.5),\n",
    "                             nn.Linear(50,3)\n",
    "                            )\n",
    "        \n",
    "\n",
    "    def forward(self, x):\n",
    "        x = self.model(x)\n",
    "        x  = self.fc(x)\n",
    "        return x\n",
    "    \n",
    "def model_initialize():\n",
    "    model = ResLayer().cuda()\n",
    "    return model"
   ]
  },
  {
   "cell_type": "code",
   "execution_count": null,
   "id": "feb1f86d",
   "metadata": {},
   "outputs": [],
   "source": [
    "#8. 학습\n",
    "def train(model,train_loader,optimizer, log_interval):\n",
    "    model.train()\n",
    "    correct = 0\n",
    "    train_loss = 0\n",
    "    for batch_idx,(image,label) in tqdm(enumerate(train_loader)):\n",
    "        image = image.to(DEVICE)\n",
    "        label = label.to(DEVICE)\n",
    "        #데이터들 장비에 할당\n",
    "        optimizer.zero_grad() # device 에 저장된 gradient 제거\n",
    "        output = model(image) # model로 output을 계산\n",
    "        loss = criterion(output, label) #loss 계산\n",
    "        train_loss += loss.item()\n",
    "        prediction = output.max(1,keepdim=True)[1] # 가장 확률이 높은 class 1개를 가져온다.그리고 인덱스만\n",
    "        correct += prediction.eq(label.view_as(prediction)).sum().item()# 아웃풋이 배치 사이즈 32개라서.\n",
    "        loss.backward() # loss 값을 이용해 gradient를 계산\n",
    "        optimizer.step() # Gradient 값을 이용해 파라미터 업데이트.\n",
    "    train_loss/=len(train_loader.dataset)\n",
    "    train_accuracy = 100. * correct / len(train_loader.dataset)\n",
    "    return train_loss,train_accuracy\n"
   ]
  },
  {
   "cell_type": "code",
   "execution_count": null,
   "id": "c6eff817",
   "metadata": {},
   "outputs": [],
   "source": [
    "#9. 학습 진행하며, validation 데이터로 모델 성능확인\n",
    "def evaluate(model,valid_loader):\n",
    "    model.eval()\n",
    "    valid_loss = 0\n",
    "    correct = 0\n",
    "    #no_grad : 그래디언트 값 계산 막기.\n",
    "    with torch.no_grad():\n",
    "        for image,label in valid_loader:\n",
    "            image = image.to(DEVICE)\n",
    "            label = label.to(DEVICE)\n",
    "            output = model(image)\n",
    "            valid_loss += criterion(output, label).item()\n",
    "            prediction = output.max(1,keepdim=True)[1] # 가장 확률이 높은 class 1개를 가져온다.그리고 인덱스만\n",
    "            correct += prediction.eq(label.view_as(prediction)).sum().item()# 아웃풋이 배치 사이즈 32개라서.\n",
    "            #true.false값을 sum해줌. item\n",
    "        valid_loss /= len(valid_loader.dataset)\n",
    "        valid_accuracy = 100. * correct / len(valid_loader.dataset)\n",
    "        return valid_loss,valid_accuracy\n"
   ]
  },
  {
   "cell_type": "code",
   "execution_count": null,
   "id": "66cc3ad1",
   "metadata": {
    "scrolled": true
   },
   "outputs": [
    {
     "name": "stdout",
     "output_type": "stream",
     "text": [
      "./checkpoint/baseline_getlabel_resnet18_512_.pt\n",
      "학습 시작\n"
     ]
    },
    {
     "name": "stderr",
     "output_type": "stream",
     "text": [
      "28it [02:26,  5.22s/it]\n"
     ]
    },
    {
     "name": "stdout",
     "output_type": "stream",
     "text": [
      "\n",
      "[EPOCH:1]\t Train Loss:0.0342\t Train Acc:43.30 %  | \tValid Loss:0.0284 \tValid Acc: 68.20 %\n",
      "\n",
      "Validation loss decreased (inf --> 0.028372).  Saving model ...\n"
     ]
    },
    {
     "name": "stderr",
     "output_type": "stream",
     "text": [
      "28it [02:15,  4.83s/it]\n"
     ]
    },
    {
     "name": "stdout",
     "output_type": "stream",
     "text": [
      "\n",
      "[EPOCH:2]\t Train Loss:0.0289\t Train Acc:56.70 %  | \tValid Loss:0.0226 \tValid Acc: 77.42 %\n",
      "\n",
      "Validation loss decreased (0.028372 --> 0.022640).  Saving model ...\n"
     ]
    },
    {
     "name": "stderr",
     "output_type": "stream",
     "text": [
      "28it [02:14,  4.79s/it]\n"
     ]
    },
    {
     "name": "stdout",
     "output_type": "stream",
     "text": [
      "\n",
      "[EPOCH:3]\t Train Loss:0.0251\t Train Acc:66.17 %  | \tValid Loss:0.0205 \tValid Acc: 82.03 %\n",
      "\n",
      "Validation loss decreased (0.022640 --> 0.020516).  Saving model ...\n"
     ]
    },
    {
     "name": "stderr",
     "output_type": "stream",
     "text": [
      "28it [02:14,  4.82s/it]\n"
     ]
    },
    {
     "name": "stdout",
     "output_type": "stream",
     "text": [
      "\n",
      "[EPOCH:4]\t Train Loss:0.0229\t Train Acc:74.83 %  | \tValid Loss:0.0216 \tValid Acc: 80.65 %\n",
      "\n",
      "EarlyStopping counter: 1 out of 3\n"
     ]
    },
    {
     "name": "stderr",
     "output_type": "stream",
     "text": [
      "28it [02:12,  4.73s/it]\n"
     ]
    },
    {
     "name": "stdout",
     "output_type": "stream",
     "text": [
      "\n",
      "[EPOCH:5]\t Train Loss:0.0202\t Train Acc:83.95 %  | \tValid Loss:0.0194 \tValid Acc: 82.95 %\n",
      "\n",
      "Validation loss decreased (0.020516 --> 0.019403).  Saving model ...\n"
     ]
    },
    {
     "name": "stderr",
     "output_type": "stream",
     "text": [
      "28it [02:12,  4.74s/it]\n"
     ]
    },
    {
     "name": "stdout",
     "output_type": "stream",
     "text": [
      "\n",
      "[EPOCH:6]\t Train Loss:0.0185\t Train Acc:89.84 %  | \tValid Loss:0.0178 \tValid Acc: 87.10 %\n",
      "\n",
      "Validation loss decreased (0.019403 --> 0.017834).  Saving model ...\n"
     ]
    },
    {
     "name": "stderr",
     "output_type": "stream",
     "text": [
      "28it [02:12,  4.73s/it]\n"
     ]
    },
    {
     "name": "stdout",
     "output_type": "stream",
     "text": [
      "\n",
      "[EPOCH:7]\t Train Loss:0.0169\t Train Acc:92.15 %  | \tValid Loss:0.0171 \tValid Acc: 85.71 %\n",
      "\n",
      "Validation loss decreased (0.017834 --> 0.017122).  Saving model ...\n"
     ]
    },
    {
     "name": "stderr",
     "output_type": "stream",
     "text": [
      "28it [02:12,  4.73s/it]\n"
     ]
    },
    {
     "name": "stdout",
     "output_type": "stream",
     "text": [
      "\n",
      "[EPOCH:8]\t Train Loss:0.0146\t Train Acc:94.80 %  | \tValid Loss:0.0159 \tValid Acc: 86.64 %\n",
      "\n",
      "Validation loss decreased (0.017122 --> 0.015922).  Saving model ...\n"
     ]
    },
    {
     "name": "stderr",
     "output_type": "stream",
     "text": [
      "28it [02:12,  4.73s/it]\n"
     ]
    },
    {
     "name": "stdout",
     "output_type": "stream",
     "text": [
      "\n",
      "[EPOCH:9]\t Train Loss:0.0135\t Train Acc:96.30 %  | \tValid Loss:0.0149 \tValid Acc: 89.86 %\n",
      "\n",
      "Validation loss decreased (0.015922 --> 0.014854).  Saving model ...\n"
     ]
    },
    {
     "name": "stderr",
     "output_type": "stream",
     "text": [
      "28it [02:13,  4.75s/it]\n"
     ]
    },
    {
     "name": "stdout",
     "output_type": "stream",
     "text": [
      "\n",
      "[EPOCH:10]\t Train Loss:0.0129\t Train Acc:96.77 %  | \tValid Loss:0.0149 \tValid Acc: 88.02 %\n",
      "\n",
      "EarlyStopping counter: 1 out of 3\n"
     ]
    },
    {
     "name": "stderr",
     "output_type": "stream",
     "text": [
      "28it [02:14,  4.80s/it]\n"
     ]
    },
    {
     "name": "stdout",
     "output_type": "stream",
     "text": [
      "\n",
      "[EPOCH:11]\t Train Loss:0.0122\t Train Acc:97.81 %  | \tValid Loss:0.0142 \tValid Acc: 90.32 %\n",
      "\n",
      "Validation loss decreased (0.014854 --> 0.014223).  Saving model ...\n"
     ]
    },
    {
     "name": "stderr",
     "output_type": "stream",
     "text": [
      "28it [02:13,  4.76s/it]\n"
     ]
    },
    {
     "name": "stdout",
     "output_type": "stream",
     "text": [
      "\n",
      "[EPOCH:12]\t Train Loss:0.0108\t Train Acc:98.38 %  | \tValid Loss:0.0139 \tValid Acc: 90.78 %\n",
      "\n",
      "Validation loss decreased (0.014223 --> 0.013919).  Saving model ...\n"
     ]
    },
    {
     "name": "stderr",
     "output_type": "stream",
     "text": [
      "28it [02:13,  4.77s/it]\n"
     ]
    },
    {
     "name": "stdout",
     "output_type": "stream",
     "text": [
      "\n",
      "[EPOCH:13]\t Train Loss:0.0104\t Train Acc:98.96 %  | \tValid Loss:0.0147 \tValid Acc: 88.94 %\n",
      "\n",
      "EarlyStopping counter: 1 out of 3\n"
     ]
    },
    {
     "name": "stderr",
     "output_type": "stream",
     "text": [
      "28it [02:13,  4.76s/it]\n"
     ]
    },
    {
     "name": "stdout",
     "output_type": "stream",
     "text": [
      "\n",
      "[EPOCH:14]\t Train Loss:0.0122\t Train Acc:98.61 %  | \tValid Loss:0.0125 \tValid Acc: 90.32 %\n",
      "\n",
      "Validation loss decreased (0.013919 --> 0.012529).  Saving model ...\n"
     ]
    },
    {
     "name": "stderr",
     "output_type": "stream",
     "text": [
      "28it [02:13,  4.76s/it]\n"
     ]
    },
    {
     "name": "stdout",
     "output_type": "stream",
     "text": [
      "\n",
      "[EPOCH:15]\t Train Loss:0.0093\t Train Acc:99.42 %  | \tValid Loss:0.0141 \tValid Acc: 88.94 %\n",
      "\n",
      "EarlyStopping counter: 1 out of 3\n"
     ]
    },
    {
     "name": "stderr",
     "output_type": "stream",
     "text": [
      "28it [02:13,  4.75s/it]\n"
     ]
    },
    {
     "name": "stdout",
     "output_type": "stream",
     "text": [
      "\n",
      "[EPOCH:16]\t Train Loss:0.0099\t Train Acc:99.08 %  | \tValid Loss:0.0123 \tValid Acc: 90.32 %\n",
      "\n",
      "Validation loss decreased (0.012529 --> 0.012264).  Saving model ...\n"
     ]
    },
    {
     "name": "stderr",
     "output_type": "stream",
     "text": [
      "28it [02:13,  4.77s/it]\n"
     ]
    },
    {
     "name": "stdout",
     "output_type": "stream",
     "text": [
      "\n",
      "[EPOCH:17]\t Train Loss:0.0084\t Train Acc:99.08 %  | \tValid Loss:0.0122 \tValid Acc: 88.02 %\n",
      "\n",
      "Validation loss decreased (0.012264 --> 0.012198).  Saving model ...\n"
     ]
    },
    {
     "name": "stderr",
     "output_type": "stream",
     "text": [
      "28it [02:13,  4.76s/it]\n"
     ]
    },
    {
     "name": "stdout",
     "output_type": "stream",
     "text": [
      "\n",
      "[EPOCH:18]\t Train Loss:0.0102\t Train Acc:99.54 %  | \tValid Loss:0.0121 \tValid Acc: 87.56 %\n",
      "\n",
      "Validation loss decreased (0.012198 --> 0.012090).  Saving model ...\n"
     ]
    },
    {
     "name": "stderr",
     "output_type": "stream",
     "text": [
      "28it [02:13,  4.76s/it]\n"
     ]
    },
    {
     "name": "stdout",
     "output_type": "stream",
     "text": [
      "\n",
      "[EPOCH:19]\t Train Loss:0.0085\t Train Acc:98.96 %  | \tValid Loss:0.0142 \tValid Acc: 86.18 %\n",
      "\n",
      "EarlyStopping counter: 1 out of 3\n"
     ]
    },
    {
     "name": "stderr",
     "output_type": "stream",
     "text": [
      "28it [02:13,  4.76s/it]\n"
     ]
    },
    {
     "name": "stdout",
     "output_type": "stream",
     "text": [
      "\n",
      "[EPOCH:20]\t Train Loss:0.0176\t Train Acc:83.37 %  | \tValid Loss:0.0164 \tValid Acc: 80.65 %\n",
      "\n",
      "EarlyStopping counter: 2 out of 3\n"
     ]
    },
    {
     "name": "stderr",
     "output_type": "stream",
     "text": [
      "28it [02:14,  4.80s/it]\n"
     ]
    },
    {
     "name": "stdout",
     "output_type": "stream",
     "text": [
      "\n",
      "[EPOCH:21]\t Train Loss:0.0117\t Train Acc:92.38 %  | \tValid Loss:0.0136 \tValid Acc: 88.94 %\n",
      "\n",
      "EarlyStopping counter: 3 out of 3\n"
     ]
    }
   ],
   "source": [
    "check_path = './checkpoint/baseline_getlabel_'+'resnet18'+'_512_'+'.pt'\n",
    "print(check_path)\n",
    "early_stopping = EarlyStopping(patience = 3, verbose = True, path=check_path)\n",
    "\n",
    "best_train_acc=0 # accuracy 기록용\n",
    "best_valid_acc=0\n",
    "\n",
    "model=model_initialize()\n",
    "criterion = nn.CrossEntropyLoss()\n",
    "optimizer = torch.optim.Adam(model.parameters(),lr=lr)\n",
    "\n",
    "\n",
    "\n",
    "print(\"학습 시작\")\n",
    "for Epoch in range(1,EPOCHS+1):\n",
    "    train_loss,train_accuracy = train(model,train_loader,optimizer,log_interval=31)\n",
    "    valid_loss,valid_accuracy = evaluate(model, valid_loader)\n",
    "\n",
    "    print(\"\\n[EPOCH:{}]\\t Train Loss:{:.4f}\\t Train Acc:{:.2f} %  | \\tValid Loss:{:.4f} \\tValid Acc: {:.2f} %\\n\".\n",
    "          format(Epoch,train_loss,train_accuracy,valid_loss,valid_accuracy))\n",
    "\n",
    "\n",
    "    early_stopping(valid_loss, model)\n",
    "    if -early_stopping.best_score == valid_loss:\n",
    "        best_train_acc, best_valid_acc = train_accuracy,valid_accuracy\n",
    "\n",
    "    if early_stopping.early_stop:\n",
    "            #train_accs.append(best_train_acc)\n",
    "            #valid_accs.append(best_valid_acc)\n",
    "            #print(\"[{} 교차검증] Early stopping\".format(data_ind))\n",
    "            break\n",
    "\n",
    "    if Epoch==EPOCHS:\n",
    "        #만약 early stop 없이 40 epoch라서 중지 된 경우. \n",
    "        pass\n",
    "        #train_accs.append(best_train_acc)\n",
    "        #valid_accs.append(best_valid_acc)"
   ]
  },
  {
   "cell_type": "code",
   "execution_count": null,
   "id": "06e60423",
   "metadata": {},
   "outputs": [
    {
     "name": "stdout",
     "output_type": "stream",
     "text": [
      "[교차검증] train ACC : 99.5381 |\t valid ACC: 87.5576 \n"
     ]
    }
   ],
   "source": [
    "print(\"[교차검증] train ACC : {:.4f} |\\t valid ACC: {:.4f} \".format(best_train_acc,best_valid_acc ))"
   ]
  },
  {
   "cell_type": "markdown",
   "id": "d863b9c7",
   "metadata": {},
   "source": [
    "# test"
   ]
  },
  {
   "cell_type": "code",
   "execution_count": null,
   "id": "2dd4d915",
   "metadata": {},
   "outputs": [],
   "source": [
    "#confusion matrix 계산\n",
    "#test set 계산.\n",
    "def test_evaluate(model,test_loader):\n",
    "    model.eval()\n",
    "    test_loss = 0\n",
    "    predictions = []\n",
    "    answers = []\n",
    "    #no_grad : 그래디언트 값 계산 막기.\n",
    "    with torch.no_grad():\n",
    "        for image,label in test_loader:\n",
    "            image = image.to(DEVICE)\n",
    "            label = label.to(DEVICE)\n",
    "            output = model(image)\n",
    "            test_loss += criterion(output, label).item()\n",
    "            prediction = output.max(1,keepdim=True)[1] # 가장 확률이 높은 class 1개를 가져온다.그리고 인덱스만\n",
    "            answers +=label\n",
    "            predictions +=prediction\n",
    "            \n",
    "        return predictions,answers,test_loss"
   ]
  },
  {
   "cell_type": "code",
   "execution_count": null,
   "id": "3a2fb379",
   "metadata": {},
   "outputs": [
    {
     "name": "stdout",
     "output_type": "stream",
     "text": [
      "Accuracy : 87.5576% \n",
      "f score : 0.8675 \n",
      "[[72  1  1]\n",
      " [ 5 44  9]\n",
      " [ 2  9 74]]\n",
      "-----\n"
     ]
    }
   ],
   "source": [
    "# Confusion matrix (resnet18)\n",
    "# 모델을 각각 불러와서 test set을 평가한다.\n",
    "\n",
    "from sklearn.metrics import confusion_matrix\n",
    "from sklearn.metrics import f1_score\n",
    "from sklearn.metrics import accuracy_score\n",
    "\n",
    "cf = np.zeros((2,2))\n",
    "\n",
    "model=model_initialize()\n",
    "model.load_state_dict(torch.load(check_path))\n",
    "\n",
    "predictions,answers,test_loss = test_evaluate(model, test_loader)\n",
    "predictions=[ dat.cpu().numpy() for dat in predictions]\n",
    "answers=[ dat.cpu().numpy() for dat in answers]\n",
    "\n",
    "\n",
    "cf = confusion_matrix(answers, predictions)\n",
    "\n",
    "#fscroe macro추가\n",
    "fscore = f1_score(answers,predictions,average='macro')\n",
    "acc = accuracy_score(answers,predictions)\n",
    "\n",
    "print(\"Accuracy : {:.4f}% \".format(acc*100))\n",
    "print(\"f score : {:.4f} \".format(fscore))\n",
    "print(cf)\n",
    "print(\"-----\")\n",
    "\n"
   ]
  }
 ],
 "metadata": {
  "kernelspec": {
   "display_name": "Python 3.9.9 64-bit",
   "language": "python",
   "name": "python3"
  },
  "language_info": {
   "codemirror_mode": {
    "name": "ipython",
    "version": 3
   },
   "file_extension": ".py",
   "mimetype": "text/x-python",
   "name": "python",
   "nbconvert_exporter": "python",
   "pygments_lexer": "ipython3",
   "version": "3.9.9"
  },
  "toc": {
   "base_numbering": 1,
   "nav_menu": {},
   "number_sections": true,
   "sideBar": true,
   "skip_h1_title": false,
   "title_cell": "Table of Contents",
   "title_sidebar": "Contents",
   "toc_cell": false,
   "toc_position": {},
   "toc_section_display": true,
   "toc_window_display": false
  },
  "vscode": {
   "interpreter": {
    "hash": "1d5c1156327dacead463cc502c55ebae8ce9c8c01979cf154173ff808e75bf55"
   }
  }
 },
 "nbformat": 4,
 "nbformat_minor": 5
}
