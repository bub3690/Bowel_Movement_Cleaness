{
 "cells": [
  {
   "cell_type": "markdown",
   "id": "b6e16b6a",
   "metadata": {},
   "source": [
    "# baseline\n",
    "\n",
    "- classification baseline code\n",
    "- Resnet을 이용해, label(0,1,2) 분류\n",
    "- settings\n",
    "\n",
    "```\n",
    "1. random oversampling\n",
    "2. early stopping\n",
    "3. kfold (미정)\n",
    "```\n"
   ]
  },
  {
   "cell_type": "code",
   "execution_count": 1,
   "id": "e78e0ab3",
   "metadata": {},
   "outputs": [
    {
     "name": "stdout",
     "output_type": "stream",
     "text": [
      "Using Pytorch version :  1.12.1  Device :  cuda\n"
     ]
    }
   ],
   "source": [
    "import torch\n",
    "import torch.nn as nn # 인공 신경망 모델들 모아놓은 모듈\n",
    "import torch.nn.functional as F #그중 자주 쓰이는것들을 F로\n",
    "from torchvision import transforms, datasets\n",
    "import torchvision.models as models\n",
    "import cv2\n",
    "import albumentations as A\n",
    "\n",
    "import matplotlib.pyplot as plt\n",
    "import numpy as np\n",
    "import pandas as pd\n",
    "import os\n",
    "from glob import glob\n",
    "import sys\n",
    "from tqdm import tqdm\n",
    "\n",
    "import wandb\n",
    "import albumentations as A\n",
    "\n",
    "\n",
    "if torch.cuda.is_available():\n",
    "    DEVICE = torch.device('cuda')\n",
    "else:\n",
    "    DEVICE = torch.device('cpu')\n",
    "#DEVICE = torch.device('cpu')\n",
    "print('Using Pytorch version : ',torch.__version__,' Device : ',DEVICE)\n"
   ]
  },
  {
   "cell_type": "code",
   "execution_count": 2,
   "id": "a3471c8d",
   "metadata": {},
   "outputs": [],
   "source": [
    "# import early stop\n",
    "\n",
    "p = os.path.abspath('../../utils') # 상위 폴더를 사용하기 위해서.\n",
    "sys.path.insert(1, p)\n",
    "from pytorchtools.pytorchtools import EarlyStopping # 상위 폴더에 추가된 모듈."
   ]
  },
  {
   "cell_type": "markdown",
   "id": "ddf3d88a",
   "metadata": {},
   "source": [
    "# 데이터 분류"
   ]
  },
  {
   "cell_type": "markdown",
   "id": "44be9f7e",
   "metadata": {},
   "source": [
    "## train / valid / test"
   ]
  },
  {
   "cell_type": "code",
   "execution_count": 19,
   "id": "de34d32a",
   "metadata": {},
   "outputs": [
    {
     "name": "stdout",
     "output_type": "stream",
     "text": [
      "---\n",
      "훈련 셋 :  866 Counter({2: 332, 0: 317, 1: 217})\n",
      "검증 셋 :  217 Counter({2: 84, 0: 79, 1: 54})\n",
      "---\n"
     ]
    }
   ],
   "source": [
    "#1. train, test 나누기\n",
    "\n",
    "from imblearn.over_sampling import RandomOverSampler\n",
    "from collections import Counter\n",
    "from sklearn.model_selection import train_test_split # train , test 분리에 사용.\n",
    "\n",
    "def get_num(file_str):\n",
    "    return int(file_str.split(\"\\\\\")[-1].split(\".\")[0])\n",
    "\n",
    "test_idx = 0; # idx =0 : normal\n",
    "# idx =1 : train size : \n",
    "\n",
    "\n",
    "X_images = glob('../../data/bmc_label_voc/JPEGImages/*.jpg')\n",
    "X_images_name=list(map(get_num,X_images))\n",
    "\n",
    "#첫번째 열 이름 바꿔주기\n",
    "label_df = pd.read_csv('../../bmc.csv')\n",
    "column_names = list(label_df.columns)\n",
    "column_names[0]='file_name'\n",
    "label_df.columns = column_names\n",
    "\n",
    "# Y값 찾아오기\n",
    "Y_image_df=pd.merge(pd.DataFrame(X_images_name,columns=['file_name']),label_df,left_on='file_name',right_on='file_name',how='inner')\n",
    "Y_image_df_label=Y_image_df['label']\n",
    "Y_image_df_label=list(Y_image_df_label)\n",
    "\n",
    "X_train, X_valid, Y_train_df, Y_valid_df = train_test_split(X_images,Y_image_df_label,test_size=0.2,random_state=1004,stratify=Y_image_df_label)\n",
    "\n",
    "print(\"---\")\n",
    "print(\"훈련 셋 : \",len(Y_train_df),Counter(Y_train_df))\n",
    "print(\"검증 셋 : \",len(Y_valid_df),Counter(Y_valid_df))\n",
    "print(\"---\")\n"
   ]
  },
  {
   "cell_type": "code",
   "execution_count": 15,
   "id": "37b4d7a9",
   "metadata": {},
   "outputs": [
    {
     "ename": "AttributeError",
     "evalue": "'list' object has no attribute 'groupby'",
     "output_type": "error",
     "traceback": [
      "\u001b[1;31m---------------------------------------------------------------------------\u001b[0m",
      "\u001b[1;31mAttributeError\u001b[0m                            Traceback (most recent call last)",
      "\u001b[1;32md:\\project\\Bowel_Movement_Cleaness\\classification_sub\\1024_valid\\baseline copy.ipynb 셀 7\u001b[0m in \u001b[0;36m<cell line: 1>\u001b[1;34m()\u001b[0m\n\u001b[1;32m----> <a href='vscode-notebook-cell:/d%3A/project/Bowel_Movement_Cleaness/classification_sub/1024_valid/baseline%20copy.ipynb#X35sZmlsZQ%3D%3D?line=0'>1</a>\u001b[0m Y_train_df\u001b[39m.\u001b[39;49mgroupby(\u001b[39m'\u001b[39m\u001b[39mlabel\u001b[39m\u001b[39m'\u001b[39m)\u001b[39m.\u001b[39mcount()\n",
      "\u001b[1;31mAttributeError\u001b[0m: 'list' object has no attribute 'groupby'"
     ]
    }
   ],
   "source": [
    "Y_train_df.groupby('label').count()"
   ]
  },
  {
   "cell_type": "code",
   "execution_count": 47,
   "id": "2c82bc86",
   "metadata": {},
   "outputs": [
    {
     "data": {
      "text/plain": [
       "866"
      ]
     },
     "execution_count": 47,
     "metadata": {},
     "output_type": "execute_result"
    }
   ],
   "source": [
    "len(X_train_name)"
   ]
  },
  {
   "cell_type": "code",
   "execution_count": 48,
   "id": "a4088040",
   "metadata": {},
   "outputs": [
    {
     "data": {
      "text/html": [
       "<div>\n",
       "<style scoped>\n",
       "    .dataframe tbody tr th:only-of-type {\n",
       "        vertical-align: middle;\n",
       "    }\n",
       "\n",
       "    .dataframe tbody tr th {\n",
       "        vertical-align: top;\n",
       "    }\n",
       "\n",
       "    .dataframe thead th {\n",
       "        text-align: right;\n",
       "    }\n",
       "</style>\n",
       "<table border=\"1\" class=\"dataframe\">\n",
       "  <thead>\n",
       "    <tr style=\"text-align: right;\">\n",
       "      <th></th>\n",
       "      <th>file_name</th>\n",
       "      <th>origin_name</th>\n",
       "      <th>color</th>\n",
       "      <th>residue</th>\n",
       "      <th>turbidity</th>\n",
       "      <th>label</th>\n",
       "    </tr>\n",
       "  </thead>\n",
       "  <tbody>\n",
       "    <tr>\n",
       "      <th>0</th>\n",
       "      <td>0</td>\n",
       "      <td>1301837407-1</td>\n",
       "      <td>0</td>\n",
       "      <td>0</td>\n",
       "      <td>0</td>\n",
       "      <td>0</td>\n",
       "    </tr>\n",
       "    <tr>\n",
       "      <th>1</th>\n",
       "      <td>1</td>\n",
       "      <td>1411450810-1</td>\n",
       "      <td>0</td>\n",
       "      <td>0</td>\n",
       "      <td>0</td>\n",
       "      <td>0</td>\n",
       "    </tr>\n",
       "    <tr>\n",
       "      <th>2</th>\n",
       "      <td>2</td>\n",
       "      <td>1651193832-1</td>\n",
       "      <td>0</td>\n",
       "      <td>0</td>\n",
       "      <td>0</td>\n",
       "      <td>0</td>\n",
       "    </tr>\n",
       "    <tr>\n",
       "      <th>3</th>\n",
       "      <td>3</td>\n",
       "      <td>2077897036-1</td>\n",
       "      <td>0</td>\n",
       "      <td>0</td>\n",
       "      <td>0</td>\n",
       "      <td>0</td>\n",
       "    </tr>\n",
       "    <tr>\n",
       "      <th>4</th>\n",
       "      <td>4</td>\n",
       "      <td>290980310-1</td>\n",
       "      <td>0</td>\n",
       "      <td>1</td>\n",
       "      <td>0</td>\n",
       "      <td>0</td>\n",
       "    </tr>\n",
       "    <tr>\n",
       "      <th>...</th>\n",
       "      <td>...</td>\n",
       "      <td>...</td>\n",
       "      <td>...</td>\n",
       "      <td>...</td>\n",
       "      <td>...</td>\n",
       "      <td>...</td>\n",
       "    </tr>\n",
       "    <tr>\n",
       "      <th>1078</th>\n",
       "      <td>1078</td>\n",
       "      <td>PANO_20200407_221523</td>\n",
       "      <td>2</td>\n",
       "      <td>2</td>\n",
       "      <td>1</td>\n",
       "      <td>2</td>\n",
       "    </tr>\n",
       "    <tr>\n",
       "      <th>1079</th>\n",
       "      <td>1079</td>\n",
       "      <td>PANO_20200407_221527</td>\n",
       "      <td>2</td>\n",
       "      <td>2</td>\n",
       "      <td>1</td>\n",
       "      <td>2</td>\n",
       "    </tr>\n",
       "    <tr>\n",
       "      <th>1080</th>\n",
       "      <td>1080</td>\n",
       "      <td>PANO_20200818_174909</td>\n",
       "      <td>2</td>\n",
       "      <td>2</td>\n",
       "      <td>1</td>\n",
       "      <td>2</td>\n",
       "    </tr>\n",
       "    <tr>\n",
       "      <th>1081</th>\n",
       "      <td>1081</td>\n",
       "      <td>PANO_20210330_062718</td>\n",
       "      <td>2</td>\n",
       "      <td>2</td>\n",
       "      <td>1</td>\n",
       "      <td>2</td>\n",
       "    </tr>\n",
       "    <tr>\n",
       "      <th>1082</th>\n",
       "      <td>1082</td>\n",
       "      <td>tmp_1610355667809</td>\n",
       "      <td>2</td>\n",
       "      <td>2</td>\n",
       "      <td>1</td>\n",
       "      <td>2</td>\n",
       "    </tr>\n",
       "  </tbody>\n",
       "</table>\n",
       "<p>1083 rows × 6 columns</p>\n",
       "</div>"
      ],
      "text/plain": [
       "      file_name           origin_name  color  residue  turbidity  label\n",
       "0             0          1301837407-1      0        0          0      0\n",
       "1             1          1411450810-1      0        0          0      0\n",
       "2             2          1651193832-1      0        0          0      0\n",
       "3             3          2077897036-1      0        0          0      0\n",
       "4             4           290980310-1      0        1          0      0\n",
       "...         ...                   ...    ...      ...        ...    ...\n",
       "1078       1078  PANO_20200407_221523      2        2          1      2\n",
       "1079       1079  PANO_20200407_221527      2        2          1      2\n",
       "1080       1080  PANO_20200818_174909      2        2          1      2\n",
       "1081       1081  PANO_20210330_062718      2        2          1      2\n",
       "1082       1082     tmp_1610355667809      2        2          1      2\n",
       "\n",
       "[1083 rows x 6 columns]"
      ]
     },
     "execution_count": 48,
     "metadata": {},
     "output_type": "execute_result"
    }
   ],
   "source": [
    "label_df"
   ]
  },
  {
   "cell_type": "code",
   "execution_count": 49,
   "id": "5aaaa14c",
   "metadata": {},
   "outputs": [
    {
     "data": {
      "text/plain": [
       "3"
      ]
     },
     "execution_count": 49,
     "metadata": {},
     "output_type": "execute_result"
    }
   ],
   "source": [
    "len(set(label_df['color']))"
   ]
  },
  {
   "cell_type": "markdown",
   "id": "4ac7eaf6",
   "metadata": {},
   "source": [
    "## random over sampling"
   ]
  },
  {
   "cell_type": "code",
   "execution_count": null,
   "id": "ecd9c0aa",
   "metadata": {},
   "outputs": [],
   "source": []
  },
  {
   "cell_type": "markdown",
   "id": "43550650",
   "metadata": {},
   "source": [
    "# 데이터 정의"
   ]
  },
  {
   "cell_type": "code",
   "execution_count": 51,
   "id": "6b09f4be",
   "metadata": {},
   "outputs": [],
   "source": [
    "import torch\n",
    "from torch.utils.data import Dataset, DataLoader\n",
    "\n",
    "\n",
    "\n",
    "class BowelDataset(Dataset):\n",
    "    def __init__(self, data_path_list,label_df,to_tensor,transform,album_augment=None):\n",
    "        self.data_path_list = data_path_list\n",
    "        self.label_df = label_df\n",
    "        self.to_tensor = to_tensor\n",
    "        self.transform = transform\n",
    "        self.album_augment = album_augment\n",
    "\n",
    "    def __len__(self):\n",
    "        return len(self.data_path_list)\n",
    "\n",
    "    def __getitem__(self, idx):\n",
    "        file_path = self.data_path_list[idx]\n",
    "        image = cv2.imread(file_path)\n",
    "        image = cv2.cvtColor(image, cv2.COLOR_BGR2RGB)\n",
    "        if self.album_augment:\n",
    "            augmented=self.album_augment(image=image)\n",
    "            image=augmented['image']\n",
    "        image = self.to_tensor(image)\n",
    "\n",
    "\n",
    "        if self.transform:\n",
    "            #1. 이미지 사이즈 변환\n",
    "            image=self.transform(image).type(torch.float32)# 이미지 0~1 정규화\n",
    "        return image, torch.tensor(self.label_df.iloc[idx]['label'])\n",
    "        \n",
    "        "
   ]
  },
  {
   "cell_type": "code",
   "execution_count": 52,
   "id": "1a16e5b4",
   "metadata": {},
   "outputs": [],
   "source": [
    "\n",
    "#3. 하이퍼 파라미터\n",
    "BATCH_SIZE =  32 #한 배치당 16개 이미지\n",
    "EPOCHS = 50 # 전체 데이터 셋을 50번 반복\n",
    "lr=1e-4"
   ]
  },
  {
   "cell_type": "code",
   "execution_count": 53,
   "id": "9b6e0de3",
   "metadata": {},
   "outputs": [],
   "source": [
    "import albumentations as A\n",
    "#DATA LOADER 함수가 BATCH_size 단위로 분리해 지정.\n",
    "train_loader = torch.utils.data.DataLoader(dataset = \n",
    "                                           BowelDataset(X_train,\n",
    "                                                       Y_train_df,\n",
    "                                                       to_tensor = transforms.ToTensor(),\n",
    "                                                       transform = torch.nn.Sequential(\n",
    "                                                            transforms.Resize([512,512]),\n",
    "                                                            transforms.Normalize((0.485, 0.456, 0.406), (0.229, 0.224, 0.225)),\n",
    "                                                        ),\n",
    "                                                        #album_augment = A.Compose([A.RandomBrightnessContrast(p=0.5),])\n",
    "                                                      ),\n",
    "                                           batch_size = BATCH_SIZE,\n",
    "                                           shuffle = True,\n",
    "                                           num_workers=0\n",
    "                                           ) # 순서가 암기되는것을 막기위해.\n",
    "                                           \n",
    "valid_loader = torch.utils.data.DataLoader(dataset = \n",
    "                                           BowelDataset(X_valid,\n",
    "                                                       Y_valid_df,\n",
    "                                                       to_tensor = transforms.ToTensor(),\n",
    "                                                       transform = torch.nn.Sequential(\n",
    "                                                            transforms.Resize([512,512]),\n",
    "                                                            transforms.Normalize((0.485, 0.456, 0.406), (0.229, 0.224, 0.225)),\n",
    "                                                        )\n",
    "                                                      ),\n",
    "                                           batch_size = BATCH_SIZE,\n",
    "                                           shuffle = False,) # 순서가 암기되는것을 막기위해.\n",
    "\n",
    "\n",
    "test_loader = torch.utils.data.DataLoader(dataset = \n",
    "                                           BowelDataset(X_valid,\n",
    "                                                       Y_valid_df,\n",
    "                                                       to_tensor = transforms.ToTensor(),\n",
    "                                                       transform = torch.nn.Sequential(\n",
    "                                                            transforms.Resize([512,512]),\n",
    "                                                            transforms.Normalize((0.485, 0.456, 0.406), (0.229, 0.224, 0.225)),\n",
    "                                                        )\n",
    "                                                      ),\n",
    "                                           batch_size = BATCH_SIZE,\n",
    "                                           shuffle = False,) # 순서가 암기되는것을 막기위해.\n"
   ]
  },
  {
   "cell_type": "code",
   "execution_count": 54,
   "id": "ec87b288",
   "metadata": {},
   "outputs": [
    {
     "name": "stderr",
     "output_type": "stream",
     "text": [
      "Clipping input data to the valid range for imshow with RGB data ([0..1] for floats or [0..255] for integers).\n",
      "Clipping input data to the valid range for imshow with RGB data ([0..1] for floats or [0..255] for integers).\n",
      "Clipping input data to the valid range for imshow with RGB data ([0..1] for floats or [0..255] for integers).\n",
      "Clipping input data to the valid range for imshow with RGB data ([0..1] for floats or [0..255] for integers).\n",
      "Clipping input data to the valid range for imshow with RGB data ([0..1] for floats or [0..255] for integers).\n",
      "Clipping input data to the valid range for imshow with RGB data ([0..1] for floats or [0..255] for integers).\n",
      "Clipping input data to the valid range for imshow with RGB data ([0..1] for floats or [0..255] for integers).\n",
      "Clipping input data to the valid range for imshow with RGB data ([0..1] for floats or [0..255] for integers).\n",
      "Clipping input data to the valid range for imshow with RGB data ([0..1] for floats or [0..255] for integers).\n",
      "Clipping input data to the valid range for imshow with RGB data ([0..1] for floats or [0..255] for integers).\n"
     ]
    },
    {
     "name": "stdout",
     "output_type": "stream",
     "text": [
      "X_train :  torch.Size([32, 3, 512, 512]) type: torch.FloatTensor\n",
      "Y_train :  torch.Size([32]) type: torch.LongTensor\n"
     ]
    },
    {
     "data": {
      "image/png": "[encoded data removed]",
      "text/plain": [
       "<Figure size 1000x100 with 10 Axes>"
      ]
     },
     "metadata": {},
     "output_type": "display_data"
    }
   ],
   "source": [
    "\n",
    "# 4. 데이터 확인하기\n",
    "for (X_train_sample,Y_train_sample) in train_loader:\n",
    "    print(\"X_train : \",X_train_sample.size(),'type:',X_train_sample.type())\n",
    "    print(\"Y_train : \",Y_train_sample.size(),'type:',Y_train_sample.type())\n",
    "    break\n",
    "\n",
    "pltsize = 1\n",
    "plt.figure(figsize=(10*pltsize,pltsize))#하나당 10,1\n",
    "\n",
    "for i in range(10):\n",
    "    plt.subplot(1,10,i+1)\n",
    "    transposed_img = np.transpose(X_train_sample[i].detach().numpy(),(1,2,0))\n",
    "    plt.imshow(transposed_img )# 배치에서 10개만 추출\n",
    "    plt.title('Class : '+str(Y_train_sample[i].item()))"
   ]
  },
  {
   "cell_type": "markdown",
   "id": "f523bae2",
   "metadata": {},
   "source": [
    "# 모델 설계\n",
    "\n",
    "- 기본 resnet18"
   ]
  },
  {
   "cell_type": "code",
   "execution_count": 63,
   "id": "4aa61411",
   "metadata": {},
   "outputs": [],
   "source": [
    "# pretrained\n",
    "\n",
    "class ResLayer(nn.Module):\n",
    "    def __init__(self):\n",
    "        super(ResLayer, self).__init__()\n",
    "        self.model = models.resnet18(weights='IMAGENET1K_V1')\n",
    "        #self.num_ftrs = self.model.fc.out_features\n",
    "        self.num_ftrs = 512\n",
    "        self.model.fc = nn.Sequential(\n",
    "            #nn.BatchNorm1d(self.num_ftrs+self.n_mfcc),                \n",
    "            nn.Linear(self.num_ftrs, 64),\n",
    "                             nn.BatchNorm1d(64),\n",
    "                             nn.ReLU(),\n",
    "                             nn.Dropout(p=0.5),\n",
    "                             nn.Linear(64,50),\n",
    "                             nn.BatchNorm1d(50),\n",
    "                             nn.ReLU(),\n",
    "                             nn.Dropout(p=0.5),\n",
    "                             nn.Linear(50,3)\n",
    "                            )\n",
    "        \n",
    "\n",
    "    def forward(self, x):\n",
    "        x = self.model(x)\n",
    "        #x  = self.fc(x)\n",
    "        return x\n",
    "\n",
    "    \n",
    "def model_initialize():\n",
    "    model = ResLayer().cuda()\n",
    "    return model"
   ]
  },
  {
   "cell_type": "code",
   "execution_count": 64,
   "id": "feb1f86d",
   "metadata": {},
   "outputs": [],
   "source": [
    "#8. 학습\n",
    "def train(model,train_loader,optimizer, log_interval):\n",
    "    model.train()\n",
    "    correct = 0\n",
    "    train_loss = 0\n",
    "    for batch_idx,(image,label) in tqdm(enumerate(train_loader)):\n",
    "        image = image.to(DEVICE)\n",
    "        label = label.to(DEVICE)\n",
    "        #데이터들 장비에 할당\n",
    "        optimizer.zero_grad() # device 에 저장된 gradient 제거\n",
    "        output = model(image) # model로 output을 계산\n",
    "        loss = criterion(output, label) #loss 계산\n",
    "        train_loss += loss.item()\n",
    "        prediction = output.max(1,keepdim=True)[1] # 가장 확률이 높은 class 1개를 가져온다.그리고 인덱스만\n",
    "        correct += prediction.eq(label.view_as(prediction)).sum().item()# 아웃풋이 배치 사이즈 32개라서.\n",
    "        loss.backward() # loss 값을 이용해 gradient를 계산\n",
    "        optimizer.step() # Gradient 값을 이용해 파라미터 업데이트.\n",
    "    train_loss/=len(train_loader.dataset)\n",
    "    train_accuracy = 100. * correct / len(train_loader.dataset)\n",
    "    return train_loss,train_accuracy\n"
   ]
  },
  {
   "cell_type": "code",
   "execution_count": 65,
   "id": "c6eff817",
   "metadata": {},
   "outputs": [],
   "source": [
    "#9. 학습 진행하며, validation 데이터로 모델 성능확인\n",
    "def evaluate(model,valid_loader):\n",
    "    model.eval()\n",
    "    valid_loss = 0\n",
    "    correct = 0\n",
    "    #no_grad : 그래디언트 값 계산 막기.\n",
    "    with torch.no_grad():\n",
    "        for image,label in valid_loader:\n",
    "            image = image.to(DEVICE)\n",
    "            label = label.to(DEVICE)\n",
    "            output = model(image)\n",
    "            valid_loss += criterion(output, label).item()\n",
    "            prediction = output.max(1,keepdim=True)[1] # 가장 확률이 높은 class 1개를 가져온다.그리고 인덱스만\n",
    "            correct += prediction.eq(label.view_as(prediction)).sum().item()# 아웃풋이 배치 사이즈 32개라서.\n",
    "            #true.false값을 sum해줌. item\n",
    "        valid_loss /= len(valid_loader.dataset)\n",
    "        valid_accuracy = 100. * correct / len(valid_loader.dataset)\n",
    "        return valid_loss,valid_accuracy\n"
   ]
  },
  {
   "cell_type": "code",
   "execution_count": 66,
   "id": "66cc3ad1",
   "metadata": {
    "scrolled": true
   },
   "outputs": [
    {
     "name": "stdout",
     "output_type": "stream",
     "text": [
      "./checkpoint/baseline_getlabel_resnet18_change__512_.pt\n",
      "학습 시작\n"
     ]
    },
    {
     "name": "stderr",
     "output_type": "stream",
     "text": [
      "28it [02:24,  5.16s/it]\n"
     ]
    },
    {
     "name": "stdout",
     "output_type": "stream",
     "text": [
      "\n",
      "[EPOCH:1]\t Train Loss:0.0346\t Train Acc:44.34 %  | \tValid Loss:0.0298 \tValid Acc: 60.83 %\n",
      "\n",
      "Validation loss decreased (inf --> 0.029769).  Saving model ...\n"
     ]
    },
    {
     "name": "stderr",
     "output_type": "stream",
     "text": [
      "28it [02:24,  5.14s/it]\n"
     ]
    },
    {
     "name": "stdout",
     "output_type": "stream",
     "text": [
      "\n",
      "[EPOCH:2]\t Train Loss:0.0287\t Train Acc:61.20 %  | \tValid Loss:0.0253 \tValid Acc: 72.81 %\n",
      "\n",
      "Validation loss decreased (0.029769 --> 0.025283).  Saving model ...\n"
     ]
    },
    {
     "name": "stderr",
     "output_type": "stream",
     "text": [
      "28it [02:24,  5.18s/it]\n"
     ]
    },
    {
     "name": "stdout",
     "output_type": "stream",
     "text": [
      "\n",
      "[EPOCH:3]\t Train Loss:0.0246\t Train Acc:70.55 %  | \tValid Loss:0.0230 \tValid Acc: 79.72 %\n",
      "\n",
      "Validation loss decreased (0.025283 --> 0.022978).  Saving model ...\n"
     ]
    },
    {
     "name": "stderr",
     "output_type": "stream",
     "text": [
      "28it [02:21,  5.05s/it]\n"
     ]
    },
    {
     "name": "stdout",
     "output_type": "stream",
     "text": [
      "\n",
      "[EPOCH:4]\t Train Loss:0.0222\t Train Acc:79.91 %  | \tValid Loss:0.0229 \tValid Acc: 81.11 %\n",
      "\n",
      "Validation loss decreased (0.022978 --> 0.022876).  Saving model ...\n"
     ]
    },
    {
     "name": "stderr",
     "output_type": "stream",
     "text": [
      "28it [02:22,  5.10s/it]\n"
     ]
    }
   ],
   "source": [
    "check_path = './checkpoint/baseline_getlabel_'+'resnet18_change_'+'_512_'+'.pt'\n",
    "print(check_path)\n",
    "early_stopping = EarlyStopping(patience = 3, verbose = True, path=check_path)\n",
    "\n",
    "best_train_acc=0 # accuracy 기록용\n",
    "best_valid_acc=0\n",
    "\n",
    "model=model_initialize()\n",
    "criterion = nn.CrossEntropyLoss()\n",
    "optimizer = torch.optim.Adam(model.parameters(),lr=lr)\n",
    "\n",
    "\n",
    "\n",
    "print(\"학습 시작\")\n",
    "for Epoch in range(1,EPOCHS+1):\n",
    "    train_loss,train_accuracy = train(model,train_loader,optimizer,log_interval=31)\n",
    "    valid_loss,valid_accuracy = evaluate(model, valid_loader)\n",
    "\n",
    "    print(\"\\n[EPOCH:{}]\\t Train Loss:{:.4f}\\t Train Acc:{:.2f} %  | \\tValid Loss:{:.4f} \\tValid Acc: {:.2f} %\\n\".\n",
    "          format(Epoch,train_loss,train_accuracy,valid_loss,valid_accuracy))\n",
    "\n",
    "\n",
    "    early_stopping(valid_loss, model)\n",
    "    if -early_stopping.best_score == valid_loss:\n",
    "        best_train_acc, best_valid_acc = train_accuracy,valid_accuracy\n",
    "\n",
    "    if early_stopping.early_stop:\n",
    "            #train_accs.append(best_train_acc)\n",
    "            #valid_accs.append(best_valid_acc)\n",
    "            #print(\"[{} 교차검증] Early stopping\".format(data_ind))\n",
    "            break\n",
    "\n",
    "    if Epoch==EPOCHS:\n",
    "        #만약 early stop 없이 40 epoch라서 중지 된 경우. \n",
    "        pass\n",
    "        #train_accs.append(best_train_acc)\n",
    "        #valid_accs.append(best_valid_acc)"
   ]
  },
  {
   "cell_type": "code",
   "execution_count": 20,
   "id": "06e60423",
   "metadata": {},
   "outputs": [
    {
     "ename": "NameError",
     "evalue": "name 'best_train_acc' is not defined",
     "output_type": "error",
     "traceback": [
      "\u001b[1;31m---------------------------------------------------------------------------\u001b[0m",
      "\u001b[1;31mNameError\u001b[0m                                 Traceback (most recent call last)",
      "\u001b[1;32md:\\project\\Bowel_Movement_Cleaness\\classification_sub\\1024_valid\\baseline copy.ipynb 셀 23\u001b[0m in \u001b[0;36m<cell line: 1>\u001b[1;34m()\u001b[0m\n\u001b[1;32m----> <a href='vscode-notebook-cell:/d%3A/project/Bowel_Movement_Cleaness/classification_sub/1024_valid/baseline%20copy.ipynb#X30sZmlsZQ%3D%3D?line=0'>1</a>\u001b[0m \u001b[39mprint\u001b[39m(\u001b[39m\"\u001b[39m\u001b[39m[교차검증] train ACC : \u001b[39m\u001b[39m{:.4f}\u001b[39;00m\u001b[39m |\u001b[39m\u001b[39m\\t\u001b[39;00m\u001b[39m valid ACC: \u001b[39m\u001b[39m{:.4f}\u001b[39;00m\u001b[39m \u001b[39m\u001b[39m\"\u001b[39m\u001b[39m.\u001b[39mformat(best_train_acc,best_valid_acc ))\n",
      "\u001b[1;31mNameError\u001b[0m: name 'best_train_acc' is not defined"
     ]
    }
   ],
   "source": [
    "print(\"[교차검증] train ACC : {:.4f} |\\t valid ACC: {:.4f} \".format(best_train_acc,best_valid_acc ))"
   ]
  },
  {
   "cell_type": "markdown",
   "id": "d863b9c7",
   "metadata": {},
   "source": [
    "# test"
   ]
  },
  {
   "cell_type": "code",
   "execution_count": 50,
   "id": "2dd4d915",
   "metadata": {},
   "outputs": [],
   "source": [
    "#confusion matrix 계산\n",
    "#test set 계산.\n",
    "def test_evaluate(model,test_loader):\n",
    "    model.eval()\n",
    "    test_loss = 0\n",
    "    predictions = []\n",
    "    answers = []\n",
    "\n",
    "    #roc-auc score 용\n",
    "    outputs= []\n",
    "\n",
    "    #no_grad : 그래디언트 값 계산 막기.\n",
    "    with torch.no_grad():\n",
    "        for image,label in test_loader:\n",
    "            image = image.to(DEVICE)\n",
    "            label = label.to(DEVICE)\n",
    "            output = model(image)\n",
    "            test_loss += criterion(output, label).item()\n",
    "            prediction = output.max(1,keepdim=True)[1] # 가장 확률이 높은 class 1개를 가져온다.그리고 인덱스만\n",
    "            \n",
    "            \n",
    "            answers +=label\n",
    "            outputs += F.softmax(output,dim=1)\n",
    "            predictions +=prediction\n",
    "            \n",
    "        return predictions,answers,test_loss, outputs"
   ]
  },
  {
   "cell_type": "code",
   "execution_count": 51,
   "id": "3a2fb379",
   "metadata": {},
   "outputs": [
    {
     "name": "stdout",
     "output_type": "stream",
     "text": [
      "Accuracy : 84.3318% \n",
      "f score : 0.8210 \n",
      "roc_auc score : 0.9517 \n",
      "[[79  2  2]\n",
      " [11 34  8]\n",
      " [ 0 11 70]]\n",
      "-----\n"
     ]
    }
   ],
   "source": [
    "# Confusion matrix (resnet18)\n",
    "# 모델을 각각 불러와서 test set을 평가한다.\n",
    "\n",
    "from re import A\n",
    "from sklearn.metrics import confusion_matrix\n",
    "from sklearn.metrics import f1_score\n",
    "from sklearn.metrics import accuracy_score\n",
    "from sklearn.metrics import roc_auc_score\n",
    "\n",
    "cf = np.zeros((2,2))\n",
    "\n",
    "model=model_initialize()\n",
    "criterion = nn.CrossEntropyLoss()\n",
    "model.load_state_dict(torch.load('./checkpoint/baseline_getlabel_'+'resnet18'+'_512_'+'.pt'))\n",
    "\n",
    "predictions,answers,test_loss,outputs = test_evaluate(model, test_loader)\n",
    "predictions=[ dat.cpu().numpy() for dat in predictions]\n",
    "answers=[ dat.cpu().numpy() for dat in answers]\n",
    "outputs=[ dat.cpu().numpy() for dat in outputs]\n",
    "\n",
    "\n",
    "cf = confusion_matrix(answers, predictions)\n",
    "\n",
    "#fscroe macro추가\n",
    "fscore = f1_score(answers,predictions,average='macro')\n",
    "acc = accuracy_score(answers,predictions)\n",
    "roc_auc = roc_auc_score(answers,outputs,multi_class='ovr')\n",
    "\n",
    "print(\"Accuracy : {:.4f}% \".format(acc*100))\n",
    "print(\"f score : {:.4f} \".format(fscore))\n",
    "print(\"roc_auc score : {:.4f} \".format(roc_auc))\n",
    "print(cf)\n",
    "print(\"-----\")\n",
    "\n",
    "result_file_idx = 'baseline_test_auc'+str(test_idx)+'.csv'\n",
    "result_file_name = 'baseline_test_auc'+'.csv'\n",
    "res_df=pd.DataFrame({'file_name':[result_file_idx,],'Acc':[acc*100,],'fscore':[fscore,],'roc_auc':[roc_auc,]})\n",
    "\n",
    "res_df.to_csv(result_file_name,index=False,mode='a',header=False)\n"
   ]
  },
  {
   "cell_type": "code",
   "execution_count": null,
   "id": "14c432d3",
   "metadata": {},
   "outputs": [],
   "source": []
  }
 ],
 "metadata": {
  "kernelspec": {
   "display_name": "Python 3.9.13 ('bmc')",
   "language": "python",
   "name": "python3"
  },
  "language_info": {
   "codemirror_mode": {
    "name": "ipython",
    "version": 3
   },
   "file_extension": ".py",
   "mimetype": "text/x-python",
   "name": "python",
   "nbconvert_exporter": "python",
   "pygments_lexer": "ipython3",
   "version": "3.9.13"
  },
  "toc": {
   "base_numbering": 1,
   "nav_menu": {},
   "number_sections": true,
   "sideBar": true,
   "skip_h1_title": false,
   "title_cell": "Table of Contents",
   "title_sidebar": "Contents",
   "toc_cell": false,
   "toc_position": {},
   "toc_section_display": true,
   "toc_window_display": false
  },
  "vscode": {
   "interpreter": {
    "hash": "091e73c5e15df28bd73063e1905a4bad764ae5a5009f711fc664069592307726"
   }
  }
 },
 "nbformat": 4,
 "nbformat_minor": 5
}
