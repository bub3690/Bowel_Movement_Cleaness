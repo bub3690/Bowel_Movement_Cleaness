{
 "cells": [
  {
   "cell_type": "code",
   "execution_count": 3,
   "metadata": {},
   "outputs": [],
   "source": [
    "import numpy as np\n",
    "import torch\n",
    "\n",
    "label = torch.tensor([0,0,0,0,1,1,1,1,2,2])\n",
    "answer = torch.tensor([0,1,0,1,0,1,0,1,2,2])\n",
    "\n",
    "\n"
   ]
  },
  {
   "cell_type": "code",
   "execution_count": 4,
   "metadata": {},
   "outputs": [
    {
     "ename": "AttributeError",
     "evalue": "'numpy.ndarray' object has no attribute 'eq'",
     "output_type": "error",
     "traceback": [
      "\u001b[1;31m---------------------------------------------------------------------------\u001b[0m",
      "\u001b[1;31mAttributeError\u001b[0m                            Traceback (most recent call last)",
      "\u001b[1;32md:\\project\\Bowel_Movement_Cleaness\\classification_sub\\1024_valid\\Trainer\\ndd.ipynb 셀 2\u001b[0m in \u001b[0;36m<cell line: 2>\u001b[1;34m()\u001b[0m\n\u001b[0;32m      <a href='vscode-notebook-cell:/d%3A/project/Bowel_Movement_Cleaness/classification_sub/1024_valid/Trainer/ndd.ipynb#W1sZmlsZQ%3D%3D?line=0'>1</a>\u001b[0m correct \u001b[39m=\u001b[39m \u001b[39m0\u001b[39m\n\u001b[1;32m----> <a href='vscode-notebook-cell:/d%3A/project/Bowel_Movement_Cleaness/classification_sub/1024_valid/Trainer/ndd.ipynb#W1sZmlsZQ%3D%3D?line=1'>2</a>\u001b[0m correct \u001b[39m+\u001b[39m\u001b[39m=\u001b[39m answer\u001b[39m.\u001b[39;49meq(label\u001b[39m.\u001b[39mview_as(answer))\u001b[39m.\u001b[39msum()\u001b[39m.\u001b[39mitem()\n",
      "\u001b[1;31mAttributeError\u001b[0m: 'numpy.ndarray' object has no attribute 'eq'"
     ]
    }
   ],
   "source": [
    "correct = 0\n",
    "correct += answer.eq(label.view_as(answer)).sum().item()# 아웃풋이 배치 사이즈 32개라서.\n"
   ]
  },
  {
   "cell_type": "code",
   "execution_count": null,
   "metadata": {},
   "outputs": [],
   "source": []
  }
 ],
 "metadata": {
  "kernelspec": {
   "display_name": "Python 3.9.13 ('bmc')",
   "language": "python",
   "name": "python3"
  },
  "language_info": {
   "codemirror_mode": {
    "name": "ipython",
    "version": 3
   },
   "file_extension": ".py",
   "mimetype": "text/x-python",
   "name": "python",
   "nbconvert_exporter": "python",
   "pygments_lexer": "ipython3",
   "version": "3.9.13"
  },
  "orig_nbformat": 4,
  "vscode": {
   "interpreter": {
    "hash": "091e73c5e15df28bd73063e1905a4bad764ae5a5009f711fc664069592307726"
   }
  }
 },
 "nbformat": 4,
 "nbformat_minor": 2
}
