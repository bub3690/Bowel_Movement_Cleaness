{
 "cells": [
  {
   "cell_type": "code",
   "execution_count": 1,
   "id": "1a6eca8f",
   "metadata": {},
   "outputs": [],
   "source": [
    "import pandas as pd\n",
    "import numpy as np\n",
    "from glob import glob\n",
    "import os\n",
    "import shutil\n",
    "from tqdm import tqdm\n",
    "import json"
   ]
  },
  {
   "cell_type": "markdown",
   "id": "47d6f7a5",
   "metadata": {},
   "source": [
    "### 확장자 중복 처리"
   ]
  },
  {
   "cell_type": "code",
   "execution_count": 2,
   "id": "928b62ca",
   "metadata": {},
   "outputs": [],
   "source": [
    "\n",
    "color_0=glob('./data/2022_10/Color/color_0/*.jpg')\n",
    "color_1=glob('./data/2022_10/Color/color_1/*.jpg')\n",
    "color_2=glob('./data/2022_10/Color/color_2/*.jpg')\n",
    "\n",
    "\n",
    "residue_0=glob('./data/2022_10/Fecal_residue/Residue_0/*.jpg')\n",
    "residue_1=glob('./data/2022_10/Fecal_residue/Residue_1/*.jpg')\n",
    "residue_2=glob('./data/2022_10/Fecal_residue/Residue_2/*.jpg')\n",
    "\n",
    "turbidity_0=glob('./data/2022_10/turbidity/turbidity_0/*.jpg')\n",
    "turbidity_2=glob('./data/2022_10/turbidity/turbidity_2/*.jpg')\n",
    "\n",
    "label_0=glob('./data/2022_10/0/*.jpg')\n",
    "label_1=glob('./data/2022_10/1/*.jpg')\n",
    "label_2=glob('./data/2022_10/2/*.jpg')\n",
    "\n",
    "colors_list = [color_0,color_1,color_2]\n",
    "residue_list = [residue_0,residue_1,residue_2]\n",
    "turbidity_list = [turbidity_0,turbidity_2]\n",
    "label_list = [label_0,label_1,label_2]\n",
    "\n",
    "for colors in colors_list:\n",
    "    for file in colors:\n",
    "        if file.split('\\\\')[1].split('.')[1] == 'jpg-1':\n",
    "            print(file)\n",
    "            os.rename(file, file.split('.jpg-1')[0]+'.jpg')\n",
    "            os.rename('.'+file.split('.')[1]+'.jpg-1.json' ,file.split('.jpg-1')[0]+'.json') #json 파일 바꾸기\n",
    "            \n",
    "for residues in residue_list:\n",
    "    for file in residues:\n",
    "        if file.split('\\\\')[1].split('.')[1] == 'jpg-1':\n",
    "            print(file)\n",
    "            os.rename(file, file.split('.jpg-1')[0]+'.jpg')\n",
    "            os.rename('.'+file.split('.')[1]+'.jpg-1.json' ,file.split('.jpg-1')[0]+'.json') #json 파일 바꾸기\n",
    "            \n",
    "for turbids in turbidity_list:\n",
    "    for file in turbids:\n",
    "        if file.split('\\\\')[1].split('.')[1] == 'jpg-1':\n",
    "            print(file)\n",
    "            os.rename(file, file.split('.jpg-1')[0]+'.jpg')\n",
    "            os.rename('.'+file.split('.')[1]+'.jpg-1.json' ,file.split('.jpg-1')[0]+'.json') #json 파일 바꾸기\n",
    "\n",
    "for labels in label_list:\n",
    "    for file in labels:\n",
    "        if file.split('\\\\')[1].split('.')[1] == 'jpg-1':\n",
    "            print(file)\n",
    "            os.rename(file, file.split('.jpg-1')[0]+'.jpg')\n",
    "            os.rename('.'+file.split('.')[1]+'.jpg-1.json' ,file.split('.jpg-1')[0]+'.json') #json 파일 바꾸기\n",
    "\n"
   ]
  },
  {
   "cell_type": "markdown",
   "id": "f3177dbc",
   "metadata": {},
   "source": [
    "# 파일 라벨링 처리"
   ]
  },
  {
   "cell_type": "code",
   "execution_count": 3,
   "id": "3b5fb499",
   "metadata": {},
   "outputs": [
    {
     "name": "stdout",
     "output_type": "stream",
     "text": [
      "label 0 :  497\n",
      "label 1 :  381\n",
      "label 2 :  519\n",
      "총 샘플 수 : 1397\n"
     ]
    }
   ],
   "source": [
    "print(\"label 0 : \",len(label_0))\n",
    "print(\"label 1 : \",len(label_1))\n",
    "print(\"label 2 : \",len(label_2))\n",
    "print(\"총 샘플 수 :\",len(label_0)+len(label_1)+len(label_2) )"
   ]
  },
  {
   "cell_type": "code",
   "execution_count": 4,
   "id": "365426e1",
   "metadata": {},
   "outputs": [
    {
     "name": "stdout",
     "output_type": "stream",
     "text": [
      "color_0 :  205\n",
      "color_1 :  225\n",
      "color_2 :  916\n",
      "총 샘플 수 : 1346\n"
     ]
    }
   ],
   "source": [
    "print(\"color_0 : \",len(color_0))\n",
    "print(\"color_1 : \",len(color_1))\n",
    "print(\"color_2 : \",len(color_2))\n",
    "print(\"총 샘플 수 :\",len(color_0)+len(color_1)+len(color_2) )"
   ]
  },
  {
   "cell_type": "code",
   "execution_count": 5,
   "id": "4179c1f8",
   "metadata": {},
   "outputs": [
    {
     "name": "stdout",
     "output_type": "stream",
     "text": [
      "residue_0 :  287\n",
      "residue_1 :  393\n",
      "residue_2 :  692\n",
      "총 샘플 수 : 1372\n"
     ]
    }
   ],
   "source": [
    "print(\"residue_0 : \",len(residue_0))\n",
    "print(\"residue_1 : \",len(residue_1))\n",
    "print(\"residue_2 : \",len(residue_2))\n",
    "print(\"총 샘플 수 :\",len(residue_0)+len(residue_1)+len(residue_2) )"
   ]
  },
  {
   "cell_type": "code",
   "execution_count": 6,
   "id": "d30c78d3",
   "metadata": {},
   "outputs": [
    {
     "name": "stdout",
     "output_type": "stream",
     "text": [
      "turbidity_0 :  576\n",
      "turbidity_2 :  774\n",
      "총 샘플 수 : 1350\n"
     ]
    }
   ],
   "source": [
    "print(\"turbidity_0 : \",len(turbidity_0))\n",
    "print(\"turbidity_2 : \",len(turbidity_2))\n",
    "print(\"총 샘플 수 :\",len(turbidity_0)+len(turbidity_2))"
   ]
  },
  {
   "cell_type": "markdown",
   "id": "53435da9",
   "metadata": {},
   "source": [
    "---\n",
    "### 파일 목록 가져오기\n",
    "color 기준"
   ]
  },
  {
   "cell_type": "code",
   "execution_count": 7,
   "id": "e5fe6155",
   "metadata": {},
   "outputs": [],
   "source": [
    "from collections import defaultdict\n",
    "image_list = defaultdict(lambda: [-1,-1,-1,-1]) #[color/Fecal_residue/turbidity/label]"
   ]
  },
  {
   "cell_type": "markdown",
   "id": "ac4b0fc4",
   "metadata": {},
   "source": [
    "### Color"
   ]
  },
  {
   "cell_type": "code",
   "execution_count": 8,
   "id": "c5d4a8b2",
   "metadata": {},
   "outputs": [
    {
     "name": "stdout",
     "output_type": "stream",
     "text": [
      "duplicated Color data!! :  IMG_20220904_231628_1 2\n",
      "already value is :  1\n"
     ]
    }
   ],
   "source": [
    "for val, colors in enumerate(colors_list):\n",
    "    origin_names = [color.split(\"\\\\\")[1].split('.')[0] for color in colors ]\n",
    "\n",
    "    for name in origin_names:\n",
    "        if(image_list[name][0] == -1):\n",
    "            image_list[name][0] = val\n",
    "        else:\n",
    "            print(\"duplicated Color data!! : \", name, val)\n",
    "            print(\"already value is : \", image_list[name][0])"
   ]
  },
  {
   "cell_type": "markdown",
   "id": "63f30afd",
   "metadata": {},
   "source": [
    "### Fecal_residue"
   ]
  },
  {
   "cell_type": "code",
   "execution_count": 9,
   "id": "18d2f4e5",
   "metadata": {},
   "outputs": [
    {
     "name": "stdout",
     "output_type": "stream",
     "text": [
      "duplicated Fecal_residue data!! :  IMG_20211119_012144_1 2\n",
      "already value is :  1\n",
      "duplicated Fecal_residue data!! :  IMG_20220724_223145 2\n",
      "already value is :  1\n"
     ]
    }
   ],
   "source": [
    "for val, residues in enumerate(residue_list):\n",
    "    origin_names = [residue.split(\"\\\\\")[1].split('.')[0] for residue in residues ]\n",
    "\n",
    "    for name in origin_names:\n",
    "        if(image_list[name][1] == -1):\n",
    "            image_list[name][1] = val\n",
    "        else:\n",
    "            print(\"duplicated Fecal_residue data!! : \", name, val)\n",
    "            print(\"already value is : \", image_list[name][1])"
   ]
  },
  {
   "cell_type": "markdown",
   "id": "7d8e00a7",
   "metadata": {},
   "source": [
    "### turbidity"
   ]
  },
  {
   "cell_type": "code",
   "execution_count": 10,
   "id": "62e14139",
   "metadata": {},
   "outputs": [],
   "source": [
    "for val, turbiditys in enumerate(turbidity_list):\n",
    "    origin_names = [turbidity.split(\"\\\\\")[1].split('.')[0] for turbidity in turbiditys]\n",
    "\n",
    "    for name in origin_names:\n",
    "        if(image_list[name][2] == -1):\n",
    "            image_list[name][2] = val\n",
    "        else:\n",
    "            print(\"duplicated Turbidity data!! : \", name, val)\n",
    "            print(\"already value is : \", image_list[name][0])"
   ]
  },
  {
   "cell_type": "markdown",
   "id": "d4c8d0fd",
   "metadata": {},
   "source": [
    "### label"
   ]
  },
  {
   "cell_type": "code",
   "execution_count": 11,
   "id": "26defb23",
   "metadata": {},
   "outputs": [
    {
     "name": "stdout",
     "output_type": "stream",
     "text": [
      "duplicated Label data!! :  IMG_20211119_012144_1 1\n",
      "already value is :  0\n",
      "duplicated Label data!! :  IMG_20210222_205946 2\n",
      "already value is :  1\n"
     ]
    }
   ],
   "source": [
    "for val, labels in enumerate(label_list):\n",
    "    origin_names = [label.split(\"\\\\\")[1].split('.')[0] for label in labels]\n",
    "\n",
    "    for name in origin_names:\n",
    "        if(image_list[name][3] == -1):\n",
    "            image_list[name][3] = val\n",
    "        else:\n",
    "            print(\"duplicated Label data!! : \", name, val)\n",
    "            print(\"already value is : \", image_list[name][3])"
   ]
  },
  {
   "cell_type": "markdown",
   "id": "261ba38f",
   "metadata": {},
   "source": [
    "### pandas"
   ]
  },
  {
   "cell_type": "code",
   "execution_count": 12,
   "id": "b85bac62",
   "metadata": {},
   "outputs": [
    {
     "name": "stdout",
     "output_type": "stream",
     "text": [
      "not enough data :  IMG_20220506_012354\n",
      "[0, -1, 0, 0]\n",
      "not enough data :  IMG_20220506_020439\n",
      "[0, -1, 0, 0]\n",
      "not enough data :  IMG_20220506_065546\n",
      "[0, -1, 0, 0]\n",
      "not enough data :  IMG_20220510_223431\n",
      "[0, -1, 0, 0]\n",
      "not enough data :  IMG_20220725_220907\n",
      "[0, -1, 0, 0]\n",
      "not enough data :  IMG_20220804_205738\n",
      "[0, -1, 0, 0]\n",
      "not enough data :  IMG_20220808_162214\n",
      "[0, -1, 0, 0]\n",
      "not enough data :  IMG_20221024_182236\n",
      "[0, -1, 0, 0]\n",
      "not enough data :  IMG_20221024_215601\n",
      "[0, -1, 0, 0]\n",
      "not enough data :  IMG_20220503_230302_1\n",
      "[1, -1, 0, 0]\n",
      "not enough data :  IMG_20220516_221935\n",
      "[1, -1, 1, 0]\n",
      "not enough data :  IMG_20220616_230558\n",
      "[1, 2, -1, 2]\n",
      "not enough data :  IMG_20220708_034340\n",
      "[1, -1, 1, 0]\n",
      "not enough data :  IMG_20220708_034343\n",
      "[1, -1, 1, 0]\n",
      "not enough data :  IMG_20210303_161015_1\n",
      "[2, -1, 1, 2]\n",
      "not enough data :  IMG_20220503_183205\n",
      "[2, -1, 1, 0]\n",
      "not enough data :  IMG_20220503_230302\n",
      "[2, -1, 0, 0]\n",
      "not enough data :  IMG_20220512_094808\n",
      "[2, -1, 1, 0]\n",
      "not enough data :  IMG_20220731_210227\n",
      "[2, 2, -1, 1]\n",
      "not enough data :  IMG_20220819_112307\n",
      "[2, -1, 1, 1]\n",
      "not enough data :  IMG_20220912_190309_1\n",
      "[2, 1, -1, 0]\n",
      "not enough data :  IMG_20220502_231528\n",
      "[-1, 0, -1, 0]\n",
      "not enough data :  IMG_20220503_055138\n",
      "[-1, 0, -1, 0]\n",
      "not enough data :  IMG_20220506_035106\n",
      "[-1, 0, -1, 0]\n",
      "not enough data :  IMG_20220506_054002\n",
      "[-1, 0, -1, 0]\n",
      "not enough data :  IMG_20220610_203211\n",
      "[-1, 0, -1, 0]\n",
      "not enough data :  IMG_20220610_203219\n",
      "[-1, 0, -1, 0]\n",
      "not enough data :  IMG_20220626_145239\n",
      "[-1, 0, -1, 0]\n",
      "not enough data :  IMG_20220626_150644\n",
      "[-1, 0, -1, 0]\n",
      "not enough data :  IMG_20220626_160125\n",
      "[-1, 0, -1, 0]\n",
      "not enough data :  IMG_20220626_160815\n",
      "[-1, 0, -1, 0]\n",
      "not enough data :  IMG_20220731_195627\n",
      "[-1, 0, -1, 0]\n",
      "not enough data :  IMG_20220731_200803\n",
      "[-1, 0, -1, 0]\n",
      "not enough data :  IMG_20220731_201208\n",
      "[-1, 0, -1, 0]\n",
      "not enough data :  IMG_20220731_201724\n",
      "[-1, 0, -1, 0]\n",
      "not enough data :  IMG_20220804_195213\n",
      "[-1, 0, -1, 0]\n",
      "not enough data :  IMG_20220808_162214_1\n",
      "[-1, 0, -1, 0]\n",
      "not enough data :  IMG_20220808_163151\n",
      "[-1, 0, -1, 0]\n",
      "not enough data :  IMG_20220808_163151_1\n",
      "[-1, 0, -1, 0]\n",
      "not enough data :  IMG_20220828_221250\n",
      "[-1, 0, -1, 0]\n",
      "not enough data :  IMG_20220828_221256\n",
      "[-1, 0, -1, 0]\n",
      "not enough data :  IMG_20220916_003301\n",
      "[-1, 0, -1, 0]\n",
      "not enough data :  IMG_20220916_003301_1\n",
      "[-1, 0, -1, 0]\n",
      "not enough data :  IMG_20220916_024141\n",
      "[-1, 0, -1, 0]\n",
      "not enough data :  IMG_20220916_024141_1\n",
      "[-1, 0, -1, 0]\n",
      "not enough data :  IMG_20220922_075715\n",
      "[-1, 0, -1, 0]\n",
      "not enough data :  IMG_20220923_071504\n",
      "[-1, 0, -1, 0]\n",
      "not enough data :  IMG_20220923_112623\n",
      "[-1, 0, -1, 0]\n",
      "not enough data :  IMG_20221006_204234\n",
      "[-1, 0, -1, 0]\n",
      "not enough data :  IMG_20221006_213537\n",
      "[-1, 0, -1, 0]\n",
      "not enough data :  IMG_20221006_222115\n",
      "[-1, 0, -1, 0]\n",
      "not enough data :  IMG_20221006_224823\n",
      "[-1, 0, -1, 0]\n",
      "not enough data :  IMG_20221017_175635\n",
      "[-1, 0, -1, 0]\n",
      "not enough data :  IMG_20221024_154908\n",
      "[-1, 0, -1, 0]\n",
      "not enough data :  IMG_20221027_190827\n",
      "[-1, 0, -1, 0]\n",
      "not enough data :  IMG_20221027_193642\n",
      "[-1, 0, -1, 0]\n",
      "not enough data :  IMG_20221027_193645\n",
      "[-1, 0, -1, 0]\n",
      "not enough data :  IMG_20221004_184036\n",
      "[-1, 1, -1, 0]\n",
      "not enough data :  IMG_20221007_011402\n",
      "[-1, 1, -1, 0]\n",
      "not enough data :  IMG_20221007_011402_1\n",
      "[-1, 1, -1, 0]\n",
      "not enough data :  IMG_20221007_023913\n",
      "[-1, 1, -1, 0]\n",
      "not enough data :  IMG_20221007_023913_1\n",
      "[-1, 1, -1, 0]\n",
      "not enough data :  IMG_20221020_234655\n",
      "[-1, 1, -1, 0]\n",
      "not enough data :  IMG_20220808_173412\n",
      "[-1, 2, 0, 1]\n",
      "not enough data :  IMG_20200510_205628\n",
      "[-1, -1, 0, 0]\n",
      "not enough data :  IMG_20220626_195118\n",
      "[-1, -1, 0, 0]\n",
      "not enough data :  IMG_20220626_210703\n",
      "[-1, -1, 0, 0]\n",
      "not enough data :  IMG_20220626_214056\n",
      "[-1, -1, 0, 0]\n",
      "not enough data :  IMG_20220808_185326_1\n",
      "[-1, -1, 0, 1]\n",
      "not enough data :  IMG_20220808_202325_1\n",
      "[-1, -1, 0, 1]\n",
      "not enough data :  IMG_20200510_213649\n",
      "[-1, -1, 1, 0]\n"
     ]
    }
   ],
   "source": [
    "df = {\"origin_name\":[], \"color\":[], \"residue\" : [], \"turbidity\":[], \"label\":[]}\n",
    "not_enough_data = []\n",
    "for key, val in image_list.items():\n",
    "    if(-1 not in val):\n",
    "        df[\"origin_name\"].append(key)\n",
    "        df[\"color\"].append(val[0])\n",
    "        df[\"residue\"].append(val[1])\n",
    "        df[\"turbidity\"].append(val[2])\n",
    "        df[\"label\"].append(val[3])\n",
    "    else:\n",
    "        print(\"not enough data : \", key)\n",
    "        print(val)\n",
    "        not_enough_data.append(key)\n",
    "df = pd.DataFrame.from_dict(df)"
   ]
  },
  {
   "cell_type": "code",
   "execution_count": 13,
   "id": "cc356537",
   "metadata": {},
   "outputs": [
    {
     "data": {
      "text/html": [
       "<div>\n",
       "<style scoped>\n",
       "    .dataframe tbody tr th:only-of-type {\n",
       "        vertical-align: middle;\n",
       "    }\n",
       "\n",
       "    .dataframe tbody tr th {\n",
       "        vertical-align: top;\n",
       "    }\n",
       "\n",
       "    .dataframe thead th {\n",
       "        text-align: right;\n",
       "    }\n",
       "</style>\n",
       "<table border=\"1\" class=\"dataframe\">\n",
       "  <thead>\n",
       "    <tr style=\"text-align: right;\">\n",
       "      <th></th>\n",
       "      <th>origin_name</th>\n",
       "      <th>color</th>\n",
       "      <th>residue</th>\n",
       "      <th>turbidity</th>\n",
       "      <th>label</th>\n",
       "    </tr>\n",
       "  </thead>\n",
       "  <tbody>\n",
       "    <tr>\n",
       "      <th>0</th>\n",
       "      <td>1301837407-1</td>\n",
       "      <td>0</td>\n",
       "      <td>0</td>\n",
       "      <td>0</td>\n",
       "      <td>0</td>\n",
       "    </tr>\n",
       "    <tr>\n",
       "      <th>1</th>\n",
       "      <td>1411450810-1</td>\n",
       "      <td>0</td>\n",
       "      <td>0</td>\n",
       "      <td>0</td>\n",
       "      <td>0</td>\n",
       "    </tr>\n",
       "    <tr>\n",
       "      <th>2</th>\n",
       "      <td>1651193832-1</td>\n",
       "      <td>0</td>\n",
       "      <td>0</td>\n",
       "      <td>0</td>\n",
       "      <td>0</td>\n",
       "    </tr>\n",
       "    <tr>\n",
       "      <th>3</th>\n",
       "      <td>2077897036-1</td>\n",
       "      <td>0</td>\n",
       "      <td>0</td>\n",
       "      <td>0</td>\n",
       "      <td>0</td>\n",
       "    </tr>\n",
       "    <tr>\n",
       "      <th>4</th>\n",
       "      <td>290980310-1</td>\n",
       "      <td>0</td>\n",
       "      <td>1</td>\n",
       "      <td>0</td>\n",
       "      <td>0</td>\n",
       "    </tr>\n",
       "    <tr>\n",
       "      <th>...</th>\n",
       "      <td>...</td>\n",
       "      <td>...</td>\n",
       "      <td>...</td>\n",
       "      <td>...</td>\n",
       "      <td>...</td>\n",
       "    </tr>\n",
       "    <tr>\n",
       "      <th>1319</th>\n",
       "      <td>PANO_20200407_221523</td>\n",
       "      <td>2</td>\n",
       "      <td>2</td>\n",
       "      <td>1</td>\n",
       "      <td>2</td>\n",
       "    </tr>\n",
       "    <tr>\n",
       "      <th>1320</th>\n",
       "      <td>PANO_20200407_221527</td>\n",
       "      <td>2</td>\n",
       "      <td>2</td>\n",
       "      <td>1</td>\n",
       "      <td>2</td>\n",
       "    </tr>\n",
       "    <tr>\n",
       "      <th>1321</th>\n",
       "      <td>PANO_20200818_174909</td>\n",
       "      <td>2</td>\n",
       "      <td>2</td>\n",
       "      <td>1</td>\n",
       "      <td>2</td>\n",
       "    </tr>\n",
       "    <tr>\n",
       "      <th>1322</th>\n",
       "      <td>PANO_20210330_062718</td>\n",
       "      <td>2</td>\n",
       "      <td>2</td>\n",
       "      <td>1</td>\n",
       "      <td>2</td>\n",
       "    </tr>\n",
       "    <tr>\n",
       "      <th>1323</th>\n",
       "      <td>tmp_1610355667809</td>\n",
       "      <td>2</td>\n",
       "      <td>2</td>\n",
       "      <td>1</td>\n",
       "      <td>2</td>\n",
       "    </tr>\n",
       "  </tbody>\n",
       "</table>\n",
       "<p>1324 rows × 5 columns</p>\n",
       "</div>"
      ],
      "text/plain": [
       "               origin_name  color  residue  turbidity  label\n",
       "0             1301837407-1      0        0          0      0\n",
       "1             1411450810-1      0        0          0      0\n",
       "2             1651193832-1      0        0          0      0\n",
       "3             2077897036-1      0        0          0      0\n",
       "4              290980310-1      0        1          0      0\n",
       "...                    ...    ...      ...        ...    ...\n",
       "1319  PANO_20200407_221523      2        2          1      2\n",
       "1320  PANO_20200407_221527      2        2          1      2\n",
       "1321  PANO_20200818_174909      2        2          1      2\n",
       "1322  PANO_20210330_062718      2        2          1      2\n",
       "1323     tmp_1610355667809      2        2          1      2\n",
       "\n",
       "[1324 rows x 5 columns]"
      ]
     },
     "execution_count": 13,
     "metadata": {},
     "output_type": "execute_result"
    }
   ],
   "source": [
    "df.to_csv(\"./bmc_until10.csv\")\n",
    "df"
   ]
  },
  {
   "attachments": {},
   "cell_type": "markdown",
   "id": "faf08476",
   "metadata": {},
   "source": [
    "여기 위까지만 실행됬다.\n",
    "\n",
    "### 파일명 변경"
   ]
  },
  {
   "cell_type": "code",
   "execution_count": 14,
   "id": "c8079909",
   "metadata": {},
   "outputs": [],
   "source": [
    "# color 기준\n",
    "DATASET_PATH = './data/2022_10/Color'\n",
    "NEW_PATH = './data/bmc_label_until-10/'"
   ]
  },
  {
   "cell_type": "code",
   "execution_count": 15,
   "id": "d54d4255",
   "metadata": {},
   "outputs": [],
   "source": [
    "os.makedirs(NEW_PATH, exist_ok=True)"
   ]
  },
  {
   "cell_type": "code",
   "execution_count": 17,
   "id": "1820ba02",
   "metadata": {},
   "outputs": [
    {
     "name": "stderr",
     "output_type": "stream",
     "text": [
      "57it [00:00, 425.37it/s]\n"
     ]
    },
    {
     "ename": "KeyboardInterrupt",
     "evalue": "",
     "output_type": "error",
     "traceback": [
      "\u001b[1;31m---------------------------------------------------------------------------\u001b[0m",
      "\u001b[1;31mKeyboardInterrupt\u001b[0m                         Traceback (most recent call last)",
      "\u001b[1;32md:\\project\\Bowel_Movement_Cleaness\\data_process_ver3_until10.ipynb 셀 25\u001b[0m in \u001b[0;36m<cell line: 2>\u001b[1;34m()\u001b[0m\n\u001b[0;32m      <a href='vscode-notebook-cell:/d%3A/project/Bowel_Movement_Cleaness/data_process_ver3_until10.ipynb#X33sZmlsZQ%3D%3D?line=7'>8</a>\u001b[0m     copy_from \u001b[39m=\u001b[39m os\u001b[39m.\u001b[39mpath\u001b[39m.\u001b[39mjoin(DATASET_PATH, folders[\u001b[39m2\u001b[39m], val[\u001b[39m'\u001b[39m\u001b[39morigin_name\u001b[39m\u001b[39m'\u001b[39m])\n\u001b[0;32m      <a href='vscode-notebook-cell:/d%3A/project/Bowel_Movement_Cleaness/data_process_ver3_until10.ipynb#X33sZmlsZQ%3D%3D?line=8'>9</a>\u001b[0m copy_to \u001b[39m=\u001b[39m NEW_PATH \u001b[39m+\u001b[39m \u001b[39mf\u001b[39m\u001b[39m'\u001b[39m\u001b[39m/\u001b[39m\u001b[39m{\u001b[39;00midx\u001b[39m:\u001b[39;00m\u001b[39m04\u001b[39m\u001b[39m}\u001b[39;00m\u001b[39m.jpg\u001b[39m\u001b[39m'\u001b[39m\n\u001b[1;32m---> <a href='vscode-notebook-cell:/d%3A/project/Bowel_Movement_Cleaness/data_process_ver3_until10.ipynb#X33sZmlsZQ%3D%3D?line=9'>10</a>\u001b[0m shutil\u001b[39m.\u001b[39;49mcopyfile(copy_from \u001b[39m+\u001b[39;49m \u001b[39m\"\u001b[39;49m\u001b[39m.jpg\u001b[39;49m\u001b[39m\"\u001b[39;49m, copy_to)\n",
      "File \u001b[1;32mc:\\Users\\USER\\anaconda4\\envs\\bmc\\lib\\shutil.py:243\u001b[0m, in \u001b[0;36mcopyfile\u001b[1;34m(src, dst, follow_symlinks)\u001b[0m\n\u001b[0;32m    235\u001b[0m \u001b[39m\"\"\"Copy data from src to dst in the most efficient way possible.\u001b[39;00m\n\u001b[0;32m    236\u001b[0m \n\u001b[0;32m    237\u001b[0m \u001b[39mIf follow_symlinks is not set and src is a symbolic link, a new\u001b[39;00m\n\u001b[0;32m    238\u001b[0m \u001b[39msymlink will be created instead of copying the file it points to.\u001b[39;00m\n\u001b[0;32m    239\u001b[0m \n\u001b[0;32m    240\u001b[0m \u001b[39m\"\"\"\u001b[39;00m\n\u001b[0;32m    241\u001b[0m sys\u001b[39m.\u001b[39maudit(\u001b[39m\"\u001b[39m\u001b[39mshutil.copyfile\u001b[39m\u001b[39m\"\u001b[39m, src, dst)\n\u001b[1;32m--> 243\u001b[0m \u001b[39mif\u001b[39;00m _samefile(src, dst):\n\u001b[0;32m    244\u001b[0m     \u001b[39mraise\u001b[39;00m SameFileError(\u001b[39m\"\u001b[39m\u001b[39m{!r}\u001b[39;00m\u001b[39m and \u001b[39m\u001b[39m{!r}\u001b[39;00m\u001b[39m are the same file\u001b[39m\u001b[39m\"\u001b[39m\u001b[39m.\u001b[39mformat(src, dst))\n\u001b[0;32m    246\u001b[0m file_size \u001b[39m=\u001b[39m \u001b[39m0\u001b[39m\n",
      "File \u001b[1;32mc:\\Users\\USER\\anaconda4\\envs\\bmc\\lib\\shutil.py:220\u001b[0m, in \u001b[0;36m_samefile\u001b[1;34m(src, dst)\u001b[0m\n\u001b[0;32m    218\u001b[0m \u001b[39mif\u001b[39;00m \u001b[39mhasattr\u001b[39m(os\u001b[39m.\u001b[39mpath, \u001b[39m'\u001b[39m\u001b[39msamefile\u001b[39m\u001b[39m'\u001b[39m):\n\u001b[0;32m    219\u001b[0m     \u001b[39mtry\u001b[39;00m:\n\u001b[1;32m--> 220\u001b[0m         \u001b[39mreturn\u001b[39;00m os\u001b[39m.\u001b[39;49mpath\u001b[39m.\u001b[39;49msamefile(src, dst)\n\u001b[0;32m    221\u001b[0m     \u001b[39mexcept\u001b[39;00m \u001b[39mOSError\u001b[39;00m:\n\u001b[0;32m    222\u001b[0m         \u001b[39mreturn\u001b[39;00m \u001b[39mFalse\u001b[39;00m\n",
      "File \u001b[1;32mc:\\Users\\USER\\anaconda4\\envs\\bmc\\lib\\genericpath.py:100\u001b[0m, in \u001b[0;36msamefile\u001b[1;34m(f1, f2)\u001b[0m\n\u001b[0;32m     94\u001b[0m \u001b[39mdef\u001b[39;00m \u001b[39msamefile\u001b[39m(f1, f2):\n\u001b[0;32m     95\u001b[0m     \u001b[39m\"\"\"Test whether two pathnames reference the same actual file or directory\u001b[39;00m\n\u001b[0;32m     96\u001b[0m \n\u001b[0;32m     97\u001b[0m \u001b[39m    This is determined by the device number and i-node number and\u001b[39;00m\n\u001b[0;32m     98\u001b[0m \u001b[39m    raises an exception if an os.stat() call on either pathname fails.\u001b[39;00m\n\u001b[0;32m     99\u001b[0m \u001b[39m    \"\"\"\u001b[39;00m\n\u001b[1;32m--> 100\u001b[0m     s1 \u001b[39m=\u001b[39m os\u001b[39m.\u001b[39;49mstat(f1)\n\u001b[0;32m    101\u001b[0m     s2 \u001b[39m=\u001b[39m os\u001b[39m.\u001b[39mstat(f2)\n\u001b[0;32m    102\u001b[0m     \u001b[39mreturn\u001b[39;00m samestat(s1, s2)\n",
      "\u001b[1;31mKeyboardInterrupt\u001b[0m: "
     ]
    }
   ],
   "source": [
    "folders = os.listdir(DATASET_PATH)\n",
    "for idx, val in tqdm(df.iterrows()):\n",
    "    if(val[\"color\"] == 0):\n",
    "        copy_from = os.path.join(DATASET_PATH, folders[0], val['origin_name'])\n",
    "    elif(val[\"color\"] == 1):\n",
    "        copy_from = os.path.join(DATASET_PATH, folders[1], val['origin_name'])\n",
    "    else:\n",
    "        copy_from = os.path.join(DATASET_PATH, folders[2], val['origin_name'])\n",
    "    copy_to = NEW_PATH + f'/{idx:04}.jpg'\n",
    "    shutil.copyfile(copy_from + \".jpg\", copy_to)\n",
    "    #copy_to = NEW_PATH + f'/{idx:04}.json'\n",
    "    #shutil.copyfile(copy_from + \".json\", copy_to)"
   ]
  },
  {
   "cell_type": "markdown",
   "id": "0a8c0ecf",
   "metadata": {},
   "source": [
    "### json 수정"
   ]
  },
  {
   "cell_type": "code",
   "execution_count": 48,
   "id": "2048bc78",
   "metadata": {},
   "outputs": [
    {
     "name": "stderr",
     "output_type": "stream",
     "text": [
      "0it [00:00, ?it/s]\n"
     ]
    }
   ],
   "source": [
    "bmc_json = glob(NEW_PATH + '*.json')\n",
    "\n",
    "for idx, val in tqdm(enumerate(bmc_json)):\n",
    "    with open(val, 'r', encoding='utf-8') as f:\n",
    "        json_data = json.load(f)\n",
    "    \n",
    "    json_data[\"imagePath\"] = val[-9:-5] + '.jpg'\n",
    "    json_data[\"imagePath\"] = val[-9:-5] + '.jpg'\n",
    "    json_data[\"shapes\"][0][\"label\"] = str(df.iloc[idx][\"label\"])\n",
    "    \n",
    "    with open(val, 'w', encoding='utf-8') as f:\n",
    "        json.dump(json_data, f, indent=\"\\t\")"
   ]
  },
  {
   "cell_type": "markdown",
   "id": "aa77aaf4",
   "metadata": {},
   "source": [
    "### labelme to coco format (for fiftyone)"
   ]
  },
  {
   "cell_type": "code",
   "execution_count": 49,
   "id": "21f77c60",
   "metadata": {},
   "outputs": [
    {
     "name": "stdout",
     "output_type": "stream",
     "text": [
      "There are 0 listed files in folder ./data/bmc_label_05-10/.\n"
     ]
    },
    {
     "name": "stderr",
     "output_type": "stream",
     "text": [
      "Converting labelme annotations to COCO format: 0it [00:00, ?it/s]\n",
      "12/12/2022 11:42:51 - INFO - labelme2coco -   Converted annotations in COCO format is exported to data\\dataset05-10\\dataset.json\n"
     ]
    }
   ],
   "source": [
    "# import package\n",
    "import labelme2coco\n",
    "\n",
    "# set directory that contains labelme annotations and image files\n",
    "labelme_folder = \"./data/bmc_label_until-10/\"\n",
    "\n",
    "# set export dir\n",
    "export_dir = \"./data/dataset05-10\"\n",
    "\n",
    "# set train split rate\n",
    "train_split_rate = 0.85\n",
    "\n",
    "# convert labelme annotations to coco\n",
    "labelme2coco.convert(labelme_folder, export_dir)#, train_split_rate)"
   ]
  },
  {
   "cell_type": "code",
   "execution_count": 50,
   "id": "2c5ce7bd",
   "metadata": {},
   "outputs": [
    {
     "name": "stderr",
     "output_type": "stream",
     "text": [
      "python: can't open file 'd:\\project\\Bowel_Movement_Cleaness\\labelme2voc.py': [Errno 2] No such file or directory\n"
     ]
    }
   ],
   "source": [
    "!python ./labelme2voc.py C:\\Users\\mai\\Bowel_Movement_Cleaness\\data\\bmc_label_05-10 C:\\Users\\mai\\Bowel_Movement_Cleaness\\data\\bmc_label_05-10_voc --labels labels.txt"
   ]
  }
 ],
 "metadata": {
  "kernelspec": {
   "display_name": "Python 3.9.13 ('bmc')",
   "language": "python",
   "name": "python3"
  },
  "language_info": {
   "codemirror_mode": {
    "name": "ipython",
    "version": 3
   },
   "file_extension": ".py",
   "mimetype": "text/x-python",
   "name": "python",
   "nbconvert_exporter": "python",
   "pygments_lexer": "ipython3",
   "version": "3.9.13"
  },
  "toc": {
   "base_numbering": 1,
   "nav_menu": {},
   "number_sections": true,
   "sideBar": true,
   "skip_h1_title": false,
   "title_cell": "Table of Contents",
   "title_sidebar": "Contents",
   "toc_cell": false,
   "toc_position": {},
   "toc_section_display": true,
   "toc_window_display": false
  },
  "vscode": {
   "interpreter": {
    "hash": "091e73c5e15df28bd73063e1905a4bad764ae5a5009f711fc664069592307726"
   }
  }
 },
 "nbformat": 4,
 "nbformat_minor": 5
}
